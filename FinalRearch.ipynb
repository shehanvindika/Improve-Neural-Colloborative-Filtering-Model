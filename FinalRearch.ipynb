{
  "cells": [
    {
      "cell_type": "markdown",
      "id": "210d38b7",
      "metadata": {
        "id": "210d38b7"
      },
      "source": [
        "# Improve Recommendation System"
      ]
    },
    {
      "cell_type": "code",
      "execution_count": 2,
      "id": "IHI2nOCxkwfk",
      "metadata": {
        "colab": {
          "base_uri": "https://localhost:8080/"
        },
        "id": "IHI2nOCxkwfk",
        "outputId": "a291905b-7c64-452d-be0b-bee505fdeb3b"
      },
      "outputs": [
        {
          "output_type": "stream",
          "name": "stdout",
          "text": [
            "Mounted at /content/drive\n"
          ]
        }
      ],
      "source": [
        "from google.colab import drive\n",
        "drive.mount('/content/drive')"
      ]
    },
    {
      "cell_type": "markdown",
      "id": "e2b12c98",
      "metadata": {
        "id": "e2b12c98"
      },
      "source": [
        "## Import Libraries"
      ]
    },
    {
      "cell_type": "code",
      "execution_count": 3,
      "id": "1cc68c0b",
      "metadata": {
        "id": "1cc68c0b"
      },
      "outputs": [],
      "source": [
        "import numpy as np\n",
        "import pandas as pd\n",
        "import matplotlib.pyplot as plt\n",
        "import seaborn as sns\n",
        "from datetime import datetime\n",
        "from sklearn.model_selection import cross_val_score"
      ]
    },
    {
      "cell_type": "markdown",
      "id": "9cd96672",
      "metadata": {
        "id": "9cd96672"
      },
      "source": [
        "## Import Dataset"
      ]
    },
    {
      "cell_type": "markdown",
      "id": "BJcT0kmq0N3c",
      "metadata": {
        "id": "BJcT0kmq0N3c"
      },
      "source": [
        "###Movielenz Dataset"
      ]
    },
    {
      "cell_type": "code",
      "execution_count": 4,
      "id": "ed5e7196",
      "metadata": {
        "id": "ed5e7196"
      },
      "outputs": [],
      "source": [
        "moviesDataset = pd.read_csv('/content/drive/MyDrive/Dataset/Movielenz/movies.dat',encoding='latin-1',delimiter='::',engine='python')\n",
        "usersDataset = pd.read_csv('/content/drive/MyDrive/Dataset/Movielenz/users.dat',encoding='latin-1',delimiter='::',engine='python')\n",
        "ratingsDataset = pd.read_csv('/content/drive/MyDrive/Dataset/Movielenz/ratings.dat',encoding='latin-1',delimiter='::',engine='python')\n",
        "pd.set_option('display.max_columns', None)"
      ]
    },
    {
      "cell_type": "markdown",
      "id": "0de4f954",
      "metadata": {
        "id": "0de4f954"
      },
      "source": [
        "## Data Cleaning"
      ]
    },
    {
      "cell_type": "markdown",
      "id": "2a83c668",
      "metadata": {
        "id": "2a83c668"
      },
      "source": [
        "### Set Column Names"
      ]
    },
    {
      "cell_type": "code",
      "execution_count": 5,
      "id": "47e6a227",
      "metadata": {
        "id": "47e6a227"
      },
      "outputs": [],
      "source": [
        "moviesDataset.columns = ['MovieId','MovieTitle','Genres']"
      ]
    },
    {
      "cell_type": "code",
      "execution_count": 6,
      "id": "39db8e8f",
      "metadata": {
        "id": "39db8e8f"
      },
      "outputs": [],
      "source": [
        "usersDataset.columns = ['UserID','Gender','Age','Occupation','Zip-code']"
      ]
    },
    {
      "cell_type": "code",
      "execution_count": 7,
      "id": "3c9d38ac",
      "metadata": {
        "id": "3c9d38ac"
      },
      "outputs": [],
      "source": [
        "ratingsDataset.columns = ['UserID','MovieID','Rating','Timestamp']"
      ]
    },
    {
      "cell_type": "markdown",
      "id": "f7fdfcba",
      "metadata": {
        "id": "f7fdfcba"
      },
      "source": [
        "### Check Null values"
      ]
    },
    {
      "cell_type": "code",
      "execution_count": 8,
      "id": "c79fd572",
      "metadata": {
        "colab": {
          "base_uri": "https://localhost:8080/"
        },
        "id": "c79fd572",
        "outputId": "7e030079-883f-4a64-afc4-dbf9395aef0b"
      },
      "outputs": [
        {
          "output_type": "stream",
          "name": "stdout",
          "text": [
            "Empty DataFrame\n",
            "Columns: [MovieId, MovieTitle, Genres]\n",
            "Index: []\n"
          ]
        }
      ],
      "source": [
        "row_nulls_movies = moviesDataset.isnull().any(axis=1)\n",
        "rows_with_nulls = moviesDataset[row_nulls_movies]\n",
        "print(rows_with_nulls)"
      ]
    },
    {
      "cell_type": "code",
      "execution_count": 9,
      "id": "8e9d9fcf",
      "metadata": {
        "colab": {
          "base_uri": "https://localhost:8080/"
        },
        "id": "8e9d9fcf",
        "outputId": "66f72707-932c-43f8-8688-c5b74879ad14"
      },
      "outputs": [
        {
          "output_type": "stream",
          "name": "stdout",
          "text": [
            "Empty DataFrame\n",
            "Columns: [UserID, Gender, Age, Occupation, Zip-code]\n",
            "Index: []\n"
          ]
        }
      ],
      "source": [
        "row_nulls_users = usersDataset.isnull().any(axis=1)\n",
        "rows_with_nulls = usersDataset[row_nulls_users]\n",
        "print(rows_with_nulls)"
      ]
    },
    {
      "cell_type": "code",
      "execution_count": 10,
      "id": "7af24011",
      "metadata": {
        "colab": {
          "base_uri": "https://localhost:8080/"
        },
        "id": "7af24011",
        "outputId": "ad2dcf76-9526-413e-d0c3-5204b537e904"
      },
      "outputs": [
        {
          "output_type": "stream",
          "name": "stdout",
          "text": [
            "Empty DataFrame\n",
            "Columns: [UserID, MovieID, Rating, Timestamp]\n",
            "Index: []\n"
          ]
        }
      ],
      "source": [
        "row_nulls_ratings = ratingsDataset.isnull().any(axis=1)\n",
        "rows_with_nulls = ratingsDataset[row_nulls_ratings]\n",
        "print(rows_with_nulls)"
      ]
    },
    {
      "cell_type": "markdown",
      "id": "b45775e3",
      "metadata": {
        "id": "b45775e3"
      },
      "source": [
        "### Check Duplicate Rows"
      ]
    },
    {
      "cell_type": "code",
      "execution_count": 11,
      "id": "a0e5be24",
      "metadata": {
        "colab": {
          "base_uri": "https://localhost:8080/"
        },
        "id": "a0e5be24",
        "outputId": "2a607e32-2644-4540-b183-72c41d2cb780"
      },
      "outputs": [
        {
          "output_type": "stream",
          "name": "stdout",
          "text": [
            "No duplicate rows found .\n"
          ]
        }
      ],
      "source": [
        "duplicated_rows_in_movies = moviesDataset[moviesDataset.duplicated()]\n",
        "if duplicated_rows_in_movies.empty :\n",
        "    print(\"No duplicate rows found .\")\n",
        "else:\n",
        "    print(\"Duplicate rows found .\")"
      ]
    },
    {
      "cell_type": "code",
      "execution_count": 12,
      "id": "05863d53",
      "metadata": {
        "colab": {
          "base_uri": "https://localhost:8080/"
        },
        "id": "05863d53",
        "outputId": "f1ec0a14-2aac-4261-d5ec-5cb37fdcaec9"
      },
      "outputs": [
        {
          "output_type": "stream",
          "name": "stdout",
          "text": [
            "No duplicate rows found .\n"
          ]
        }
      ],
      "source": [
        "duplicated_rows_in_users = usersDataset[usersDataset.duplicated()]\n",
        "if duplicated_rows_in_users.empty :\n",
        "    print(\"No duplicate rows found .\")\n",
        "else:\n",
        "    print(\"Duplicate rows found .\")"
      ]
    },
    {
      "cell_type": "code",
      "execution_count": 13,
      "id": "7a1d5f40",
      "metadata": {
        "colab": {
          "base_uri": "https://localhost:8080/"
        },
        "id": "7a1d5f40",
        "outputId": "5d295e51-885b-475c-8644-881c7940a256"
      },
      "outputs": [
        {
          "output_type": "stream",
          "name": "stdout",
          "text": [
            "No duplicate rows found .\n"
          ]
        }
      ],
      "source": [
        "duplicated_rows_in_Ratings = ratingsDataset[ratingsDataset.duplicated()]\n",
        "if duplicated_rows_in_Ratings.empty :\n",
        "    print(\"No duplicate rows found .\")\n",
        "else:\n",
        "    print(\"Duplicate rows found .\")"
      ]
    },
    {
      "cell_type": "markdown",
      "id": "0c7553b5",
      "metadata": {
        "id": "0c7553b5"
      },
      "source": [
        "### One Hot Encoding Gender column"
      ]
    },
    {
      "cell_type": "code",
      "execution_count": 14,
      "id": "2a78e05e",
      "metadata": {
        "id": "2a78e05e"
      },
      "outputs": [],
      "source": [
        "from sklearn.preprocessing import LabelBinarizer\n",
        "gender_column = usersDataset['Gender']\n",
        "obj = LabelBinarizer()\n",
        "result_column = obj.fit_transform(gender_column)\n",
        "usersDataset['Male'] = result_column\n",
        "usersDataset['Female'] = 1-usersDataset['Male']\n",
        "columns_to_drop = ['Gender']\n",
        "usersDataset.drop(columns=columns_to_drop, inplace=True)"
      ]
    },
    {
      "cell_type": "markdown",
      "id": "efc9ede8",
      "metadata": {
        "id": "efc9ede8"
      },
      "source": [
        "### One Hot Encoding for Occupation Column"
      ]
    },
    {
      "cell_type": "code",
      "execution_count": 15,
      "id": "a823b61b",
      "metadata": {
        "id": "a823b61b"
      },
      "outputs": [],
      "source": [
        "from sklearn.preprocessing import LabelBinarizer\n",
        "occupation_column = usersDataset['Occupation']\n",
        "obj = LabelBinarizer()\n",
        "result_column = obj.fit_transform(occupation_column)\n",
        "result_df = pd.DataFrame(result_column)\n",
        "usersDataset = pd.concat([usersDataset, result_df], axis=1)\n",
        "\n",
        "new_column_names = {\n",
        "    0: 'Other',\n",
        "    1: 'Academic/Educator',\n",
        "    2: 'Artist',\n",
        "    3: 'Clerical/Admin',\n",
        "    4: 'College/Grad Student',\n",
        "    5: 'Customer Service',\n",
        "    6: 'Doctor/Health Care',\n",
        "    7: 'Executive/Managerial',\n",
        "    8: 'Farmer',\n",
        "    9: 'HomeMaker',\n",
        "    10: 'K-12 Student',\n",
        "    11: 'Lawyer',\n",
        "    12: 'Programmer',\n",
        "    13: 'Retired',\n",
        "    14: 'Sales/Marketing',\n",
        "    15: 'Scientist',\n",
        "    16: 'Self-Employed',\n",
        "    17: 'Technician/Engineer',\n",
        "    18: 'Tradesman/Craftsman',\n",
        "    19: 'Unemployed',\n",
        "    20: 'Writer'\n",
        "}\n",
        "\n",
        "usersDataset = usersDataset.rename(columns=new_column_names)\n"
      ]
    },
    {
      "cell_type": "code",
      "execution_count": 16,
      "id": "f9fa4923",
      "metadata": {
        "id": "f9fa4923"
      },
      "outputs": [],
      "source": [
        "columns_to_drop = ['Occupation','Zip-code']\n",
        "usersDataset.drop(columns=columns_to_drop, inplace=True)"
      ]
    },
    {
      "cell_type": "markdown",
      "id": "6317a33f",
      "metadata": {
        "id": "6317a33f"
      },
      "source": [
        "### One Hot Encoding for Age Column"
      ]
    },
    {
      "cell_type": "code",
      "execution_count": 17,
      "id": "6364057e",
      "metadata": {
        "id": "6364057e"
      },
      "outputs": [],
      "source": [
        "from sklearn.preprocessing import LabelBinarizer\n",
        "age_column = usersDataset['Age']\n",
        "obj = LabelBinarizer()\n",
        "result_column = obj.fit_transform(age_column)\n",
        "result_df = pd.DataFrame(result_column)\n",
        "usersDataset = pd.concat([usersDataset, result_df], axis=1)\n",
        "\n",
        "new_column_names = {\n",
        "    0: 'Under 18',\n",
        "    1: '18-24',\n",
        "    2: '25-34',\n",
        "    3: '35-44',\n",
        "    4: '45-49',\n",
        "    5: '50-55',\n",
        "    6: '56+'\n",
        "}\n",
        "\n",
        "usersDataset = usersDataset.rename(columns=new_column_names)\n"
      ]
    },
    {
      "cell_type": "code",
      "execution_count": 18,
      "id": "1d04ce25",
      "metadata": {
        "id": "1d04ce25"
      },
      "outputs": [],
      "source": [
        "columns_to_drop = ['Age']\n",
        "usersDataset.drop(columns=columns_to_drop, inplace=True)"
      ]
    },
    {
      "cell_type": "markdown",
      "id": "eead793c",
      "metadata": {
        "id": "eead793c"
      },
      "source": [
        "### Split Film Title and Year"
      ]
    },
    {
      "cell_type": "code",
      "execution_count": 19,
      "id": "0b9a985e",
      "metadata": {
        "id": "0b9a985e"
      },
      "outputs": [],
      "source": [
        "moviesDataset[['Title', 'Year']] = moviesDataset['MovieTitle'].str.extract(r'(.+)\\s\\((\\d{4})\\)')"
      ]
    },
    {
      "cell_type": "code",
      "execution_count": 20,
      "id": "799051f0",
      "metadata": {
        "id": "799051f0"
      },
      "outputs": [],
      "source": [
        "columns_to_drop = ['MovieTitle']\n",
        "moviesDataset.drop(columns=columns_to_drop, inplace=True)"
      ]
    },
    {
      "cell_type": "markdown",
      "id": "ed4fe136",
      "metadata": {
        "id": "ed4fe136"
      },
      "source": [
        "### Genres Splits to Movie Type"
      ]
    },
    {
      "cell_type": "code",
      "execution_count": 21,
      "id": "7ce47351",
      "metadata": {
        "colab": {
          "base_uri": "https://localhost:8080/",
          "height": 241
        },
        "id": "7ce47351",
        "outputId": "33cc83b8-4cbd-4b3e-9208-d52afb871b7e"
      },
      "outputs": [
        {
          "output_type": "execute_result",
          "data": {
            "text/plain": [
              "0    Adventure|Children's|Fantasy\n",
              "1                  Comedy|Romance\n",
              "2                    Comedy|Drama\n",
              "3                          Comedy\n",
              "4           Action|Crime|Thriller\n",
              "Name: Genres, dtype: object"
            ],
            "text/html": [
              "<div>\n",
              "<style scoped>\n",
              "    .dataframe tbody tr th:only-of-type {\n",
              "        vertical-align: middle;\n",
              "    }\n",
              "\n",
              "    .dataframe tbody tr th {\n",
              "        vertical-align: top;\n",
              "    }\n",
              "\n",
              "    .dataframe thead th {\n",
              "        text-align: right;\n",
              "    }\n",
              "</style>\n",
              "<table border=\"1\" class=\"dataframe\">\n",
              "  <thead>\n",
              "    <tr style=\"text-align: right;\">\n",
              "      <th></th>\n",
              "      <th>Genres</th>\n",
              "    </tr>\n",
              "  </thead>\n",
              "  <tbody>\n",
              "    <tr>\n",
              "      <th>0</th>\n",
              "      <td>Adventure|Children's|Fantasy</td>\n",
              "    </tr>\n",
              "    <tr>\n",
              "      <th>1</th>\n",
              "      <td>Comedy|Romance</td>\n",
              "    </tr>\n",
              "    <tr>\n",
              "      <th>2</th>\n",
              "      <td>Comedy|Drama</td>\n",
              "    </tr>\n",
              "    <tr>\n",
              "      <th>3</th>\n",
              "      <td>Comedy</td>\n",
              "    </tr>\n",
              "    <tr>\n",
              "      <th>4</th>\n",
              "      <td>Action|Crime|Thriller</td>\n",
              "    </tr>\n",
              "  </tbody>\n",
              "</table>\n",
              "</div><br><label><b>dtype:</b> object</label>"
            ]
          },
          "metadata": {},
          "execution_count": 21
        }
      ],
      "source": [
        "moviesDataset['Genres'].head()"
      ]
    },
    {
      "cell_type": "code",
      "execution_count": 22,
      "id": "7c84c8b2",
      "metadata": {
        "id": "7c84c8b2"
      },
      "outputs": [],
      "source": [
        "split_data = moviesDataset['Genres'].str.get_dummies(\"|\")"
      ]
    },
    {
      "cell_type": "code",
      "execution_count": 23,
      "id": "25a6e813",
      "metadata": {
        "id": "25a6e813"
      },
      "outputs": [],
      "source": [
        "moviesDataset = pd.concat([moviesDataset, split_data], axis=1)"
      ]
    },
    {
      "cell_type": "code",
      "execution_count": 24,
      "id": "97fa7951",
      "metadata": {
        "id": "97fa7951"
      },
      "outputs": [],
      "source": [
        "columns_to_drop = ['Genres']\n",
        "moviesDataset.drop(columns=columns_to_drop, inplace=True)"
      ]
    },
    {
      "cell_type": "markdown",
      "id": "9c5d1f54",
      "metadata": {
        "id": "9c5d1f54"
      },
      "source": [
        "### Scale Timestamp based on old and newest"
      ]
    },
    {
      "cell_type": "code",
      "execution_count": 25,
      "id": "64122e3c",
      "metadata": {
        "id": "64122e3c"
      },
      "outputs": [],
      "source": [
        "dateTime = pd.to_datetime(ratingsDataset['Timestamp'], unit='s')"
      ]
    },
    {
      "cell_type": "code",
      "execution_count": 26,
      "id": "6235c4ec",
      "metadata": {
        "id": "6235c4ec",
        "scrolled": true,
        "colab": {
          "base_uri": "https://localhost:8080/"
        },
        "outputId": "326b1947-13ee-44b4-b261-b1dc11518f57"
      },
      "outputs": [
        {
          "output_type": "stream",
          "name": "stderr",
          "text": [
            "<ipython-input-26-6a5a7078dd30>:3: FutureWarning: 'H' is deprecated and will be removed in a future version, please use 'h' instead.\n",
            "  ratingsDataset['ratedTime'] = dateTime.dt.round('H').dt.time\n"
          ]
        }
      ],
      "source": [
        "ratingsDataset['ratedDate'] = dateTime.dt.date\n",
        "#ratingsDataset['Time'] = dateTime.dt.time\n",
        "ratingsDataset['ratedTime'] = dateTime.dt.round('H').dt.time\n",
        "#ratingsDataset['ratedTime'] = ratingsDataset['ratedTime'].dt.round('H')"
      ]
    },
    {
      "cell_type": "code",
      "execution_count": 27,
      "id": "a5d5e88d",
      "metadata": {
        "id": "a5d5e88d"
      },
      "outputs": [],
      "source": [
        "columns_to_drop = ['Timestamp']\n",
        "ratingsDataset.drop(columns=columns_to_drop, inplace=True)"
      ]
    },
    {
      "cell_type": "markdown",
      "id": "a3ad533b",
      "metadata": {
        "id": "a3ad533b"
      },
      "source": [
        "### Join Datasets"
      ]
    },
    {
      "cell_type": "code",
      "execution_count": 28,
      "id": "3965a8cb",
      "metadata": {
        "id": "3965a8cb"
      },
      "outputs": [],
      "source": [
        "merged_df = pd.merge(ratingsDataset, usersDataset, on='UserID')"
      ]
    },
    {
      "cell_type": "markdown",
      "id": "820b4e4d",
      "metadata": {
        "id": "820b4e4d"
      },
      "source": [
        "### Show Joins"
      ]
    },
    {
      "cell_type": "code",
      "execution_count": 29,
      "id": "3ed88d6e",
      "metadata": {
        "colab": {
          "base_uri": "https://localhost:8080/",
          "height": 1000
        },
        "id": "3ed88d6e",
        "outputId": "c174491d-5fc1-4cae-ba8e-e3a387a4525b"
      },
      "outputs": [
        {
          "output_type": "execute_result",
          "data": {
            "text/plain": [
              "    UserID  MovieID  Rating   ratedDate ratedTime  Male  Female  Other  \\\n",
              "0        2     1357       5  2000-12-31  22:00:00     1       0      0   \n",
              "1        2     3068       4  2000-12-31  22:00:00     1       0      0   \n",
              "2        2     1537       4  2000-12-31  22:00:00     1       0      0   \n",
              "3        2      647       3  2000-12-31  22:00:00     1       0      0   \n",
              "4        2     2194       4  2000-12-31  22:00:00     1       0      0   \n",
              "5        2      648       4  2000-12-31  22:00:00     1       0      0   \n",
              "6        2     2268       5  2000-12-31  22:00:00     1       0      0   \n",
              "7        2     2628       3  2000-12-31  22:00:00     1       0      0   \n",
              "8        2     1103       3  2000-12-31  22:00:00     1       0      0   \n",
              "9        2     2916       3  2000-12-31  22:00:00     1       0      0   \n",
              "10       2     3468       5  2000-12-31  22:00:00     1       0      0   \n",
              "11       2     1210       4  2000-12-31  21:00:00     1       0      0   \n",
              "12       2     1792       3  2000-12-31  22:00:00     1       0      0   \n",
              "13       2     1687       3  2000-12-31  22:00:00     1       0      0   \n",
              "14       2     1213       2  2000-12-31  22:00:00     1       0      0   \n",
              "15       2     3578       5  2000-12-31  22:00:00     1       0      0   \n",
              "16       2     2881       3  2000-12-31  22:00:00     1       0      0   \n",
              "17       2     3030       4  2000-12-31  22:00:00     1       0      0   \n",
              "18       2     1217       3  2000-12-31  21:00:00     1       0      0   \n",
              "19       2     3105       4  2000-12-31  22:00:00     1       0      0   \n",
              "\n",
              "    Academic/Educator  Artist  Clerical/Admin  College/Grad Student  \\\n",
              "0                   0       0               0                     0   \n",
              "1                   0       0               0                     0   \n",
              "2                   0       0               0                     0   \n",
              "3                   0       0               0                     0   \n",
              "4                   0       0               0                     0   \n",
              "5                   0       0               0                     0   \n",
              "6                   0       0               0                     0   \n",
              "7                   0       0               0                     0   \n",
              "8                   0       0               0                     0   \n",
              "9                   0       0               0                     0   \n",
              "10                  0       0               0                     0   \n",
              "11                  0       0               0                     0   \n",
              "12                  0       0               0                     0   \n",
              "13                  0       0               0                     0   \n",
              "14                  0       0               0                     0   \n",
              "15                  0       0               0                     0   \n",
              "16                  0       0               0                     0   \n",
              "17                  0       0               0                     0   \n",
              "18                  0       0               0                     0   \n",
              "19                  0       0               0                     0   \n",
              "\n",
              "    Customer Service  Doctor/Health Care  Executive/Managerial  Farmer  \\\n",
              "0                  0                   0                     0       0   \n",
              "1                  0                   0                     0       0   \n",
              "2                  0                   0                     0       0   \n",
              "3                  0                   0                     0       0   \n",
              "4                  0                   0                     0       0   \n",
              "5                  0                   0                     0       0   \n",
              "6                  0                   0                     0       0   \n",
              "7                  0                   0                     0       0   \n",
              "8                  0                   0                     0       0   \n",
              "9                  0                   0                     0       0   \n",
              "10                 0                   0                     0       0   \n",
              "11                 0                   0                     0       0   \n",
              "12                 0                   0                     0       0   \n",
              "13                 0                   0                     0       0   \n",
              "14                 0                   0                     0       0   \n",
              "15                 0                   0                     0       0   \n",
              "16                 0                   0                     0       0   \n",
              "17                 0                   0                     0       0   \n",
              "18                 0                   0                     0       0   \n",
              "19                 0                   0                     0       0   \n",
              "\n",
              "    HomeMaker  K-12 Student  Lawyer  Programmer  Retired  Sales/Marketing  \\\n",
              "0           0             0       0           0        0                0   \n",
              "1           0             0       0           0        0                0   \n",
              "2           0             0       0           0        0                0   \n",
              "3           0             0       0           0        0                0   \n",
              "4           0             0       0           0        0                0   \n",
              "5           0             0       0           0        0                0   \n",
              "6           0             0       0           0        0                0   \n",
              "7           0             0       0           0        0                0   \n",
              "8           0             0       0           0        0                0   \n",
              "9           0             0       0           0        0                0   \n",
              "10          0             0       0           0        0                0   \n",
              "11          0             0       0           0        0                0   \n",
              "12          0             0       0           0        0                0   \n",
              "13          0             0       0           0        0                0   \n",
              "14          0             0       0           0        0                0   \n",
              "15          0             0       0           0        0                0   \n",
              "16          0             0       0           0        0                0   \n",
              "17          0             0       0           0        0                0   \n",
              "18          0             0       0           0        0                0   \n",
              "19          0             0       0           0        0                0   \n",
              "\n",
              "    Scientist  Self-Employed  Technician/Engineer  Tradesman/Craftsman  \\\n",
              "0           0              1                    0                    0   \n",
              "1           0              1                    0                    0   \n",
              "2           0              1                    0                    0   \n",
              "3           0              1                    0                    0   \n",
              "4           0              1                    0                    0   \n",
              "5           0              1                    0                    0   \n",
              "6           0              1                    0                    0   \n",
              "7           0              1                    0                    0   \n",
              "8           0              1                    0                    0   \n",
              "9           0              1                    0                    0   \n",
              "10          0              1                    0                    0   \n",
              "11          0              1                    0                    0   \n",
              "12          0              1                    0                    0   \n",
              "13          0              1                    0                    0   \n",
              "14          0              1                    0                    0   \n",
              "15          0              1                    0                    0   \n",
              "16          0              1                    0                    0   \n",
              "17          0              1                    0                    0   \n",
              "18          0              1                    0                    0   \n",
              "19          0              1                    0                    0   \n",
              "\n",
              "    Unemployed  Writer  Under 18  18-24  25-34  35-44  45-49  50-55  56+  \n",
              "0            0       0         0      0      0      0      0      0    1  \n",
              "1            0       0         0      0      0      0      0      0    1  \n",
              "2            0       0         0      0      0      0      0      0    1  \n",
              "3            0       0         0      0      0      0      0      0    1  \n",
              "4            0       0         0      0      0      0      0      0    1  \n",
              "5            0       0         0      0      0      0      0      0    1  \n",
              "6            0       0         0      0      0      0      0      0    1  \n",
              "7            0       0         0      0      0      0      0      0    1  \n",
              "8            0       0         0      0      0      0      0      0    1  \n",
              "9            0       0         0      0      0      0      0      0    1  \n",
              "10           0       0         0      0      0      0      0      0    1  \n",
              "11           0       0         0      0      0      0      0      0    1  \n",
              "12           0       0         0      0      0      0      0      0    1  \n",
              "13           0       0         0      0      0      0      0      0    1  \n",
              "14           0       0         0      0      0      0      0      0    1  \n",
              "15           0       0         0      0      0      0      0      0    1  \n",
              "16           0       0         0      0      0      0      0      0    1  \n",
              "17           0       0         0      0      0      0      0      0    1  \n",
              "18           0       0         0      0      0      0      0      0    1  \n",
              "19           0       0         0      0      0      0      0      0    1  "
            ],
            "text/html": [
              "\n",
              "  <div id=\"df-12ec6d6a-c156-48ac-9ae5-7fd176c571ed\" class=\"colab-df-container\">\n",
              "    <div>\n",
              "<style scoped>\n",
              "    .dataframe tbody tr th:only-of-type {\n",
              "        vertical-align: middle;\n",
              "    }\n",
              "\n",
              "    .dataframe tbody tr th {\n",
              "        vertical-align: top;\n",
              "    }\n",
              "\n",
              "    .dataframe thead th {\n",
              "        text-align: right;\n",
              "    }\n",
              "</style>\n",
              "<table border=\"1\" class=\"dataframe\">\n",
              "  <thead>\n",
              "    <tr style=\"text-align: right;\">\n",
              "      <th></th>\n",
              "      <th>UserID</th>\n",
              "      <th>MovieID</th>\n",
              "      <th>Rating</th>\n",
              "      <th>ratedDate</th>\n",
              "      <th>ratedTime</th>\n",
              "      <th>Male</th>\n",
              "      <th>Female</th>\n",
              "      <th>Other</th>\n",
              "      <th>Academic/Educator</th>\n",
              "      <th>Artist</th>\n",
              "      <th>Clerical/Admin</th>\n",
              "      <th>College/Grad Student</th>\n",
              "      <th>Customer Service</th>\n",
              "      <th>Doctor/Health Care</th>\n",
              "      <th>Executive/Managerial</th>\n",
              "      <th>Farmer</th>\n",
              "      <th>HomeMaker</th>\n",
              "      <th>K-12 Student</th>\n",
              "      <th>Lawyer</th>\n",
              "      <th>Programmer</th>\n",
              "      <th>Retired</th>\n",
              "      <th>Sales/Marketing</th>\n",
              "      <th>Scientist</th>\n",
              "      <th>Self-Employed</th>\n",
              "      <th>Technician/Engineer</th>\n",
              "      <th>Tradesman/Craftsman</th>\n",
              "      <th>Unemployed</th>\n",
              "      <th>Writer</th>\n",
              "      <th>Under 18</th>\n",
              "      <th>18-24</th>\n",
              "      <th>25-34</th>\n",
              "      <th>35-44</th>\n",
              "      <th>45-49</th>\n",
              "      <th>50-55</th>\n",
              "      <th>56+</th>\n",
              "    </tr>\n",
              "  </thead>\n",
              "  <tbody>\n",
              "    <tr>\n",
              "      <th>0</th>\n",
              "      <td>2</td>\n",
              "      <td>1357</td>\n",
              "      <td>5</td>\n",
              "      <td>2000-12-31</td>\n",
              "      <td>22:00:00</td>\n",
              "      <td>1</td>\n",
              "      <td>0</td>\n",
              "      <td>0</td>\n",
              "      <td>0</td>\n",
              "      <td>0</td>\n",
              "      <td>0</td>\n",
              "      <td>0</td>\n",
              "      <td>0</td>\n",
              "      <td>0</td>\n",
              "      <td>0</td>\n",
              "      <td>0</td>\n",
              "      <td>0</td>\n",
              "      <td>0</td>\n",
              "      <td>0</td>\n",
              "      <td>0</td>\n",
              "      <td>0</td>\n",
              "      <td>0</td>\n",
              "      <td>0</td>\n",
              "      <td>1</td>\n",
              "      <td>0</td>\n",
              "      <td>0</td>\n",
              "      <td>0</td>\n",
              "      <td>0</td>\n",
              "      <td>0</td>\n",
              "      <td>0</td>\n",
              "      <td>0</td>\n",
              "      <td>0</td>\n",
              "      <td>0</td>\n",
              "      <td>0</td>\n",
              "      <td>1</td>\n",
              "    </tr>\n",
              "    <tr>\n",
              "      <th>1</th>\n",
              "      <td>2</td>\n",
              "      <td>3068</td>\n",
              "      <td>4</td>\n",
              "      <td>2000-12-31</td>\n",
              "      <td>22:00:00</td>\n",
              "      <td>1</td>\n",
              "      <td>0</td>\n",
              "      <td>0</td>\n",
              "      <td>0</td>\n",
              "      <td>0</td>\n",
              "      <td>0</td>\n",
              "      <td>0</td>\n",
              "      <td>0</td>\n",
              "      <td>0</td>\n",
              "      <td>0</td>\n",
              "      <td>0</td>\n",
              "      <td>0</td>\n",
              "      <td>0</td>\n",
              "      <td>0</td>\n",
              "      <td>0</td>\n",
              "      <td>0</td>\n",
              "      <td>0</td>\n",
              "      <td>0</td>\n",
              "      <td>1</td>\n",
              "      <td>0</td>\n",
              "      <td>0</td>\n",
              "      <td>0</td>\n",
              "      <td>0</td>\n",
              "      <td>0</td>\n",
              "      <td>0</td>\n",
              "      <td>0</td>\n",
              "      <td>0</td>\n",
              "      <td>0</td>\n",
              "      <td>0</td>\n",
              "      <td>1</td>\n",
              "    </tr>\n",
              "    <tr>\n",
              "      <th>2</th>\n",
              "      <td>2</td>\n",
              "      <td>1537</td>\n",
              "      <td>4</td>\n",
              "      <td>2000-12-31</td>\n",
              "      <td>22:00:00</td>\n",
              "      <td>1</td>\n",
              "      <td>0</td>\n",
              "      <td>0</td>\n",
              "      <td>0</td>\n",
              "      <td>0</td>\n",
              "      <td>0</td>\n",
              "      <td>0</td>\n",
              "      <td>0</td>\n",
              "      <td>0</td>\n",
              "      <td>0</td>\n",
              "      <td>0</td>\n",
              "      <td>0</td>\n",
              "      <td>0</td>\n",
              "      <td>0</td>\n",
              "      <td>0</td>\n",
              "      <td>0</td>\n",
              "      <td>0</td>\n",
              "      <td>0</td>\n",
              "      <td>1</td>\n",
              "      <td>0</td>\n",
              "      <td>0</td>\n",
              "      <td>0</td>\n",
              "      <td>0</td>\n",
              "      <td>0</td>\n",
              "      <td>0</td>\n",
              "      <td>0</td>\n",
              "      <td>0</td>\n",
              "      <td>0</td>\n",
              "      <td>0</td>\n",
              "      <td>1</td>\n",
              "    </tr>\n",
              "    <tr>\n",
              "      <th>3</th>\n",
              "      <td>2</td>\n",
              "      <td>647</td>\n",
              "      <td>3</td>\n",
              "      <td>2000-12-31</td>\n",
              "      <td>22:00:00</td>\n",
              "      <td>1</td>\n",
              "      <td>0</td>\n",
              "      <td>0</td>\n",
              "      <td>0</td>\n",
              "      <td>0</td>\n",
              "      <td>0</td>\n",
              "      <td>0</td>\n",
              "      <td>0</td>\n",
              "      <td>0</td>\n",
              "      <td>0</td>\n",
              "      <td>0</td>\n",
              "      <td>0</td>\n",
              "      <td>0</td>\n",
              "      <td>0</td>\n",
              "      <td>0</td>\n",
              "      <td>0</td>\n",
              "      <td>0</td>\n",
              "      <td>0</td>\n",
              "      <td>1</td>\n",
              "      <td>0</td>\n",
              "      <td>0</td>\n",
              "      <td>0</td>\n",
              "      <td>0</td>\n",
              "      <td>0</td>\n",
              "      <td>0</td>\n",
              "      <td>0</td>\n",
              "      <td>0</td>\n",
              "      <td>0</td>\n",
              "      <td>0</td>\n",
              "      <td>1</td>\n",
              "    </tr>\n",
              "    <tr>\n",
              "      <th>4</th>\n",
              "      <td>2</td>\n",
              "      <td>2194</td>\n",
              "      <td>4</td>\n",
              "      <td>2000-12-31</td>\n",
              "      <td>22:00:00</td>\n",
              "      <td>1</td>\n",
              "      <td>0</td>\n",
              "      <td>0</td>\n",
              "      <td>0</td>\n",
              "      <td>0</td>\n",
              "      <td>0</td>\n",
              "      <td>0</td>\n",
              "      <td>0</td>\n",
              "      <td>0</td>\n",
              "      <td>0</td>\n",
              "      <td>0</td>\n",
              "      <td>0</td>\n",
              "      <td>0</td>\n",
              "      <td>0</td>\n",
              "      <td>0</td>\n",
              "      <td>0</td>\n",
              "      <td>0</td>\n",
              "      <td>0</td>\n",
              "      <td>1</td>\n",
              "      <td>0</td>\n",
              "      <td>0</td>\n",
              "      <td>0</td>\n",
              "      <td>0</td>\n",
              "      <td>0</td>\n",
              "      <td>0</td>\n",
              "      <td>0</td>\n",
              "      <td>0</td>\n",
              "      <td>0</td>\n",
              "      <td>0</td>\n",
              "      <td>1</td>\n",
              "    </tr>\n",
              "    <tr>\n",
              "      <th>5</th>\n",
              "      <td>2</td>\n",
              "      <td>648</td>\n",
              "      <td>4</td>\n",
              "      <td>2000-12-31</td>\n",
              "      <td>22:00:00</td>\n",
              "      <td>1</td>\n",
              "      <td>0</td>\n",
              "      <td>0</td>\n",
              "      <td>0</td>\n",
              "      <td>0</td>\n",
              "      <td>0</td>\n",
              "      <td>0</td>\n",
              "      <td>0</td>\n",
              "      <td>0</td>\n",
              "      <td>0</td>\n",
              "      <td>0</td>\n",
              "      <td>0</td>\n",
              "      <td>0</td>\n",
              "      <td>0</td>\n",
              "      <td>0</td>\n",
              "      <td>0</td>\n",
              "      <td>0</td>\n",
              "      <td>0</td>\n",
              "      <td>1</td>\n",
              "      <td>0</td>\n",
              "      <td>0</td>\n",
              "      <td>0</td>\n",
              "      <td>0</td>\n",
              "      <td>0</td>\n",
              "      <td>0</td>\n",
              "      <td>0</td>\n",
              "      <td>0</td>\n",
              "      <td>0</td>\n",
              "      <td>0</td>\n",
              "      <td>1</td>\n",
              "    </tr>\n",
              "    <tr>\n",
              "      <th>6</th>\n",
              "      <td>2</td>\n",
              "      <td>2268</td>\n",
              "      <td>5</td>\n",
              "      <td>2000-12-31</td>\n",
              "      <td>22:00:00</td>\n",
              "      <td>1</td>\n",
              "      <td>0</td>\n",
              "      <td>0</td>\n",
              "      <td>0</td>\n",
              "      <td>0</td>\n",
              "      <td>0</td>\n",
              "      <td>0</td>\n",
              "      <td>0</td>\n",
              "      <td>0</td>\n",
              "      <td>0</td>\n",
              "      <td>0</td>\n",
              "      <td>0</td>\n",
              "      <td>0</td>\n",
              "      <td>0</td>\n",
              "      <td>0</td>\n",
              "      <td>0</td>\n",
              "      <td>0</td>\n",
              "      <td>0</td>\n",
              "      <td>1</td>\n",
              "      <td>0</td>\n",
              "      <td>0</td>\n",
              "      <td>0</td>\n",
              "      <td>0</td>\n",
              "      <td>0</td>\n",
              "      <td>0</td>\n",
              "      <td>0</td>\n",
              "      <td>0</td>\n",
              "      <td>0</td>\n",
              "      <td>0</td>\n",
              "      <td>1</td>\n",
              "    </tr>\n",
              "    <tr>\n",
              "      <th>7</th>\n",
              "      <td>2</td>\n",
              "      <td>2628</td>\n",
              "      <td>3</td>\n",
              "      <td>2000-12-31</td>\n",
              "      <td>22:00:00</td>\n",
              "      <td>1</td>\n",
              "      <td>0</td>\n",
              "      <td>0</td>\n",
              "      <td>0</td>\n",
              "      <td>0</td>\n",
              "      <td>0</td>\n",
              "      <td>0</td>\n",
              "      <td>0</td>\n",
              "      <td>0</td>\n",
              "      <td>0</td>\n",
              "      <td>0</td>\n",
              "      <td>0</td>\n",
              "      <td>0</td>\n",
              "      <td>0</td>\n",
              "      <td>0</td>\n",
              "      <td>0</td>\n",
              "      <td>0</td>\n",
              "      <td>0</td>\n",
              "      <td>1</td>\n",
              "      <td>0</td>\n",
              "      <td>0</td>\n",
              "      <td>0</td>\n",
              "      <td>0</td>\n",
              "      <td>0</td>\n",
              "      <td>0</td>\n",
              "      <td>0</td>\n",
              "      <td>0</td>\n",
              "      <td>0</td>\n",
              "      <td>0</td>\n",
              "      <td>1</td>\n",
              "    </tr>\n",
              "    <tr>\n",
              "      <th>8</th>\n",
              "      <td>2</td>\n",
              "      <td>1103</td>\n",
              "      <td>3</td>\n",
              "      <td>2000-12-31</td>\n",
              "      <td>22:00:00</td>\n",
              "      <td>1</td>\n",
              "      <td>0</td>\n",
              "      <td>0</td>\n",
              "      <td>0</td>\n",
              "      <td>0</td>\n",
              "      <td>0</td>\n",
              "      <td>0</td>\n",
              "      <td>0</td>\n",
              "      <td>0</td>\n",
              "      <td>0</td>\n",
              "      <td>0</td>\n",
              "      <td>0</td>\n",
              "      <td>0</td>\n",
              "      <td>0</td>\n",
              "      <td>0</td>\n",
              "      <td>0</td>\n",
              "      <td>0</td>\n",
              "      <td>0</td>\n",
              "      <td>1</td>\n",
              "      <td>0</td>\n",
              "      <td>0</td>\n",
              "      <td>0</td>\n",
              "      <td>0</td>\n",
              "      <td>0</td>\n",
              "      <td>0</td>\n",
              "      <td>0</td>\n",
              "      <td>0</td>\n",
              "      <td>0</td>\n",
              "      <td>0</td>\n",
              "      <td>1</td>\n",
              "    </tr>\n",
              "    <tr>\n",
              "      <th>9</th>\n",
              "      <td>2</td>\n",
              "      <td>2916</td>\n",
              "      <td>3</td>\n",
              "      <td>2000-12-31</td>\n",
              "      <td>22:00:00</td>\n",
              "      <td>1</td>\n",
              "      <td>0</td>\n",
              "      <td>0</td>\n",
              "      <td>0</td>\n",
              "      <td>0</td>\n",
              "      <td>0</td>\n",
              "      <td>0</td>\n",
              "      <td>0</td>\n",
              "      <td>0</td>\n",
              "      <td>0</td>\n",
              "      <td>0</td>\n",
              "      <td>0</td>\n",
              "      <td>0</td>\n",
              "      <td>0</td>\n",
              "      <td>0</td>\n",
              "      <td>0</td>\n",
              "      <td>0</td>\n",
              "      <td>0</td>\n",
              "      <td>1</td>\n",
              "      <td>0</td>\n",
              "      <td>0</td>\n",
              "      <td>0</td>\n",
              "      <td>0</td>\n",
              "      <td>0</td>\n",
              "      <td>0</td>\n",
              "      <td>0</td>\n",
              "      <td>0</td>\n",
              "      <td>0</td>\n",
              "      <td>0</td>\n",
              "      <td>1</td>\n",
              "    </tr>\n",
              "    <tr>\n",
              "      <th>10</th>\n",
              "      <td>2</td>\n",
              "      <td>3468</td>\n",
              "      <td>5</td>\n",
              "      <td>2000-12-31</td>\n",
              "      <td>22:00:00</td>\n",
              "      <td>1</td>\n",
              "      <td>0</td>\n",
              "      <td>0</td>\n",
              "      <td>0</td>\n",
              "      <td>0</td>\n",
              "      <td>0</td>\n",
              "      <td>0</td>\n",
              "      <td>0</td>\n",
              "      <td>0</td>\n",
              "      <td>0</td>\n",
              "      <td>0</td>\n",
              "      <td>0</td>\n",
              "      <td>0</td>\n",
              "      <td>0</td>\n",
              "      <td>0</td>\n",
              "      <td>0</td>\n",
              "      <td>0</td>\n",
              "      <td>0</td>\n",
              "      <td>1</td>\n",
              "      <td>0</td>\n",
              "      <td>0</td>\n",
              "      <td>0</td>\n",
              "      <td>0</td>\n",
              "      <td>0</td>\n",
              "      <td>0</td>\n",
              "      <td>0</td>\n",
              "      <td>0</td>\n",
              "      <td>0</td>\n",
              "      <td>0</td>\n",
              "      <td>1</td>\n",
              "    </tr>\n",
              "    <tr>\n",
              "      <th>11</th>\n",
              "      <td>2</td>\n",
              "      <td>1210</td>\n",
              "      <td>4</td>\n",
              "      <td>2000-12-31</td>\n",
              "      <td>21:00:00</td>\n",
              "      <td>1</td>\n",
              "      <td>0</td>\n",
              "      <td>0</td>\n",
              "      <td>0</td>\n",
              "      <td>0</td>\n",
              "      <td>0</td>\n",
              "      <td>0</td>\n",
              "      <td>0</td>\n",
              "      <td>0</td>\n",
              "      <td>0</td>\n",
              "      <td>0</td>\n",
              "      <td>0</td>\n",
              "      <td>0</td>\n",
              "      <td>0</td>\n",
              "      <td>0</td>\n",
              "      <td>0</td>\n",
              "      <td>0</td>\n",
              "      <td>0</td>\n",
              "      <td>1</td>\n",
              "      <td>0</td>\n",
              "      <td>0</td>\n",
              "      <td>0</td>\n",
              "      <td>0</td>\n",
              "      <td>0</td>\n",
              "      <td>0</td>\n",
              "      <td>0</td>\n",
              "      <td>0</td>\n",
              "      <td>0</td>\n",
              "      <td>0</td>\n",
              "      <td>1</td>\n",
              "    </tr>\n",
              "    <tr>\n",
              "      <th>12</th>\n",
              "      <td>2</td>\n",
              "      <td>1792</td>\n",
              "      <td>3</td>\n",
              "      <td>2000-12-31</td>\n",
              "      <td>22:00:00</td>\n",
              "      <td>1</td>\n",
              "      <td>0</td>\n",
              "      <td>0</td>\n",
              "      <td>0</td>\n",
              "      <td>0</td>\n",
              "      <td>0</td>\n",
              "      <td>0</td>\n",
              "      <td>0</td>\n",
              "      <td>0</td>\n",
              "      <td>0</td>\n",
              "      <td>0</td>\n",
              "      <td>0</td>\n",
              "      <td>0</td>\n",
              "      <td>0</td>\n",
              "      <td>0</td>\n",
              "      <td>0</td>\n",
              "      <td>0</td>\n",
              "      <td>0</td>\n",
              "      <td>1</td>\n",
              "      <td>0</td>\n",
              "      <td>0</td>\n",
              "      <td>0</td>\n",
              "      <td>0</td>\n",
              "      <td>0</td>\n",
              "      <td>0</td>\n",
              "      <td>0</td>\n",
              "      <td>0</td>\n",
              "      <td>0</td>\n",
              "      <td>0</td>\n",
              "      <td>1</td>\n",
              "    </tr>\n",
              "    <tr>\n",
              "      <th>13</th>\n",
              "      <td>2</td>\n",
              "      <td>1687</td>\n",
              "      <td>3</td>\n",
              "      <td>2000-12-31</td>\n",
              "      <td>22:00:00</td>\n",
              "      <td>1</td>\n",
              "      <td>0</td>\n",
              "      <td>0</td>\n",
              "      <td>0</td>\n",
              "      <td>0</td>\n",
              "      <td>0</td>\n",
              "      <td>0</td>\n",
              "      <td>0</td>\n",
              "      <td>0</td>\n",
              "      <td>0</td>\n",
              "      <td>0</td>\n",
              "      <td>0</td>\n",
              "      <td>0</td>\n",
              "      <td>0</td>\n",
              "      <td>0</td>\n",
              "      <td>0</td>\n",
              "      <td>0</td>\n",
              "      <td>0</td>\n",
              "      <td>1</td>\n",
              "      <td>0</td>\n",
              "      <td>0</td>\n",
              "      <td>0</td>\n",
              "      <td>0</td>\n",
              "      <td>0</td>\n",
              "      <td>0</td>\n",
              "      <td>0</td>\n",
              "      <td>0</td>\n",
              "      <td>0</td>\n",
              "      <td>0</td>\n",
              "      <td>1</td>\n",
              "    </tr>\n",
              "    <tr>\n",
              "      <th>14</th>\n",
              "      <td>2</td>\n",
              "      <td>1213</td>\n",
              "      <td>2</td>\n",
              "      <td>2000-12-31</td>\n",
              "      <td>22:00:00</td>\n",
              "      <td>1</td>\n",
              "      <td>0</td>\n",
              "      <td>0</td>\n",
              "      <td>0</td>\n",
              "      <td>0</td>\n",
              "      <td>0</td>\n",
              "      <td>0</td>\n",
              "      <td>0</td>\n",
              "      <td>0</td>\n",
              "      <td>0</td>\n",
              "      <td>0</td>\n",
              "      <td>0</td>\n",
              "      <td>0</td>\n",
              "      <td>0</td>\n",
              "      <td>0</td>\n",
              "      <td>0</td>\n",
              "      <td>0</td>\n",
              "      <td>0</td>\n",
              "      <td>1</td>\n",
              "      <td>0</td>\n",
              "      <td>0</td>\n",
              "      <td>0</td>\n",
              "      <td>0</td>\n",
              "      <td>0</td>\n",
              "      <td>0</td>\n",
              "      <td>0</td>\n",
              "      <td>0</td>\n",
              "      <td>0</td>\n",
              "      <td>0</td>\n",
              "      <td>1</td>\n",
              "    </tr>\n",
              "    <tr>\n",
              "      <th>15</th>\n",
              "      <td>2</td>\n",
              "      <td>3578</td>\n",
              "      <td>5</td>\n",
              "      <td>2000-12-31</td>\n",
              "      <td>22:00:00</td>\n",
              "      <td>1</td>\n",
              "      <td>0</td>\n",
              "      <td>0</td>\n",
              "      <td>0</td>\n",
              "      <td>0</td>\n",
              "      <td>0</td>\n",
              "      <td>0</td>\n",
              "      <td>0</td>\n",
              "      <td>0</td>\n",
              "      <td>0</td>\n",
              "      <td>0</td>\n",
              "      <td>0</td>\n",
              "      <td>0</td>\n",
              "      <td>0</td>\n",
              "      <td>0</td>\n",
              "      <td>0</td>\n",
              "      <td>0</td>\n",
              "      <td>0</td>\n",
              "      <td>1</td>\n",
              "      <td>0</td>\n",
              "      <td>0</td>\n",
              "      <td>0</td>\n",
              "      <td>0</td>\n",
              "      <td>0</td>\n",
              "      <td>0</td>\n",
              "      <td>0</td>\n",
              "      <td>0</td>\n",
              "      <td>0</td>\n",
              "      <td>0</td>\n",
              "      <td>1</td>\n",
              "    </tr>\n",
              "    <tr>\n",
              "      <th>16</th>\n",
              "      <td>2</td>\n",
              "      <td>2881</td>\n",
              "      <td>3</td>\n",
              "      <td>2000-12-31</td>\n",
              "      <td>22:00:00</td>\n",
              "      <td>1</td>\n",
              "      <td>0</td>\n",
              "      <td>0</td>\n",
              "      <td>0</td>\n",
              "      <td>0</td>\n",
              "      <td>0</td>\n",
              "      <td>0</td>\n",
              "      <td>0</td>\n",
              "      <td>0</td>\n",
              "      <td>0</td>\n",
              "      <td>0</td>\n",
              "      <td>0</td>\n",
              "      <td>0</td>\n",
              "      <td>0</td>\n",
              "      <td>0</td>\n",
              "      <td>0</td>\n",
              "      <td>0</td>\n",
              "      <td>0</td>\n",
              "      <td>1</td>\n",
              "      <td>0</td>\n",
              "      <td>0</td>\n",
              "      <td>0</td>\n",
              "      <td>0</td>\n",
              "      <td>0</td>\n",
              "      <td>0</td>\n",
              "      <td>0</td>\n",
              "      <td>0</td>\n",
              "      <td>0</td>\n",
              "      <td>0</td>\n",
              "      <td>1</td>\n",
              "    </tr>\n",
              "    <tr>\n",
              "      <th>17</th>\n",
              "      <td>2</td>\n",
              "      <td>3030</td>\n",
              "      <td>4</td>\n",
              "      <td>2000-12-31</td>\n",
              "      <td>22:00:00</td>\n",
              "      <td>1</td>\n",
              "      <td>0</td>\n",
              "      <td>0</td>\n",
              "      <td>0</td>\n",
              "      <td>0</td>\n",
              "      <td>0</td>\n",
              "      <td>0</td>\n",
              "      <td>0</td>\n",
              "      <td>0</td>\n",
              "      <td>0</td>\n",
              "      <td>0</td>\n",
              "      <td>0</td>\n",
              "      <td>0</td>\n",
              "      <td>0</td>\n",
              "      <td>0</td>\n",
              "      <td>0</td>\n",
              "      <td>0</td>\n",
              "      <td>0</td>\n",
              "      <td>1</td>\n",
              "      <td>0</td>\n",
              "      <td>0</td>\n",
              "      <td>0</td>\n",
              "      <td>0</td>\n",
              "      <td>0</td>\n",
              "      <td>0</td>\n",
              "      <td>0</td>\n",
              "      <td>0</td>\n",
              "      <td>0</td>\n",
              "      <td>0</td>\n",
              "      <td>1</td>\n",
              "    </tr>\n",
              "    <tr>\n",
              "      <th>18</th>\n",
              "      <td>2</td>\n",
              "      <td>1217</td>\n",
              "      <td>3</td>\n",
              "      <td>2000-12-31</td>\n",
              "      <td>21:00:00</td>\n",
              "      <td>1</td>\n",
              "      <td>0</td>\n",
              "      <td>0</td>\n",
              "      <td>0</td>\n",
              "      <td>0</td>\n",
              "      <td>0</td>\n",
              "      <td>0</td>\n",
              "      <td>0</td>\n",
              "      <td>0</td>\n",
              "      <td>0</td>\n",
              "      <td>0</td>\n",
              "      <td>0</td>\n",
              "      <td>0</td>\n",
              "      <td>0</td>\n",
              "      <td>0</td>\n",
              "      <td>0</td>\n",
              "      <td>0</td>\n",
              "      <td>0</td>\n",
              "      <td>1</td>\n",
              "      <td>0</td>\n",
              "      <td>0</td>\n",
              "      <td>0</td>\n",
              "      <td>0</td>\n",
              "      <td>0</td>\n",
              "      <td>0</td>\n",
              "      <td>0</td>\n",
              "      <td>0</td>\n",
              "      <td>0</td>\n",
              "      <td>0</td>\n",
              "      <td>1</td>\n",
              "    </tr>\n",
              "    <tr>\n",
              "      <th>19</th>\n",
              "      <td>2</td>\n",
              "      <td>3105</td>\n",
              "      <td>4</td>\n",
              "      <td>2000-12-31</td>\n",
              "      <td>22:00:00</td>\n",
              "      <td>1</td>\n",
              "      <td>0</td>\n",
              "      <td>0</td>\n",
              "      <td>0</td>\n",
              "      <td>0</td>\n",
              "      <td>0</td>\n",
              "      <td>0</td>\n",
              "      <td>0</td>\n",
              "      <td>0</td>\n",
              "      <td>0</td>\n",
              "      <td>0</td>\n",
              "      <td>0</td>\n",
              "      <td>0</td>\n",
              "      <td>0</td>\n",
              "      <td>0</td>\n",
              "      <td>0</td>\n",
              "      <td>0</td>\n",
              "      <td>0</td>\n",
              "      <td>1</td>\n",
              "      <td>0</td>\n",
              "      <td>0</td>\n",
              "      <td>0</td>\n",
              "      <td>0</td>\n",
              "      <td>0</td>\n",
              "      <td>0</td>\n",
              "      <td>0</td>\n",
              "      <td>0</td>\n",
              "      <td>0</td>\n",
              "      <td>0</td>\n",
              "      <td>1</td>\n",
              "    </tr>\n",
              "  </tbody>\n",
              "</table>\n",
              "</div>\n",
              "    <div class=\"colab-df-buttons\">\n",
              "\n",
              "  <div class=\"colab-df-container\">\n",
              "    <button class=\"colab-df-convert\" onclick=\"convertToInteractive('df-12ec6d6a-c156-48ac-9ae5-7fd176c571ed')\"\n",
              "            title=\"Convert this dataframe to an interactive table.\"\n",
              "            style=\"display:none;\">\n",
              "\n",
              "  <svg xmlns=\"http://www.w3.org/2000/svg\" height=\"24px\" viewBox=\"0 -960 960 960\">\n",
              "    <path d=\"M120-120v-720h720v720H120Zm60-500h600v-160H180v160Zm220 220h160v-160H400v160Zm0 220h160v-160H400v160ZM180-400h160v-160H180v160Zm440 0h160v-160H620v160ZM180-180h160v-160H180v160Zm440 0h160v-160H620v160Z\"/>\n",
              "  </svg>\n",
              "    </button>\n",
              "\n",
              "  <style>\n",
              "    .colab-df-container {\n",
              "      display:flex;\n",
              "      gap: 12px;\n",
              "    }\n",
              "\n",
              "    .colab-df-convert {\n",
              "      background-color: #E8F0FE;\n",
              "      border: none;\n",
              "      border-radius: 50%;\n",
              "      cursor: pointer;\n",
              "      display: none;\n",
              "      fill: #1967D2;\n",
              "      height: 32px;\n",
              "      padding: 0 0 0 0;\n",
              "      width: 32px;\n",
              "    }\n",
              "\n",
              "    .colab-df-convert:hover {\n",
              "      background-color: #E2EBFA;\n",
              "      box-shadow: 0px 1px 2px rgba(60, 64, 67, 0.3), 0px 1px 3px 1px rgba(60, 64, 67, 0.15);\n",
              "      fill: #174EA6;\n",
              "    }\n",
              "\n",
              "    .colab-df-buttons div {\n",
              "      margin-bottom: 4px;\n",
              "    }\n",
              "\n",
              "    [theme=dark] .colab-df-convert {\n",
              "      background-color: #3B4455;\n",
              "      fill: #D2E3FC;\n",
              "    }\n",
              "\n",
              "    [theme=dark] .colab-df-convert:hover {\n",
              "      background-color: #434B5C;\n",
              "      box-shadow: 0px 1px 3px 1px rgba(0, 0, 0, 0.15);\n",
              "      filter: drop-shadow(0px 1px 2px rgba(0, 0, 0, 0.3));\n",
              "      fill: #FFFFFF;\n",
              "    }\n",
              "  </style>\n",
              "\n",
              "    <script>\n",
              "      const buttonEl =\n",
              "        document.querySelector('#df-12ec6d6a-c156-48ac-9ae5-7fd176c571ed button.colab-df-convert');\n",
              "      buttonEl.style.display =\n",
              "        google.colab.kernel.accessAllowed ? 'block' : 'none';\n",
              "\n",
              "      async function convertToInteractive(key) {\n",
              "        const element = document.querySelector('#df-12ec6d6a-c156-48ac-9ae5-7fd176c571ed');\n",
              "        const dataTable =\n",
              "          await google.colab.kernel.invokeFunction('convertToInteractive',\n",
              "                                                    [key], {});\n",
              "        if (!dataTable) return;\n",
              "\n",
              "        const docLinkHtml = 'Like what you see? Visit the ' +\n",
              "          '<a target=\"_blank\" href=https://colab.research.google.com/notebooks/data_table.ipynb>data table notebook</a>'\n",
              "          + ' to learn more about interactive tables.';\n",
              "        element.innerHTML = '';\n",
              "        dataTable['output_type'] = 'display_data';\n",
              "        await google.colab.output.renderOutput(dataTable, element);\n",
              "        const docLink = document.createElement('div');\n",
              "        docLink.innerHTML = docLinkHtml;\n",
              "        element.appendChild(docLink);\n",
              "      }\n",
              "    </script>\n",
              "  </div>\n",
              "\n",
              "\n",
              "<div id=\"df-3187ccd8-9dee-45e3-ae28-5149b327e39b\">\n",
              "  <button class=\"colab-df-quickchart\" onclick=\"quickchart('df-3187ccd8-9dee-45e3-ae28-5149b327e39b')\"\n",
              "            title=\"Suggest charts\"\n",
              "            style=\"display:none;\">\n",
              "\n",
              "<svg xmlns=\"http://www.w3.org/2000/svg\" height=\"24px\"viewBox=\"0 0 24 24\"\n",
              "     width=\"24px\">\n",
              "    <g>\n",
              "        <path d=\"M19 3H5c-1.1 0-2 .9-2 2v14c0 1.1.9 2 2 2h14c1.1 0 2-.9 2-2V5c0-1.1-.9-2-2-2zM9 17H7v-7h2v7zm4 0h-2V7h2v10zm4 0h-2v-4h2v4z\"/>\n",
              "    </g>\n",
              "</svg>\n",
              "  </button>\n",
              "\n",
              "<style>\n",
              "  .colab-df-quickchart {\n",
              "      --bg-color: #E8F0FE;\n",
              "      --fill-color: #1967D2;\n",
              "      --hover-bg-color: #E2EBFA;\n",
              "      --hover-fill-color: #174EA6;\n",
              "      --disabled-fill-color: #AAA;\n",
              "      --disabled-bg-color: #DDD;\n",
              "  }\n",
              "\n",
              "  [theme=dark] .colab-df-quickchart {\n",
              "      --bg-color: #3B4455;\n",
              "      --fill-color: #D2E3FC;\n",
              "      --hover-bg-color: #434B5C;\n",
              "      --hover-fill-color: #FFFFFF;\n",
              "      --disabled-bg-color: #3B4455;\n",
              "      --disabled-fill-color: #666;\n",
              "  }\n",
              "\n",
              "  .colab-df-quickchart {\n",
              "    background-color: var(--bg-color);\n",
              "    border: none;\n",
              "    border-radius: 50%;\n",
              "    cursor: pointer;\n",
              "    display: none;\n",
              "    fill: var(--fill-color);\n",
              "    height: 32px;\n",
              "    padding: 0;\n",
              "    width: 32px;\n",
              "  }\n",
              "\n",
              "  .colab-df-quickchart:hover {\n",
              "    background-color: var(--hover-bg-color);\n",
              "    box-shadow: 0 1px 2px rgba(60, 64, 67, 0.3), 0 1px 3px 1px rgba(60, 64, 67, 0.15);\n",
              "    fill: var(--button-hover-fill-color);\n",
              "  }\n",
              "\n",
              "  .colab-df-quickchart-complete:disabled,\n",
              "  .colab-df-quickchart-complete:disabled:hover {\n",
              "    background-color: var(--disabled-bg-color);\n",
              "    fill: var(--disabled-fill-color);\n",
              "    box-shadow: none;\n",
              "  }\n",
              "\n",
              "  .colab-df-spinner {\n",
              "    border: 2px solid var(--fill-color);\n",
              "    border-color: transparent;\n",
              "    border-bottom-color: var(--fill-color);\n",
              "    animation:\n",
              "      spin 1s steps(1) infinite;\n",
              "  }\n",
              "\n",
              "  @keyframes spin {\n",
              "    0% {\n",
              "      border-color: transparent;\n",
              "      border-bottom-color: var(--fill-color);\n",
              "      border-left-color: var(--fill-color);\n",
              "    }\n",
              "    20% {\n",
              "      border-color: transparent;\n",
              "      border-left-color: var(--fill-color);\n",
              "      border-top-color: var(--fill-color);\n",
              "    }\n",
              "    30% {\n",
              "      border-color: transparent;\n",
              "      border-left-color: var(--fill-color);\n",
              "      border-top-color: var(--fill-color);\n",
              "      border-right-color: var(--fill-color);\n",
              "    }\n",
              "    40% {\n",
              "      border-color: transparent;\n",
              "      border-right-color: var(--fill-color);\n",
              "      border-top-color: var(--fill-color);\n",
              "    }\n",
              "    60% {\n",
              "      border-color: transparent;\n",
              "      border-right-color: var(--fill-color);\n",
              "    }\n",
              "    80% {\n",
              "      border-color: transparent;\n",
              "      border-right-color: var(--fill-color);\n",
              "      border-bottom-color: var(--fill-color);\n",
              "    }\n",
              "    90% {\n",
              "      border-color: transparent;\n",
              "      border-bottom-color: var(--fill-color);\n",
              "    }\n",
              "  }\n",
              "</style>\n",
              "\n",
              "  <script>\n",
              "    async function quickchart(key) {\n",
              "      const quickchartButtonEl =\n",
              "        document.querySelector('#' + key + ' button');\n",
              "      quickchartButtonEl.disabled = true;  // To prevent multiple clicks.\n",
              "      quickchartButtonEl.classList.add('colab-df-spinner');\n",
              "      try {\n",
              "        const charts = await google.colab.kernel.invokeFunction(\n",
              "            'suggestCharts', [key], {});\n",
              "      } catch (error) {\n",
              "        console.error('Error during call to suggestCharts:', error);\n",
              "      }\n",
              "      quickchartButtonEl.classList.remove('colab-df-spinner');\n",
              "      quickchartButtonEl.classList.add('colab-df-quickchart-complete');\n",
              "    }\n",
              "    (() => {\n",
              "      let quickchartButtonEl =\n",
              "        document.querySelector('#df-3187ccd8-9dee-45e3-ae28-5149b327e39b button');\n",
              "      quickchartButtonEl.style.display =\n",
              "        google.colab.kernel.accessAllowed ? 'block' : 'none';\n",
              "    })();\n",
              "  </script>\n",
              "</div>\n",
              "\n",
              "    </div>\n",
              "  </div>\n"
            ],
            "application/vnd.google.colaboratory.intrinsic+json": {
              "type": "dataframe",
              "variable_name": "merged_df"
            }
          },
          "metadata": {},
          "execution_count": 29
        }
      ],
      "source": [
        "merged_df.head(20)"
      ]
    },
    {
      "cell_type": "markdown",
      "id": "4483bba1",
      "metadata": {
        "id": "4483bba1"
      },
      "source": [
        "### Rename MovieID Column"
      ]
    },
    {
      "cell_type": "code",
      "execution_count": 30,
      "id": "e4a8ee9d",
      "metadata": {
        "colab": {
          "base_uri": "https://localhost:8080/",
          "height": 330
        },
        "id": "e4a8ee9d",
        "outputId": "dbfec8aa-7221-4e3e-8856-5a0bd64a9a55"
      },
      "outputs": [
        {
          "output_type": "execute_result",
          "data": {
            "text/plain": [
              "   UserID  MovieId  Rating   ratedDate ratedTime  Male  Female  Other  \\\n",
              "0       2     1357       5  2000-12-31  22:00:00     1       0      0   \n",
              "1       2     3068       4  2000-12-31  22:00:00     1       0      0   \n",
              "2       2     1537       4  2000-12-31  22:00:00     1       0      0   \n",
              "3       2      647       3  2000-12-31  22:00:00     1       0      0   \n",
              "4       2     2194       4  2000-12-31  22:00:00     1       0      0   \n",
              "\n",
              "   Academic/Educator  Artist  Clerical/Admin  College/Grad Student  \\\n",
              "0                  0       0               0                     0   \n",
              "1                  0       0               0                     0   \n",
              "2                  0       0               0                     0   \n",
              "3                  0       0               0                     0   \n",
              "4                  0       0               0                     0   \n",
              "\n",
              "   Customer Service  Doctor/Health Care  Executive/Managerial  Farmer  \\\n",
              "0                 0                   0                     0       0   \n",
              "1                 0                   0                     0       0   \n",
              "2                 0                   0                     0       0   \n",
              "3                 0                   0                     0       0   \n",
              "4                 0                   0                     0       0   \n",
              "\n",
              "   HomeMaker  K-12 Student  Lawyer  Programmer  Retired  Sales/Marketing  \\\n",
              "0          0             0       0           0        0                0   \n",
              "1          0             0       0           0        0                0   \n",
              "2          0             0       0           0        0                0   \n",
              "3          0             0       0           0        0                0   \n",
              "4          0             0       0           0        0                0   \n",
              "\n",
              "   Scientist  Self-Employed  Technician/Engineer  Tradesman/Craftsman  \\\n",
              "0          0              1                    0                    0   \n",
              "1          0              1                    0                    0   \n",
              "2          0              1                    0                    0   \n",
              "3          0              1                    0                    0   \n",
              "4          0              1                    0                    0   \n",
              "\n",
              "   Unemployed  Writer  Under 18  18-24  25-34  35-44  45-49  50-55  56+  \n",
              "0           0       0         0      0      0      0      0      0    1  \n",
              "1           0       0         0      0      0      0      0      0    1  \n",
              "2           0       0         0      0      0      0      0      0    1  \n",
              "3           0       0         0      0      0      0      0      0    1  \n",
              "4           0       0         0      0      0      0      0      0    1  "
            ],
            "text/html": [
              "\n",
              "  <div id=\"df-a4c1ed54-7ea5-4a4a-a348-02cac696150f\" class=\"colab-df-container\">\n",
              "    <div>\n",
              "<style scoped>\n",
              "    .dataframe tbody tr th:only-of-type {\n",
              "        vertical-align: middle;\n",
              "    }\n",
              "\n",
              "    .dataframe tbody tr th {\n",
              "        vertical-align: top;\n",
              "    }\n",
              "\n",
              "    .dataframe thead th {\n",
              "        text-align: right;\n",
              "    }\n",
              "</style>\n",
              "<table border=\"1\" class=\"dataframe\">\n",
              "  <thead>\n",
              "    <tr style=\"text-align: right;\">\n",
              "      <th></th>\n",
              "      <th>UserID</th>\n",
              "      <th>MovieId</th>\n",
              "      <th>Rating</th>\n",
              "      <th>ratedDate</th>\n",
              "      <th>ratedTime</th>\n",
              "      <th>Male</th>\n",
              "      <th>Female</th>\n",
              "      <th>Other</th>\n",
              "      <th>Academic/Educator</th>\n",
              "      <th>Artist</th>\n",
              "      <th>Clerical/Admin</th>\n",
              "      <th>College/Grad Student</th>\n",
              "      <th>Customer Service</th>\n",
              "      <th>Doctor/Health Care</th>\n",
              "      <th>Executive/Managerial</th>\n",
              "      <th>Farmer</th>\n",
              "      <th>HomeMaker</th>\n",
              "      <th>K-12 Student</th>\n",
              "      <th>Lawyer</th>\n",
              "      <th>Programmer</th>\n",
              "      <th>Retired</th>\n",
              "      <th>Sales/Marketing</th>\n",
              "      <th>Scientist</th>\n",
              "      <th>Self-Employed</th>\n",
              "      <th>Technician/Engineer</th>\n",
              "      <th>Tradesman/Craftsman</th>\n",
              "      <th>Unemployed</th>\n",
              "      <th>Writer</th>\n",
              "      <th>Under 18</th>\n",
              "      <th>18-24</th>\n",
              "      <th>25-34</th>\n",
              "      <th>35-44</th>\n",
              "      <th>45-49</th>\n",
              "      <th>50-55</th>\n",
              "      <th>56+</th>\n",
              "    </tr>\n",
              "  </thead>\n",
              "  <tbody>\n",
              "    <tr>\n",
              "      <th>0</th>\n",
              "      <td>2</td>\n",
              "      <td>1357</td>\n",
              "      <td>5</td>\n",
              "      <td>2000-12-31</td>\n",
              "      <td>22:00:00</td>\n",
              "      <td>1</td>\n",
              "      <td>0</td>\n",
              "      <td>0</td>\n",
              "      <td>0</td>\n",
              "      <td>0</td>\n",
              "      <td>0</td>\n",
              "      <td>0</td>\n",
              "      <td>0</td>\n",
              "      <td>0</td>\n",
              "      <td>0</td>\n",
              "      <td>0</td>\n",
              "      <td>0</td>\n",
              "      <td>0</td>\n",
              "      <td>0</td>\n",
              "      <td>0</td>\n",
              "      <td>0</td>\n",
              "      <td>0</td>\n",
              "      <td>0</td>\n",
              "      <td>1</td>\n",
              "      <td>0</td>\n",
              "      <td>0</td>\n",
              "      <td>0</td>\n",
              "      <td>0</td>\n",
              "      <td>0</td>\n",
              "      <td>0</td>\n",
              "      <td>0</td>\n",
              "      <td>0</td>\n",
              "      <td>0</td>\n",
              "      <td>0</td>\n",
              "      <td>1</td>\n",
              "    </tr>\n",
              "    <tr>\n",
              "      <th>1</th>\n",
              "      <td>2</td>\n",
              "      <td>3068</td>\n",
              "      <td>4</td>\n",
              "      <td>2000-12-31</td>\n",
              "      <td>22:00:00</td>\n",
              "      <td>1</td>\n",
              "      <td>0</td>\n",
              "      <td>0</td>\n",
              "      <td>0</td>\n",
              "      <td>0</td>\n",
              "      <td>0</td>\n",
              "      <td>0</td>\n",
              "      <td>0</td>\n",
              "      <td>0</td>\n",
              "      <td>0</td>\n",
              "      <td>0</td>\n",
              "      <td>0</td>\n",
              "      <td>0</td>\n",
              "      <td>0</td>\n",
              "      <td>0</td>\n",
              "      <td>0</td>\n",
              "      <td>0</td>\n",
              "      <td>0</td>\n",
              "      <td>1</td>\n",
              "      <td>0</td>\n",
              "      <td>0</td>\n",
              "      <td>0</td>\n",
              "      <td>0</td>\n",
              "      <td>0</td>\n",
              "      <td>0</td>\n",
              "      <td>0</td>\n",
              "      <td>0</td>\n",
              "      <td>0</td>\n",
              "      <td>0</td>\n",
              "      <td>1</td>\n",
              "    </tr>\n",
              "    <tr>\n",
              "      <th>2</th>\n",
              "      <td>2</td>\n",
              "      <td>1537</td>\n",
              "      <td>4</td>\n",
              "      <td>2000-12-31</td>\n",
              "      <td>22:00:00</td>\n",
              "      <td>1</td>\n",
              "      <td>0</td>\n",
              "      <td>0</td>\n",
              "      <td>0</td>\n",
              "      <td>0</td>\n",
              "      <td>0</td>\n",
              "      <td>0</td>\n",
              "      <td>0</td>\n",
              "      <td>0</td>\n",
              "      <td>0</td>\n",
              "      <td>0</td>\n",
              "      <td>0</td>\n",
              "      <td>0</td>\n",
              "      <td>0</td>\n",
              "      <td>0</td>\n",
              "      <td>0</td>\n",
              "      <td>0</td>\n",
              "      <td>0</td>\n",
              "      <td>1</td>\n",
              "      <td>0</td>\n",
              "      <td>0</td>\n",
              "      <td>0</td>\n",
              "      <td>0</td>\n",
              "      <td>0</td>\n",
              "      <td>0</td>\n",
              "      <td>0</td>\n",
              "      <td>0</td>\n",
              "      <td>0</td>\n",
              "      <td>0</td>\n",
              "      <td>1</td>\n",
              "    </tr>\n",
              "    <tr>\n",
              "      <th>3</th>\n",
              "      <td>2</td>\n",
              "      <td>647</td>\n",
              "      <td>3</td>\n",
              "      <td>2000-12-31</td>\n",
              "      <td>22:00:00</td>\n",
              "      <td>1</td>\n",
              "      <td>0</td>\n",
              "      <td>0</td>\n",
              "      <td>0</td>\n",
              "      <td>0</td>\n",
              "      <td>0</td>\n",
              "      <td>0</td>\n",
              "      <td>0</td>\n",
              "      <td>0</td>\n",
              "      <td>0</td>\n",
              "      <td>0</td>\n",
              "      <td>0</td>\n",
              "      <td>0</td>\n",
              "      <td>0</td>\n",
              "      <td>0</td>\n",
              "      <td>0</td>\n",
              "      <td>0</td>\n",
              "      <td>0</td>\n",
              "      <td>1</td>\n",
              "      <td>0</td>\n",
              "      <td>0</td>\n",
              "      <td>0</td>\n",
              "      <td>0</td>\n",
              "      <td>0</td>\n",
              "      <td>0</td>\n",
              "      <td>0</td>\n",
              "      <td>0</td>\n",
              "      <td>0</td>\n",
              "      <td>0</td>\n",
              "      <td>1</td>\n",
              "    </tr>\n",
              "    <tr>\n",
              "      <th>4</th>\n",
              "      <td>2</td>\n",
              "      <td>2194</td>\n",
              "      <td>4</td>\n",
              "      <td>2000-12-31</td>\n",
              "      <td>22:00:00</td>\n",
              "      <td>1</td>\n",
              "      <td>0</td>\n",
              "      <td>0</td>\n",
              "      <td>0</td>\n",
              "      <td>0</td>\n",
              "      <td>0</td>\n",
              "      <td>0</td>\n",
              "      <td>0</td>\n",
              "      <td>0</td>\n",
              "      <td>0</td>\n",
              "      <td>0</td>\n",
              "      <td>0</td>\n",
              "      <td>0</td>\n",
              "      <td>0</td>\n",
              "      <td>0</td>\n",
              "      <td>0</td>\n",
              "      <td>0</td>\n",
              "      <td>0</td>\n",
              "      <td>1</td>\n",
              "      <td>0</td>\n",
              "      <td>0</td>\n",
              "      <td>0</td>\n",
              "      <td>0</td>\n",
              "      <td>0</td>\n",
              "      <td>0</td>\n",
              "      <td>0</td>\n",
              "      <td>0</td>\n",
              "      <td>0</td>\n",
              "      <td>0</td>\n",
              "      <td>1</td>\n",
              "    </tr>\n",
              "  </tbody>\n",
              "</table>\n",
              "</div>\n",
              "    <div class=\"colab-df-buttons\">\n",
              "\n",
              "  <div class=\"colab-df-container\">\n",
              "    <button class=\"colab-df-convert\" onclick=\"convertToInteractive('df-a4c1ed54-7ea5-4a4a-a348-02cac696150f')\"\n",
              "            title=\"Convert this dataframe to an interactive table.\"\n",
              "            style=\"display:none;\">\n",
              "\n",
              "  <svg xmlns=\"http://www.w3.org/2000/svg\" height=\"24px\" viewBox=\"0 -960 960 960\">\n",
              "    <path d=\"M120-120v-720h720v720H120Zm60-500h600v-160H180v160Zm220 220h160v-160H400v160Zm0 220h160v-160H400v160ZM180-400h160v-160H180v160Zm440 0h160v-160H620v160ZM180-180h160v-160H180v160Zm440 0h160v-160H620v160Z\"/>\n",
              "  </svg>\n",
              "    </button>\n",
              "\n",
              "  <style>\n",
              "    .colab-df-container {\n",
              "      display:flex;\n",
              "      gap: 12px;\n",
              "    }\n",
              "\n",
              "    .colab-df-convert {\n",
              "      background-color: #E8F0FE;\n",
              "      border: none;\n",
              "      border-radius: 50%;\n",
              "      cursor: pointer;\n",
              "      display: none;\n",
              "      fill: #1967D2;\n",
              "      height: 32px;\n",
              "      padding: 0 0 0 0;\n",
              "      width: 32px;\n",
              "    }\n",
              "\n",
              "    .colab-df-convert:hover {\n",
              "      background-color: #E2EBFA;\n",
              "      box-shadow: 0px 1px 2px rgba(60, 64, 67, 0.3), 0px 1px 3px 1px rgba(60, 64, 67, 0.15);\n",
              "      fill: #174EA6;\n",
              "    }\n",
              "\n",
              "    .colab-df-buttons div {\n",
              "      margin-bottom: 4px;\n",
              "    }\n",
              "\n",
              "    [theme=dark] .colab-df-convert {\n",
              "      background-color: #3B4455;\n",
              "      fill: #D2E3FC;\n",
              "    }\n",
              "\n",
              "    [theme=dark] .colab-df-convert:hover {\n",
              "      background-color: #434B5C;\n",
              "      box-shadow: 0px 1px 3px 1px rgba(0, 0, 0, 0.15);\n",
              "      filter: drop-shadow(0px 1px 2px rgba(0, 0, 0, 0.3));\n",
              "      fill: #FFFFFF;\n",
              "    }\n",
              "  </style>\n",
              "\n",
              "    <script>\n",
              "      const buttonEl =\n",
              "        document.querySelector('#df-a4c1ed54-7ea5-4a4a-a348-02cac696150f button.colab-df-convert');\n",
              "      buttonEl.style.display =\n",
              "        google.colab.kernel.accessAllowed ? 'block' : 'none';\n",
              "\n",
              "      async function convertToInteractive(key) {\n",
              "        const element = document.querySelector('#df-a4c1ed54-7ea5-4a4a-a348-02cac696150f');\n",
              "        const dataTable =\n",
              "          await google.colab.kernel.invokeFunction('convertToInteractive',\n",
              "                                                    [key], {});\n",
              "        if (!dataTable) return;\n",
              "\n",
              "        const docLinkHtml = 'Like what you see? Visit the ' +\n",
              "          '<a target=\"_blank\" href=https://colab.research.google.com/notebooks/data_table.ipynb>data table notebook</a>'\n",
              "          + ' to learn more about interactive tables.';\n",
              "        element.innerHTML = '';\n",
              "        dataTable['output_type'] = 'display_data';\n",
              "        await google.colab.output.renderOutput(dataTable, element);\n",
              "        const docLink = document.createElement('div');\n",
              "        docLink.innerHTML = docLinkHtml;\n",
              "        element.appendChild(docLink);\n",
              "      }\n",
              "    </script>\n",
              "  </div>\n",
              "\n",
              "\n",
              "<div id=\"df-37e6afe0-c7e7-452c-871a-3d3c7dd67a23\">\n",
              "  <button class=\"colab-df-quickchart\" onclick=\"quickchart('df-37e6afe0-c7e7-452c-871a-3d3c7dd67a23')\"\n",
              "            title=\"Suggest charts\"\n",
              "            style=\"display:none;\">\n",
              "\n",
              "<svg xmlns=\"http://www.w3.org/2000/svg\" height=\"24px\"viewBox=\"0 0 24 24\"\n",
              "     width=\"24px\">\n",
              "    <g>\n",
              "        <path d=\"M19 3H5c-1.1 0-2 .9-2 2v14c0 1.1.9 2 2 2h14c1.1 0 2-.9 2-2V5c0-1.1-.9-2-2-2zM9 17H7v-7h2v7zm4 0h-2V7h2v10zm4 0h-2v-4h2v4z\"/>\n",
              "    </g>\n",
              "</svg>\n",
              "  </button>\n",
              "\n",
              "<style>\n",
              "  .colab-df-quickchart {\n",
              "      --bg-color: #E8F0FE;\n",
              "      --fill-color: #1967D2;\n",
              "      --hover-bg-color: #E2EBFA;\n",
              "      --hover-fill-color: #174EA6;\n",
              "      --disabled-fill-color: #AAA;\n",
              "      --disabled-bg-color: #DDD;\n",
              "  }\n",
              "\n",
              "  [theme=dark] .colab-df-quickchart {\n",
              "      --bg-color: #3B4455;\n",
              "      --fill-color: #D2E3FC;\n",
              "      --hover-bg-color: #434B5C;\n",
              "      --hover-fill-color: #FFFFFF;\n",
              "      --disabled-bg-color: #3B4455;\n",
              "      --disabled-fill-color: #666;\n",
              "  }\n",
              "\n",
              "  .colab-df-quickchart {\n",
              "    background-color: var(--bg-color);\n",
              "    border: none;\n",
              "    border-radius: 50%;\n",
              "    cursor: pointer;\n",
              "    display: none;\n",
              "    fill: var(--fill-color);\n",
              "    height: 32px;\n",
              "    padding: 0;\n",
              "    width: 32px;\n",
              "  }\n",
              "\n",
              "  .colab-df-quickchart:hover {\n",
              "    background-color: var(--hover-bg-color);\n",
              "    box-shadow: 0 1px 2px rgba(60, 64, 67, 0.3), 0 1px 3px 1px rgba(60, 64, 67, 0.15);\n",
              "    fill: var(--button-hover-fill-color);\n",
              "  }\n",
              "\n",
              "  .colab-df-quickchart-complete:disabled,\n",
              "  .colab-df-quickchart-complete:disabled:hover {\n",
              "    background-color: var(--disabled-bg-color);\n",
              "    fill: var(--disabled-fill-color);\n",
              "    box-shadow: none;\n",
              "  }\n",
              "\n",
              "  .colab-df-spinner {\n",
              "    border: 2px solid var(--fill-color);\n",
              "    border-color: transparent;\n",
              "    border-bottom-color: var(--fill-color);\n",
              "    animation:\n",
              "      spin 1s steps(1) infinite;\n",
              "  }\n",
              "\n",
              "  @keyframes spin {\n",
              "    0% {\n",
              "      border-color: transparent;\n",
              "      border-bottom-color: var(--fill-color);\n",
              "      border-left-color: var(--fill-color);\n",
              "    }\n",
              "    20% {\n",
              "      border-color: transparent;\n",
              "      border-left-color: var(--fill-color);\n",
              "      border-top-color: var(--fill-color);\n",
              "    }\n",
              "    30% {\n",
              "      border-color: transparent;\n",
              "      border-left-color: var(--fill-color);\n",
              "      border-top-color: var(--fill-color);\n",
              "      border-right-color: var(--fill-color);\n",
              "    }\n",
              "    40% {\n",
              "      border-color: transparent;\n",
              "      border-right-color: var(--fill-color);\n",
              "      border-top-color: var(--fill-color);\n",
              "    }\n",
              "    60% {\n",
              "      border-color: transparent;\n",
              "      border-right-color: var(--fill-color);\n",
              "    }\n",
              "    80% {\n",
              "      border-color: transparent;\n",
              "      border-right-color: var(--fill-color);\n",
              "      border-bottom-color: var(--fill-color);\n",
              "    }\n",
              "    90% {\n",
              "      border-color: transparent;\n",
              "      border-bottom-color: var(--fill-color);\n",
              "    }\n",
              "  }\n",
              "</style>\n",
              "\n",
              "  <script>\n",
              "    async function quickchart(key) {\n",
              "      const quickchartButtonEl =\n",
              "        document.querySelector('#' + key + ' button');\n",
              "      quickchartButtonEl.disabled = true;  // To prevent multiple clicks.\n",
              "      quickchartButtonEl.classList.add('colab-df-spinner');\n",
              "      try {\n",
              "        const charts = await google.colab.kernel.invokeFunction(\n",
              "            'suggestCharts', [key], {});\n",
              "      } catch (error) {\n",
              "        console.error('Error during call to suggestCharts:', error);\n",
              "      }\n",
              "      quickchartButtonEl.classList.remove('colab-df-spinner');\n",
              "      quickchartButtonEl.classList.add('colab-df-quickchart-complete');\n",
              "    }\n",
              "    (() => {\n",
              "      let quickchartButtonEl =\n",
              "        document.querySelector('#df-37e6afe0-c7e7-452c-871a-3d3c7dd67a23 button');\n",
              "      quickchartButtonEl.style.display =\n",
              "        google.colab.kernel.accessAllowed ? 'block' : 'none';\n",
              "    })();\n",
              "  </script>\n",
              "</div>\n",
              "\n",
              "    </div>\n",
              "  </div>\n"
            ],
            "application/vnd.google.colaboratory.intrinsic+json": {
              "type": "dataframe",
              "variable_name": "merged_df"
            }
          },
          "metadata": {},
          "execution_count": 30
        }
      ],
      "source": [
        "merged_df.rename(columns={'MovieID': 'MovieId'}, inplace=True)\n",
        "merged_df.head()"
      ]
    },
    {
      "cell_type": "code",
      "execution_count": 31,
      "id": "2f584e3c",
      "metadata": {
        "id": "2f584e3c"
      },
      "outputs": [],
      "source": [
        "merged_full = pd.merge(merged_df,moviesDataset,on='MovieId')"
      ]
    },
    {
      "cell_type": "code",
      "execution_count": 32,
      "id": "234efd14",
      "metadata": {
        "id": "234efd14"
      },
      "outputs": [],
      "source": [
        "# Assuming 'merged_full' is your DataFrame and 'Year' and 'Date' are its columns.\n",
        "\n",
        "# Convert 'Year' to datetime and set all to January 1st of that year\n",
        "movieReleaseDate = pd.to_datetime(merged_full['Year'], format='%Y')\n",
        "#movieReleaseDate = merged_full['Year'] + pd.offsets.DateOffset(months=0, days=0)\n",
        "\n",
        "# Ensure 'Date' is in datetime format\n",
        "merged_full['ratedDate'] = pd.to_datetime(merged_full['ratedDate'])\n",
        "\n",
        "# Calculate the difference in days\n",
        "merged_full['rateDaysSinceRelease'] = (merged_full['ratedDate'] - movieReleaseDate).dt.days"
      ]
    },
    {
      "cell_type": "markdown",
      "id": "5de1203c",
      "metadata": {
        "id": "5de1203c"
      },
      "source": [
        "## Check Joins  "
      ]
    },
    {
      "cell_type": "code",
      "execution_count": 33,
      "id": "a67ba72e",
      "metadata": {
        "id": "a67ba72e"
      },
      "outputs": [],
      "source": [
        "userId1 = usersDataset[usersDataset['UserID'] == 2]"
      ]
    },
    {
      "cell_type": "code",
      "execution_count": 34,
      "id": "ba5fba59",
      "metadata": {
        "id": "ba5fba59"
      },
      "outputs": [],
      "source": [
        "moviesId1 = moviesDataset[moviesDataset['MovieId'] == 1357]"
      ]
    },
    {
      "cell_type": "code",
      "execution_count": 35,
      "id": "3cb5b12e",
      "metadata": {
        "id": "3cb5b12e"
      },
      "outputs": [],
      "source": [
        "ratingId1 = ratingsDataset[(ratingsDataset['MovieID'] == 1357) & (ratingsDataset['UserID'] == 2)]"
      ]
    },
    {
      "cell_type": "code",
      "execution_count": 36,
      "id": "634b5a03",
      "metadata": {
        "id": "634b5a03"
      },
      "outputs": [],
      "source": [
        "userId2 = usersDataset[usersDataset['UserID'] == 1500]"
      ]
    },
    {
      "cell_type": "code",
      "execution_count": 37,
      "id": "a01356ad",
      "metadata": {
        "id": "a01356ad"
      },
      "outputs": [],
      "source": [
        "ratingId2 = ratingsDataset[ratingsDataset['UserID'] == 1500]"
      ]
    },
    {
      "cell_type": "code",
      "execution_count": 38,
      "id": "4fd60462",
      "metadata": {
        "id": "4fd60462"
      },
      "outputs": [],
      "source": [
        "row = merged_full[(merged_full['UserID']==1500) & (merged_full['MovieId'] == 3791)]"
      ]
    },
    {
      "cell_type": "markdown",
      "id": "b426df95",
      "metadata": {
        "id": "b426df95"
      },
      "source": [
        "### Join Dataframe Size"
      ]
    },
    {
      "cell_type": "code",
      "execution_count": 39,
      "id": "1becb7be",
      "metadata": {
        "colab": {
          "base_uri": "https://localhost:8080/"
        },
        "id": "1becb7be",
        "outputId": "d844b638-bc6c-4c2b-ba93-5c0f86d54245",
        "scrolled": true
      },
      "outputs": [
        {
          "output_type": "execute_result",
          "data": {
            "text/plain": [
              "998080"
            ]
          },
          "metadata": {},
          "execution_count": 39
        }
      ],
      "source": [
        "merged_full.shape[0]"
      ]
    },
    {
      "cell_type": "markdown",
      "id": "bd1b9a1b",
      "metadata": {
        "id": "bd1b9a1b"
      },
      "source": [
        "## Descriptive Analysis"
      ]
    },
    {
      "cell_type": "markdown",
      "id": "abeecb75",
      "metadata": {
        "id": "abeecb75"
      },
      "source": [
        "###  Describe function"
      ]
    },
    {
      "cell_type": "code",
      "execution_count": 40,
      "id": "6550e477",
      "metadata": {
        "colab": {
          "base_uri": "https://localhost:8080/",
          "height": 300
        },
        "id": "6550e477",
        "outputId": "72534296-bdc0-4104-a4e6-d571f27f8c30"
      },
      "outputs": [
        {
          "output_type": "execute_result",
          "data": {
            "text/plain": [
              "              Rating                      ratedDate  rateDaysSinceRelease\n",
              "count  998080.000000                         998080         998080.000000\n",
              "mean        3.580357  2000-10-22 08:09:46.630329984           5159.628878\n",
              "min         1.000000            2000-04-25 00:00:00            116.000000\n",
              "25%         3.000000            2000-08-03 00:00:00           1440.000000\n",
              "50%         4.000000            2000-10-31 00:00:00           3245.000000\n",
              "75%         4.000000            2000-11-26 00:00:00           6766.000000\n",
              "max         5.000000            2003-02-28 00:00:00          30256.000000\n",
              "std         1.117300                            NaN           5242.641570"
            ],
            "text/html": [
              "\n",
              "  <div id=\"df-9ff9fe34-5df4-45f8-a5d5-8a28f55d1ce8\" class=\"colab-df-container\">\n",
              "    <div>\n",
              "<style scoped>\n",
              "    .dataframe tbody tr th:only-of-type {\n",
              "        vertical-align: middle;\n",
              "    }\n",
              "\n",
              "    .dataframe tbody tr th {\n",
              "        vertical-align: top;\n",
              "    }\n",
              "\n",
              "    .dataframe thead th {\n",
              "        text-align: right;\n",
              "    }\n",
              "</style>\n",
              "<table border=\"1\" class=\"dataframe\">\n",
              "  <thead>\n",
              "    <tr style=\"text-align: right;\">\n",
              "      <th></th>\n",
              "      <th>Rating</th>\n",
              "      <th>ratedDate</th>\n",
              "      <th>rateDaysSinceRelease</th>\n",
              "    </tr>\n",
              "  </thead>\n",
              "  <tbody>\n",
              "    <tr>\n",
              "      <th>count</th>\n",
              "      <td>998080.000000</td>\n",
              "      <td>998080</td>\n",
              "      <td>998080.000000</td>\n",
              "    </tr>\n",
              "    <tr>\n",
              "      <th>mean</th>\n",
              "      <td>3.580357</td>\n",
              "      <td>2000-10-22 08:09:46.630329984</td>\n",
              "      <td>5159.628878</td>\n",
              "    </tr>\n",
              "    <tr>\n",
              "      <th>min</th>\n",
              "      <td>1.000000</td>\n",
              "      <td>2000-04-25 00:00:00</td>\n",
              "      <td>116.000000</td>\n",
              "    </tr>\n",
              "    <tr>\n",
              "      <th>25%</th>\n",
              "      <td>3.000000</td>\n",
              "      <td>2000-08-03 00:00:00</td>\n",
              "      <td>1440.000000</td>\n",
              "    </tr>\n",
              "    <tr>\n",
              "      <th>50%</th>\n",
              "      <td>4.000000</td>\n",
              "      <td>2000-10-31 00:00:00</td>\n",
              "      <td>3245.000000</td>\n",
              "    </tr>\n",
              "    <tr>\n",
              "      <th>75%</th>\n",
              "      <td>4.000000</td>\n",
              "      <td>2000-11-26 00:00:00</td>\n",
              "      <td>6766.000000</td>\n",
              "    </tr>\n",
              "    <tr>\n",
              "      <th>max</th>\n",
              "      <td>5.000000</td>\n",
              "      <td>2003-02-28 00:00:00</td>\n",
              "      <td>30256.000000</td>\n",
              "    </tr>\n",
              "    <tr>\n",
              "      <th>std</th>\n",
              "      <td>1.117300</td>\n",
              "      <td>NaN</td>\n",
              "      <td>5242.641570</td>\n",
              "    </tr>\n",
              "  </tbody>\n",
              "</table>\n",
              "</div>\n",
              "    <div class=\"colab-df-buttons\">\n",
              "\n",
              "  <div class=\"colab-df-container\">\n",
              "    <button class=\"colab-df-convert\" onclick=\"convertToInteractive('df-9ff9fe34-5df4-45f8-a5d5-8a28f55d1ce8')\"\n",
              "            title=\"Convert this dataframe to an interactive table.\"\n",
              "            style=\"display:none;\">\n",
              "\n",
              "  <svg xmlns=\"http://www.w3.org/2000/svg\" height=\"24px\" viewBox=\"0 -960 960 960\">\n",
              "    <path d=\"M120-120v-720h720v720H120Zm60-500h600v-160H180v160Zm220 220h160v-160H400v160Zm0 220h160v-160H400v160ZM180-400h160v-160H180v160Zm440 0h160v-160H620v160ZM180-180h160v-160H180v160Zm440 0h160v-160H620v160Z\"/>\n",
              "  </svg>\n",
              "    </button>\n",
              "\n",
              "  <style>\n",
              "    .colab-df-container {\n",
              "      display:flex;\n",
              "      gap: 12px;\n",
              "    }\n",
              "\n",
              "    .colab-df-convert {\n",
              "      background-color: #E8F0FE;\n",
              "      border: none;\n",
              "      border-radius: 50%;\n",
              "      cursor: pointer;\n",
              "      display: none;\n",
              "      fill: #1967D2;\n",
              "      height: 32px;\n",
              "      padding: 0 0 0 0;\n",
              "      width: 32px;\n",
              "    }\n",
              "\n",
              "    .colab-df-convert:hover {\n",
              "      background-color: #E2EBFA;\n",
              "      box-shadow: 0px 1px 2px rgba(60, 64, 67, 0.3), 0px 1px 3px 1px rgba(60, 64, 67, 0.15);\n",
              "      fill: #174EA6;\n",
              "    }\n",
              "\n",
              "    .colab-df-buttons div {\n",
              "      margin-bottom: 4px;\n",
              "    }\n",
              "\n",
              "    [theme=dark] .colab-df-convert {\n",
              "      background-color: #3B4455;\n",
              "      fill: #D2E3FC;\n",
              "    }\n",
              "\n",
              "    [theme=dark] .colab-df-convert:hover {\n",
              "      background-color: #434B5C;\n",
              "      box-shadow: 0px 1px 3px 1px rgba(0, 0, 0, 0.15);\n",
              "      filter: drop-shadow(0px 1px 2px rgba(0, 0, 0, 0.3));\n",
              "      fill: #FFFFFF;\n",
              "    }\n",
              "  </style>\n",
              "\n",
              "    <script>\n",
              "      const buttonEl =\n",
              "        document.querySelector('#df-9ff9fe34-5df4-45f8-a5d5-8a28f55d1ce8 button.colab-df-convert');\n",
              "      buttonEl.style.display =\n",
              "        google.colab.kernel.accessAllowed ? 'block' : 'none';\n",
              "\n",
              "      async function convertToInteractive(key) {\n",
              "        const element = document.querySelector('#df-9ff9fe34-5df4-45f8-a5d5-8a28f55d1ce8');\n",
              "        const dataTable =\n",
              "          await google.colab.kernel.invokeFunction('convertToInteractive',\n",
              "                                                    [key], {});\n",
              "        if (!dataTable) return;\n",
              "\n",
              "        const docLinkHtml = 'Like what you see? Visit the ' +\n",
              "          '<a target=\"_blank\" href=https://colab.research.google.com/notebooks/data_table.ipynb>data table notebook</a>'\n",
              "          + ' to learn more about interactive tables.';\n",
              "        element.innerHTML = '';\n",
              "        dataTable['output_type'] = 'display_data';\n",
              "        await google.colab.output.renderOutput(dataTable, element);\n",
              "        const docLink = document.createElement('div');\n",
              "        docLink.innerHTML = docLinkHtml;\n",
              "        element.appendChild(docLink);\n",
              "      }\n",
              "    </script>\n",
              "  </div>\n",
              "\n",
              "\n",
              "<div id=\"df-21042556-3b03-491f-93c2-650083ceff97\">\n",
              "  <button class=\"colab-df-quickchart\" onclick=\"quickchart('df-21042556-3b03-491f-93c2-650083ceff97')\"\n",
              "            title=\"Suggest charts\"\n",
              "            style=\"display:none;\">\n",
              "\n",
              "<svg xmlns=\"http://www.w3.org/2000/svg\" height=\"24px\"viewBox=\"0 0 24 24\"\n",
              "     width=\"24px\">\n",
              "    <g>\n",
              "        <path d=\"M19 3H5c-1.1 0-2 .9-2 2v14c0 1.1.9 2 2 2h14c1.1 0 2-.9 2-2V5c0-1.1-.9-2-2-2zM9 17H7v-7h2v7zm4 0h-2V7h2v10zm4 0h-2v-4h2v4z\"/>\n",
              "    </g>\n",
              "</svg>\n",
              "  </button>\n",
              "\n",
              "<style>\n",
              "  .colab-df-quickchart {\n",
              "      --bg-color: #E8F0FE;\n",
              "      --fill-color: #1967D2;\n",
              "      --hover-bg-color: #E2EBFA;\n",
              "      --hover-fill-color: #174EA6;\n",
              "      --disabled-fill-color: #AAA;\n",
              "      --disabled-bg-color: #DDD;\n",
              "  }\n",
              "\n",
              "  [theme=dark] .colab-df-quickchart {\n",
              "      --bg-color: #3B4455;\n",
              "      --fill-color: #D2E3FC;\n",
              "      --hover-bg-color: #434B5C;\n",
              "      --hover-fill-color: #FFFFFF;\n",
              "      --disabled-bg-color: #3B4455;\n",
              "      --disabled-fill-color: #666;\n",
              "  }\n",
              "\n",
              "  .colab-df-quickchart {\n",
              "    background-color: var(--bg-color);\n",
              "    border: none;\n",
              "    border-radius: 50%;\n",
              "    cursor: pointer;\n",
              "    display: none;\n",
              "    fill: var(--fill-color);\n",
              "    height: 32px;\n",
              "    padding: 0;\n",
              "    width: 32px;\n",
              "  }\n",
              "\n",
              "  .colab-df-quickchart:hover {\n",
              "    background-color: var(--hover-bg-color);\n",
              "    box-shadow: 0 1px 2px rgba(60, 64, 67, 0.3), 0 1px 3px 1px rgba(60, 64, 67, 0.15);\n",
              "    fill: var(--button-hover-fill-color);\n",
              "  }\n",
              "\n",
              "  .colab-df-quickchart-complete:disabled,\n",
              "  .colab-df-quickchart-complete:disabled:hover {\n",
              "    background-color: var(--disabled-bg-color);\n",
              "    fill: var(--disabled-fill-color);\n",
              "    box-shadow: none;\n",
              "  }\n",
              "\n",
              "  .colab-df-spinner {\n",
              "    border: 2px solid var(--fill-color);\n",
              "    border-color: transparent;\n",
              "    border-bottom-color: var(--fill-color);\n",
              "    animation:\n",
              "      spin 1s steps(1) infinite;\n",
              "  }\n",
              "\n",
              "  @keyframes spin {\n",
              "    0% {\n",
              "      border-color: transparent;\n",
              "      border-bottom-color: var(--fill-color);\n",
              "      border-left-color: var(--fill-color);\n",
              "    }\n",
              "    20% {\n",
              "      border-color: transparent;\n",
              "      border-left-color: var(--fill-color);\n",
              "      border-top-color: var(--fill-color);\n",
              "    }\n",
              "    30% {\n",
              "      border-color: transparent;\n",
              "      border-left-color: var(--fill-color);\n",
              "      border-top-color: var(--fill-color);\n",
              "      border-right-color: var(--fill-color);\n",
              "    }\n",
              "    40% {\n",
              "      border-color: transparent;\n",
              "      border-right-color: var(--fill-color);\n",
              "      border-top-color: var(--fill-color);\n",
              "    }\n",
              "    60% {\n",
              "      border-color: transparent;\n",
              "      border-right-color: var(--fill-color);\n",
              "    }\n",
              "    80% {\n",
              "      border-color: transparent;\n",
              "      border-right-color: var(--fill-color);\n",
              "      border-bottom-color: var(--fill-color);\n",
              "    }\n",
              "    90% {\n",
              "      border-color: transparent;\n",
              "      border-bottom-color: var(--fill-color);\n",
              "    }\n",
              "  }\n",
              "</style>\n",
              "\n",
              "  <script>\n",
              "    async function quickchart(key) {\n",
              "      const quickchartButtonEl =\n",
              "        document.querySelector('#' + key + ' button');\n",
              "      quickchartButtonEl.disabled = true;  // To prevent multiple clicks.\n",
              "      quickchartButtonEl.classList.add('colab-df-spinner');\n",
              "      try {\n",
              "        const charts = await google.colab.kernel.invokeFunction(\n",
              "            'suggestCharts', [key], {});\n",
              "      } catch (error) {\n",
              "        console.error('Error during call to suggestCharts:', error);\n",
              "      }\n",
              "      quickchartButtonEl.classList.remove('colab-df-spinner');\n",
              "      quickchartButtonEl.classList.add('colab-df-quickchart-complete');\n",
              "    }\n",
              "    (() => {\n",
              "      let quickchartButtonEl =\n",
              "        document.querySelector('#df-21042556-3b03-491f-93c2-650083ceff97 button');\n",
              "      quickchartButtonEl.style.display =\n",
              "        google.colab.kernel.accessAllowed ? 'block' : 'none';\n",
              "    })();\n",
              "  </script>\n",
              "</div>\n",
              "\n",
              "    </div>\n",
              "  </div>\n"
            ],
            "application/vnd.google.colaboratory.intrinsic+json": {
              "type": "dataframe",
              "summary": "{\n  \"name\": \"merged_full[selected_columns]\",\n  \"rows\": 8,\n  \"fields\": [\n    {\n      \"column\": \"Rating\",\n      \"properties\": {\n        \"dtype\": \"number\",\n        \"std\": 352873.4721889465,\n        \"min\": 1.0,\n        \"max\": 998080.0,\n        \"num_unique_values\": 7,\n        \"samples\": [\n          998080.0,\n          3.580357285989099,\n          5.0\n        ],\n        \"semantic_type\": \"\",\n        \"description\": \"\"\n      }\n    },\n    {\n      \"column\": \"ratedDate\",\n      \"properties\": {\n        \"dtype\": \"date\",\n        \"min\": \"1970-01-01 00:00:00.000998080\",\n        \"max\": \"2003-02-28 00:00:00\",\n        \"num_unique_values\": 7,\n        \"samples\": [\n          \"998080\",\n          \"2000-10-22 08:09:46.630329984\",\n          \"2000-11-26 00:00:00\"\n        ],\n        \"semantic_type\": \"\",\n        \"description\": \"\"\n      }\n    },\n    {\n      \"column\": \"rateDaysSinceRelease\",\n      \"properties\": {\n        \"dtype\": \"number\",\n        \"std\": 350366.9443174494,\n        \"min\": 116.0,\n        \"max\": 998080.0,\n        \"num_unique_values\": 8,\n        \"samples\": [\n          5159.628878446618,\n          6766.0,\n          998080.0\n        ],\n        \"semantic_type\": \"\",\n        \"description\": \"\"\n      }\n    }\n  ]\n}"
            }
          },
          "metadata": {},
          "execution_count": 40
        }
      ],
      "source": [
        "selected_columns = ['Rating','ratedDate','ratedTime','Year','rateDaysSinceRelease']\n",
        "\n",
        "# Get summary statistics for the selected columns\n",
        "merged_full[selected_columns].describe()\n"
      ]
    },
    {
      "cell_type": "code",
      "execution_count": 41,
      "id": "654ad16b",
      "metadata": {
        "colab": {
          "base_uri": "https://localhost:8080/",
          "height": 175
        },
        "id": "654ad16b",
        "outputId": "153ba9ee-df2c-425e-f0b7-9e194a8aa996"
      },
      "outputs": [
        {
          "output_type": "execute_result",
          "data": {
            "text/plain": [
              "       ratedTime    Year\n",
              "count     998080  998080\n",
              "unique        24      81\n",
              "top     22:00:00    1999\n",
              "freq       63951   86829"
            ],
            "text/html": [
              "\n",
              "  <div id=\"df-b62e26e7-4a0b-42c2-acc2-397776f85f92\" class=\"colab-df-container\">\n",
              "    <div>\n",
              "<style scoped>\n",
              "    .dataframe tbody tr th:only-of-type {\n",
              "        vertical-align: middle;\n",
              "    }\n",
              "\n",
              "    .dataframe tbody tr th {\n",
              "        vertical-align: top;\n",
              "    }\n",
              "\n",
              "    .dataframe thead th {\n",
              "        text-align: right;\n",
              "    }\n",
              "</style>\n",
              "<table border=\"1\" class=\"dataframe\">\n",
              "  <thead>\n",
              "    <tr style=\"text-align: right;\">\n",
              "      <th></th>\n",
              "      <th>ratedTime</th>\n",
              "      <th>Year</th>\n",
              "    </tr>\n",
              "  </thead>\n",
              "  <tbody>\n",
              "    <tr>\n",
              "      <th>count</th>\n",
              "      <td>998080</td>\n",
              "      <td>998080</td>\n",
              "    </tr>\n",
              "    <tr>\n",
              "      <th>unique</th>\n",
              "      <td>24</td>\n",
              "      <td>81</td>\n",
              "    </tr>\n",
              "    <tr>\n",
              "      <th>top</th>\n",
              "      <td>22:00:00</td>\n",
              "      <td>1999</td>\n",
              "    </tr>\n",
              "    <tr>\n",
              "      <th>freq</th>\n",
              "      <td>63951</td>\n",
              "      <td>86829</td>\n",
              "    </tr>\n",
              "  </tbody>\n",
              "</table>\n",
              "</div>\n",
              "    <div class=\"colab-df-buttons\">\n",
              "\n",
              "  <div class=\"colab-df-container\">\n",
              "    <button class=\"colab-df-convert\" onclick=\"convertToInteractive('df-b62e26e7-4a0b-42c2-acc2-397776f85f92')\"\n",
              "            title=\"Convert this dataframe to an interactive table.\"\n",
              "            style=\"display:none;\">\n",
              "\n",
              "  <svg xmlns=\"http://www.w3.org/2000/svg\" height=\"24px\" viewBox=\"0 -960 960 960\">\n",
              "    <path d=\"M120-120v-720h720v720H120Zm60-500h600v-160H180v160Zm220 220h160v-160H400v160Zm0 220h160v-160H400v160ZM180-400h160v-160H180v160Zm440 0h160v-160H620v160ZM180-180h160v-160H180v160Zm440 0h160v-160H620v160Z\"/>\n",
              "  </svg>\n",
              "    </button>\n",
              "\n",
              "  <style>\n",
              "    .colab-df-container {\n",
              "      display:flex;\n",
              "      gap: 12px;\n",
              "    }\n",
              "\n",
              "    .colab-df-convert {\n",
              "      background-color: #E8F0FE;\n",
              "      border: none;\n",
              "      border-radius: 50%;\n",
              "      cursor: pointer;\n",
              "      display: none;\n",
              "      fill: #1967D2;\n",
              "      height: 32px;\n",
              "      padding: 0 0 0 0;\n",
              "      width: 32px;\n",
              "    }\n",
              "\n",
              "    .colab-df-convert:hover {\n",
              "      background-color: #E2EBFA;\n",
              "      box-shadow: 0px 1px 2px rgba(60, 64, 67, 0.3), 0px 1px 3px 1px rgba(60, 64, 67, 0.15);\n",
              "      fill: #174EA6;\n",
              "    }\n",
              "\n",
              "    .colab-df-buttons div {\n",
              "      margin-bottom: 4px;\n",
              "    }\n",
              "\n",
              "    [theme=dark] .colab-df-convert {\n",
              "      background-color: #3B4455;\n",
              "      fill: #D2E3FC;\n",
              "    }\n",
              "\n",
              "    [theme=dark] .colab-df-convert:hover {\n",
              "      background-color: #434B5C;\n",
              "      box-shadow: 0px 1px 3px 1px rgba(0, 0, 0, 0.15);\n",
              "      filter: drop-shadow(0px 1px 2px rgba(0, 0, 0, 0.3));\n",
              "      fill: #FFFFFF;\n",
              "    }\n",
              "  </style>\n",
              "\n",
              "    <script>\n",
              "      const buttonEl =\n",
              "        document.querySelector('#df-b62e26e7-4a0b-42c2-acc2-397776f85f92 button.colab-df-convert');\n",
              "      buttonEl.style.display =\n",
              "        google.colab.kernel.accessAllowed ? 'block' : 'none';\n",
              "\n",
              "      async function convertToInteractive(key) {\n",
              "        const element = document.querySelector('#df-b62e26e7-4a0b-42c2-acc2-397776f85f92');\n",
              "        const dataTable =\n",
              "          await google.colab.kernel.invokeFunction('convertToInteractive',\n",
              "                                                    [key], {});\n",
              "        if (!dataTable) return;\n",
              "\n",
              "        const docLinkHtml = 'Like what you see? Visit the ' +\n",
              "          '<a target=\"_blank\" href=https://colab.research.google.com/notebooks/data_table.ipynb>data table notebook</a>'\n",
              "          + ' to learn more about interactive tables.';\n",
              "        element.innerHTML = '';\n",
              "        dataTable['output_type'] = 'display_data';\n",
              "        await google.colab.output.renderOutput(dataTable, element);\n",
              "        const docLink = document.createElement('div');\n",
              "        docLink.innerHTML = docLinkHtml;\n",
              "        element.appendChild(docLink);\n",
              "      }\n",
              "    </script>\n",
              "  </div>\n",
              "\n",
              "\n",
              "<div id=\"df-d4522402-9c55-4d36-8a4a-42320c0a5c71\">\n",
              "  <button class=\"colab-df-quickchart\" onclick=\"quickchart('df-d4522402-9c55-4d36-8a4a-42320c0a5c71')\"\n",
              "            title=\"Suggest charts\"\n",
              "            style=\"display:none;\">\n",
              "\n",
              "<svg xmlns=\"http://www.w3.org/2000/svg\" height=\"24px\"viewBox=\"0 0 24 24\"\n",
              "     width=\"24px\">\n",
              "    <g>\n",
              "        <path d=\"M19 3H5c-1.1 0-2 .9-2 2v14c0 1.1.9 2 2 2h14c1.1 0 2-.9 2-2V5c0-1.1-.9-2-2-2zM9 17H7v-7h2v7zm4 0h-2V7h2v10zm4 0h-2v-4h2v4z\"/>\n",
              "    </g>\n",
              "</svg>\n",
              "  </button>\n",
              "\n",
              "<style>\n",
              "  .colab-df-quickchart {\n",
              "      --bg-color: #E8F0FE;\n",
              "      --fill-color: #1967D2;\n",
              "      --hover-bg-color: #E2EBFA;\n",
              "      --hover-fill-color: #174EA6;\n",
              "      --disabled-fill-color: #AAA;\n",
              "      --disabled-bg-color: #DDD;\n",
              "  }\n",
              "\n",
              "  [theme=dark] .colab-df-quickchart {\n",
              "      --bg-color: #3B4455;\n",
              "      --fill-color: #D2E3FC;\n",
              "      --hover-bg-color: #434B5C;\n",
              "      --hover-fill-color: #FFFFFF;\n",
              "      --disabled-bg-color: #3B4455;\n",
              "      --disabled-fill-color: #666;\n",
              "  }\n",
              "\n",
              "  .colab-df-quickchart {\n",
              "    background-color: var(--bg-color);\n",
              "    border: none;\n",
              "    border-radius: 50%;\n",
              "    cursor: pointer;\n",
              "    display: none;\n",
              "    fill: var(--fill-color);\n",
              "    height: 32px;\n",
              "    padding: 0;\n",
              "    width: 32px;\n",
              "  }\n",
              "\n",
              "  .colab-df-quickchart:hover {\n",
              "    background-color: var(--hover-bg-color);\n",
              "    box-shadow: 0 1px 2px rgba(60, 64, 67, 0.3), 0 1px 3px 1px rgba(60, 64, 67, 0.15);\n",
              "    fill: var(--button-hover-fill-color);\n",
              "  }\n",
              "\n",
              "  .colab-df-quickchart-complete:disabled,\n",
              "  .colab-df-quickchart-complete:disabled:hover {\n",
              "    background-color: var(--disabled-bg-color);\n",
              "    fill: var(--disabled-fill-color);\n",
              "    box-shadow: none;\n",
              "  }\n",
              "\n",
              "  .colab-df-spinner {\n",
              "    border: 2px solid var(--fill-color);\n",
              "    border-color: transparent;\n",
              "    border-bottom-color: var(--fill-color);\n",
              "    animation:\n",
              "      spin 1s steps(1) infinite;\n",
              "  }\n",
              "\n",
              "  @keyframes spin {\n",
              "    0% {\n",
              "      border-color: transparent;\n",
              "      border-bottom-color: var(--fill-color);\n",
              "      border-left-color: var(--fill-color);\n",
              "    }\n",
              "    20% {\n",
              "      border-color: transparent;\n",
              "      border-left-color: var(--fill-color);\n",
              "      border-top-color: var(--fill-color);\n",
              "    }\n",
              "    30% {\n",
              "      border-color: transparent;\n",
              "      border-left-color: var(--fill-color);\n",
              "      border-top-color: var(--fill-color);\n",
              "      border-right-color: var(--fill-color);\n",
              "    }\n",
              "    40% {\n",
              "      border-color: transparent;\n",
              "      border-right-color: var(--fill-color);\n",
              "      border-top-color: var(--fill-color);\n",
              "    }\n",
              "    60% {\n",
              "      border-color: transparent;\n",
              "      border-right-color: var(--fill-color);\n",
              "    }\n",
              "    80% {\n",
              "      border-color: transparent;\n",
              "      border-right-color: var(--fill-color);\n",
              "      border-bottom-color: var(--fill-color);\n",
              "    }\n",
              "    90% {\n",
              "      border-color: transparent;\n",
              "      border-bottom-color: var(--fill-color);\n",
              "    }\n",
              "  }\n",
              "</style>\n",
              "\n",
              "  <script>\n",
              "    async function quickchart(key) {\n",
              "      const quickchartButtonEl =\n",
              "        document.querySelector('#' + key + ' button');\n",
              "      quickchartButtonEl.disabled = true;  // To prevent multiple clicks.\n",
              "      quickchartButtonEl.classList.add('colab-df-spinner');\n",
              "      try {\n",
              "        const charts = await google.colab.kernel.invokeFunction(\n",
              "            'suggestCharts', [key], {});\n",
              "      } catch (error) {\n",
              "        console.error('Error during call to suggestCharts:', error);\n",
              "      }\n",
              "      quickchartButtonEl.classList.remove('colab-df-spinner');\n",
              "      quickchartButtonEl.classList.add('colab-df-quickchart-complete');\n",
              "    }\n",
              "    (() => {\n",
              "      let quickchartButtonEl =\n",
              "        document.querySelector('#df-d4522402-9c55-4d36-8a4a-42320c0a5c71 button');\n",
              "      quickchartButtonEl.style.display =\n",
              "        google.colab.kernel.accessAllowed ? 'block' : 'none';\n",
              "    })();\n",
              "  </script>\n",
              "</div>\n",
              "\n",
              "    </div>\n",
              "  </div>\n"
            ],
            "application/vnd.google.colaboratory.intrinsic+json": {
              "type": "dataframe",
              "summary": "{\n  \"name\": \"merged_full[selected_columns]\",\n  \"rows\": 4,\n  \"fields\": [\n    {\n      \"column\": \"ratedTime\",\n      \"properties\": {\n        \"dtype\": \"string\",\n        \"num_unique_values\": 4,\n        \"samples\": [\n          24,\n          \"63951\",\n          \"998080\"\n        ],\n        \"semantic_type\": \"\",\n        \"description\": \"\"\n      }\n    },\n    {\n      \"column\": \"Year\",\n      \"properties\": {\n        \"dtype\": \"date\",\n        \"min\": \"1970-01-01 00:00:00.000000081\",\n        \"max\": \"1999-01-01 00:00:00\",\n        \"num_unique_values\": 4,\n        \"samples\": [\n          81,\n          \"86829\",\n          \"998080\"\n        ],\n        \"semantic_type\": \"\",\n        \"description\": \"\"\n      }\n    }\n  ]\n}"
            }
          },
          "metadata": {},
          "execution_count": 41
        }
      ],
      "source": [
        "#Gender\n",
        "merged_full[selected_columns].describe(include=['object'])"
      ]
    },
    {
      "cell_type": "markdown",
      "id": "8f562c17",
      "metadata": {
        "id": "8f562c17"
      },
      "source": [
        "### Univariate Analysis"
      ]
    },
    {
      "cell_type": "markdown",
      "id": "b8d3b15a",
      "metadata": {
        "id": "b8d3b15a"
      },
      "source": [
        "#### Histogram"
      ]
    },
    {
      "cell_type": "code",
      "execution_count": 42,
      "id": "9eda2ad2",
      "metadata": {
        "colab": {
          "base_uri": "https://localhost:8080/",
          "height": 472
        },
        "id": "9eda2ad2",
        "outputId": "b478e301-8469-454c-d54e-08ac8fde9830"
      },
      "outputs": [
        {
          "output_type": "display_data",
          "data": {
            "text/plain": [
              "<Figure size 640x480 with 1 Axes>"
            ],
            "image/png": "[encoded data removed]"
          },
          "metadata": {}
        }
      ],
      "source": [
        "# Names and values for the bar chart\n",
        "group1 = (usersDataset['Under 18'] == 1).sum()\n",
        "group2 = (usersDataset['18-24'] == 1).sum()\n",
        "group3 = (usersDataset['25-34'] == 1).sum()\n",
        "group4 = (usersDataset['35-44'] == 1).sum()\n",
        "group5 = (usersDataset['45-49'] == 1).sum()\n",
        "group6 = (usersDataset['50-55'] == 1).sum()\n",
        "group7 = (usersDataset['56+'] == 1).sum()\n",
        "\n",
        "\n",
        "AgeGroup = ['Under 18', '18-24','25-34','35-44','45-49','50-55','56+']\n",
        "values = [group1, group2,group3,group4,group5,group6,group7]\n",
        "\n",
        "plt.bar(AgeGroup, values)\n",
        "plt.xlabel('Age')\n",
        "plt.ylabel('Count')\n",
        "plt.title('Age Distribution')\n",
        "plt.show()\n"
      ]
    },
    {
      "cell_type": "code",
      "execution_count": 43,
      "id": "4d15b8ff",
      "metadata": {
        "colab": {
          "base_uri": "https://localhost:8080/",
          "height": 467
        },
        "id": "4d15b8ff",
        "outputId": "a36222d6-6648-42f9-d8d5-2147636e739e"
      },
      "outputs": [
        {
          "output_type": "display_data",
          "data": {
            "text/plain": [
              "<Figure size 640x480 with 1 Axes>"
            ],
            "image/png": "[encoded data removed]"
          },
          "metadata": {}
        }
      ],
      "source": [
        "# Bin the 'Age' column into intervals\n",
        "bins = [0,1, 2, 3, 4, 5]  # Define the bin edges\n",
        "labels = ['1', '2', '3', '4','5']  # Define the bin labels\n",
        "rate_group = pd.cut(merged_full['Rating'], bins=bins, labels=labels)\n",
        "\n",
        "# Count the occurrences in each bin\n",
        "age_group_counts = rate_group.value_counts().sort_index()\n",
        "\n",
        "# Plot the bar chart\n",
        "age_group_counts.plot(kind='bar')\n",
        "plt.xlabel('Rate')\n",
        "plt.ylabel('Count')\n",
        "plt.title('Rate Distribution')\n",
        "plt.show()"
      ]
    },
    {
      "cell_type": "code",
      "execution_count": 44,
      "id": "d5f73e12",
      "metadata": {
        "colab": {
          "base_uri": "https://localhost:8080/",
          "height": 472
        },
        "id": "d5f73e12",
        "outputId": "17b352d2-a8ba-4f36-fce6-650ead4a5432",
        "scrolled": true
      },
      "outputs": [
        {
          "output_type": "display_data",
          "data": {
            "text/plain": [
              "<Figure size 640x480 with 1 Axes>"
            ],
            "image/png": "[encoded data removed]"
          },
          "metadata": {}
        }
      ],
      "source": [
        "male = usersDataset['Male'] == 1\n",
        "female = usersDataset['Female'] == 1\n",
        "\n",
        "# Count the number of True values in each Series\n",
        "male_count = male.sum()\n",
        "female_count = female.sum()\n",
        "\n",
        "# Names and values for the bar chart\n",
        "names = ['Female', 'Male']\n",
        "values = [female_count, male_count]\n",
        "\n",
        "plt.bar(names, values)\n",
        "plt.xlabel('Gender')\n",
        "plt.ylabel('Count')\n",
        "plt.title('Gender Distribution')\n",
        "plt.show()\n"
      ]
    },
    {
      "cell_type": "code",
      "execution_count": 45,
      "id": "cae18682",
      "metadata": {
        "colab": {
          "base_uri": "https://localhost:8080/",
          "height": 611
        },
        "id": "cae18682",
        "outputId": "31ee18bd-e24d-4859-e3c8-f68d07af1bbd"
      },
      "outputs": [
        {
          "output_type": "display_data",
          "data": {
            "text/plain": [
              "<Figure size 640x480 with 1 Axes>"
            ],
            "image/png": "[encoded data removed]"
          },
          "metadata": {}
        }
      ],
      "source": [
        "# Names and values for the bar chart\n",
        "other = (usersDataset['Other'] == 1).sum()\n",
        "academic = (usersDataset['Academic/Educator'] == 1).sum()\n",
        "artist = (usersDataset['Artist'] == 1).sum()\n",
        "clerical = (usersDataset['Clerical/Admin'] == 1).sum()\n",
        "college = (usersDataset['College/Grad Student'] == 1).sum()\n",
        "customer_service = (usersDataset['Customer Service'] == 1).sum()\n",
        "doctor = (usersDataset['Doctor/Health Care'] == 1).sum()\n",
        "executive = (usersDataset['Executive/Managerial'] == 1).sum()\n",
        "farmer = (usersDataset['Farmer'] == 1).sum()\n",
        "homemaker = (usersDataset['HomeMaker'] == 1).sum()\n",
        "k12_student = (usersDataset['K-12 Student'] == 1).sum()\n",
        "lawyer = (usersDataset['Lawyer'] == 1).sum()\n",
        "programmer = (usersDataset['Programmer'] == 1).sum()\n",
        "retired = (usersDataset['Retired'] == 1).sum()\n",
        "sales = (usersDataset['Sales/Marketing'] == 1).sum()\n",
        "scientist = (usersDataset['Scientist'] == 1).sum()\n",
        "self_employed = (usersDataset['Self-Employed'] == 1).sum()\n",
        "technician = (usersDataset['Technician/Engineer'] == 1).sum()\n",
        "tradesman = (usersDataset['Tradesman/Craftsman'] == 1).sum()\n",
        "unemployed = (usersDataset['Unemployed'] == 1).sum()\n",
        "writer = (usersDataset['Writer'] == 1).sum()\n",
        "\n",
        "occupation = [\n",
        "    'Other',\n",
        "    'Academic/Educator',\n",
        "    'Artist',\n",
        "    'Clerical/Admin',\n",
        "    'College/Grad Student',\n",
        "    'Customer Service',\n",
        "    'Doctor/Health Care',\n",
        "    'Executive/Managerial',\n",
        "    'Farmer',\n",
        "    'HomeMaker',\n",
        "    'K-12 Student',\n",
        "    'Lawyer',\n",
        "    'Programmer',\n",
        "    'Retired',\n",
        "    'Sales/Marketing',\n",
        "    'Scientist',\n",
        "    'Self-Employed',\n",
        "    'Technician/Engineer',\n",
        "    'Tradesman/Craftsman',\n",
        "    'Unemployed',\n",
        "    'Writer'\n",
        "    ]\n",
        "values = [other, academic,artist,clerical,college,customer_service,doctor,executive,farmer,homemaker,k12_student,lawyer,programmer,retired,sales,scientist,self_employed,technician,tradesman,unemployed,writer]\n",
        "\n",
        "plt.bar(occupation, values)\n",
        "plt.xlabel('Occupation')\n",
        "plt.ylabel('Count')\n",
        "plt.xticks(rotation=90)\n",
        "plt.title('Occupation Distribution')\n",
        "plt.show()"
      ]
    },
    {
      "cell_type": "code",
      "execution_count": 46,
      "id": "3df3f40c",
      "metadata": {
        "colab": {
          "base_uri": "https://localhost:8080/",
          "height": 552
        },
        "id": "3df3f40c",
        "outputId": "726be3ef-ec71-4e2d-ee9c-35964d53feef"
      },
      "outputs": [
        {
          "output_type": "display_data",
          "data": {
            "text/plain": [
              "<Figure size 640x480 with 1 Axes>"
            ],
            "image/png": "[encoded data removed]"
          },
          "metadata": {}
        }
      ],
      "source": [
        "action = (moviesDataset['Action'] == 1).sum()\n",
        "adventure = (moviesDataset['Adventure'] == 1).sum()\n",
        "animation = (moviesDataset['Animation'] == 1).sum()\n",
        "childrens = (moviesDataset['Children\\'s'] == 1).sum()\n",
        "comedy = (moviesDataset['Comedy'] == 1).sum()\n",
        "crime = (moviesDataset['Crime'] == 1).sum()\n",
        "documentary = (moviesDataset['Documentary'] == 1).sum()\n",
        "drama = (moviesDataset['Drama'] == 1).sum()\n",
        "fantasy = (moviesDataset['Fantasy'] == 1).sum()\n",
        "film_noir = (moviesDataset['Film-Noir'] == 1).sum()\n",
        "horror = (moviesDataset['Horror'] == 1).sum()\n",
        "musical = (moviesDataset['Musical'] == 1).sum()\n",
        "mystery = (moviesDataset['Mystery'] == 1).sum()\n",
        "romance = (moviesDataset['Romance'] == 1).sum()\n",
        "sci_fi = (moviesDataset['Sci-Fi'] == 1).sum()\n",
        "thriller = (moviesDataset['Thriller'] == 1).sum()\n",
        "war = (moviesDataset['War'] == 1).sum()\n",
        "western = (moviesDataset['Western'] == 1).sum()\n",
        "\n",
        "\n",
        "names = [\n",
        "    'Action',\n",
        "    'Adventure',\n",
        "    'Animation',\n",
        "    'Children\\'s',\n",
        "    'Comedy',\n",
        "    'Crime',\n",
        "    'Documentary',\n",
        "    'Drama',\n",
        "    'Fantasy',\n",
        "    'Film-Noir',\n",
        "    'Horror',\n",
        "    'Musical',\n",
        "    'Mystery',\n",
        "    'Romance',\n",
        "    'Sci-Fi',\n",
        "    'Thriller',\n",
        "    'War',\n",
        "    'Western'\n",
        "    ]\n",
        "values = [action, adventure,animation,childrens,comedy,crime,documentary,drama,fantasy,film_noir,horror,musical,mystery,romance,sci_fi,thriller,war,western]\n",
        "\n",
        "plt.bar(names, values)\n",
        "plt.xlabel('Genre')\n",
        "plt.ylabel('Count')\n",
        "plt.xticks(rotation=90)\n",
        "plt.title('Genre Distribution')\n",
        "plt.show()"
      ]
    },
    {
      "cell_type": "code",
      "execution_count": 47,
      "id": "026d8057",
      "metadata": {
        "colab": {
          "base_uri": "https://localhost:8080/",
          "height": 472
        },
        "id": "026d8057",
        "outputId": "1f4d9234-f893-40cd-f70d-a1af4cdd9f05"
      },
      "outputs": [
        {
          "output_type": "display_data",
          "data": {
            "text/plain": [
              "<Figure size 640x480 with 1 Axes>"
            ],
            "image/png": "[encoded data removed]"
          },
          "metadata": {}
        }
      ],
      "source": [
        "def time_to_float(t):\n",
        "    return t.hour + t.minute / 60 + t.second / 3600\n",
        "\n",
        "# Apply the conversion function to the 'ratedTime' column\n",
        "ratedTimeFloat = merged_full['ratedTime'].apply(time_to_float)\n",
        "plt.hist(ratedTimeFloat)\n",
        "plt.xlabel('Time(hours)')\n",
        "plt.ylabel('Count')\n",
        "plt.title('Rated Time Distribution')\n",
        "plt.show()"
      ]
    },
    {
      "cell_type": "code",
      "execution_count": 48,
      "id": "69780b92",
      "metadata": {
        "colab": {
          "base_uri": "https://localhost:8080/",
          "height": 506
        },
        "id": "69780b92",
        "outputId": "59a86a6c-4055-4d17-d8b5-08505263ec62"
      },
      "outputs": [
        {
          "output_type": "display_data",
          "data": {
            "text/plain": [
              "<Figure size 640x480 with 1 Axes>"
            ],
            "image/png": "[encoded data removed]"
          },
          "metadata": {}
        }
      ],
      "source": [
        "ratedYear = merged_full['ratedDate'].dt.year\n",
        "plt.hist(ratedYear)\n",
        "plt.xlabel('Year')\n",
        "plt.xticks(rotation=90)\n",
        "plt.ylabel('Count')\n",
        "plt.title('Rated Year Distribution')\n",
        "plt.show()"
      ]
    },
    {
      "cell_type": "code",
      "execution_count": 49,
      "id": "ca41ef26",
      "metadata": {
        "colab": {
          "base_uri": "https://localhost:8080/",
          "height": 475
        },
        "id": "ca41ef26",
        "outputId": "215933a0-8300-47a6-b114-8cc15dd0b710"
      },
      "outputs": [
        {
          "output_type": "display_data",
          "data": {
            "text/plain": [
              "<Figure size 640x480 with 1 Axes>"
            ],
            "image/png": "[encoded data removed]"
          },
          "metadata": {}
        }
      ],
      "source": [
        "ratedMonth = merged_full['ratedDate'].dt.month\n",
        "plt.hist(ratedMonth)\n",
        "plt.xlabel('Month')\n",
        "plt.xticks(rotation=90)\n",
        "plt.ylabel('Count')\n",
        "plt.title('Rated Month Distribution')\n",
        "plt.show()"
      ]
    },
    {
      "cell_type": "markdown",
      "id": "33cc818f",
      "metadata": {
        "id": "33cc818f"
      },
      "source": [
        "#### Box Plot"
      ]
    },
    {
      "cell_type": "code",
      "execution_count": 50,
      "id": "1a0c41ab",
      "metadata": {
        "colab": {
          "base_uri": "https://localhost:8080/",
          "height": 466
        },
        "id": "1a0c41ab",
        "outputId": "8d20110f-4627-4bab-8250-dc4a305e115c"
      },
      "outputs": [
        {
          "output_type": "stream",
          "name": "stderr",
          "text": [
            "/usr/local/lib/python3.10/dist-packages/seaborn/categorical.py:640: FutureWarning: SeriesGroupBy.grouper is deprecated and will be removed in a future version of pandas.\n",
            "  positions = grouped.grouper.result_index.to_numpy(dtype=float)\n"
          ]
        },
        {
          "output_type": "display_data",
          "data": {
            "text/plain": [
              "<Figure size 640x480 with 1 Axes>"
            ],
            "image/png": "[encoded data removed]"
          },
          "metadata": {}
        }
      ],
      "source": [
        "# for rating\n",
        "sns.boxplot(merged_full['Rating'])\n",
        "plt.show()"
      ]
    },
    {
      "cell_type": "markdown",
      "id": "59399f00",
      "metadata": {
        "id": "59399f00"
      },
      "source": [
        "### Bivariate Analysis"
      ]
    },
    {
      "cell_type": "code",
      "execution_count": 51,
      "id": "f0e77809",
      "metadata": {
        "colab": {
          "base_uri": "https://localhost:8080/",
          "height": 422
        },
        "id": "f0e77809",
        "outputId": "8eabaff2-43c6-40e9-96b0-3d960cd770fd",
        "scrolled": true
      },
      "outputs": [
        {
          "output_type": "stream",
          "name": "stderr",
          "text": [
            "/usr/local/lib/python3.10/dist-packages/seaborn/_base.py:949: FutureWarning: When grouping with a length-1 list-like, you will need to pass a length-1 tuple to get_group in a future version of pandas. Pass `(name,)` instead of `name` to silence this warning.\n",
            "  data_subset = grouped_data.get_group(pd_key)\n",
            "/usr/local/lib/python3.10/dist-packages/seaborn/_base.py:949: FutureWarning: When grouping with a length-1 list-like, you will need to pass a length-1 tuple to get_group in a future version of pandas. Pass `(name,)` instead of `name` to silence this warning.\n",
            "  data_subset = grouped_data.get_group(pd_key)\n"
          ]
        },
        {
          "output_type": "display_data",
          "data": {
            "text/plain": [
              "<Figure size 400x300 with 1 Axes>"
            ],
            "image/png": "[encoded data removed]"
          },
          "metadata": {}
        }
      ],
      "source": [
        "gender_avg_rating = merged_full.groupby(['Male', 'Female'])['Rating'].mean().reset_index()\n",
        "gender_avg_rating.columns = ['Male', 'Female', 'Average Rating']\n",
        "\n",
        "# Plot\n",
        "plt.figure(figsize=(4, 3))\n",
        "sns.barplot(data=gender_avg_rating, x='Male', y='Average Rating', hue='Female')\n",
        "plt.title('Average Ratings by Gender')\n",
        "plt.xlabel('Gender (1: Male, 0: Female)')\n",
        "plt.ylabel('Average Rating')\n",
        "plt.legend(title='Female')\n",
        "plt.show()"
      ]
    },
    {
      "cell_type": "code",
      "execution_count": 52,
      "id": "fb599a7f",
      "metadata": {
        "colab": {
          "base_uri": "https://localhost:8080/",
          "height": 475
        },
        "id": "fb599a7f",
        "outputId": "67ab548e-02ec-49f9-d108-2e94ae418ddb"
      },
      "outputs": [
        {
          "output_type": "display_data",
          "data": {
            "text/plain": [
              "<Figure size 640x480 with 1 Axes>"
            ],
            "image/png": "[encoded data removed]"
          },
          "metadata": {}
        }
      ],
      "source": [
        "merged_full['Month'] = merged_full['ratedDate'].dt.month\n",
        "rate = merged_full.groupby('Month')['Rating'].mean().reset_index()\n",
        "\n",
        "# Plot the results\n",
        "\n",
        "plt.bar(rate['Month'], rate['Rating'])\n",
        "plt.xlabel('Month')\n",
        "plt.xticks(rotation=90)\n",
        "plt.ylabel('Rate')\n",
        "plt.title('Rated vs Month Distribution')\n",
        "plt.show()"
      ]
    },
    {
      "cell_type": "code",
      "execution_count": 53,
      "id": "c86da2ac",
      "metadata": {
        "colab": {
          "base_uri": "https://localhost:8080/",
          "height": 513
        },
        "id": "c86da2ac",
        "outputId": "d4f9bbc0-3dd3-4f73-d61e-6f638d9e647a"
      },
      "outputs": [
        {
          "output_type": "display_data",
          "data": {
            "text/plain": [
              "<Figure size 640x480 with 1 Axes>"
            ],
            "image/png": "[encoded data removed]"
          },
          "metadata": {}
        }
      ],
      "source": [
        "age_groups = ['Under 18', '18-24', '25-34', '35-44', '45-49', '50-55', '56+']\n",
        "\n",
        "# List to store mean ratings for each age group\n",
        "mean_ratings = []\n",
        "\n",
        "# Loop through each age group, filter, group, and compute mean rating\n",
        "for age_group in age_groups:\n",
        "    group = merged_full[(merged_full['Male'] == 1) & (merged_full[age_group] == 1)]\n",
        "    mean_rating = group['Rating'].mean()\n",
        "    mean_ratings.append(mean_rating)\n",
        "\n",
        "# Plot the results\n",
        "plt.bar(age_groups, mean_ratings)\n",
        "plt.xlabel('Age Group')\n",
        "plt.ylabel('Average Rating')\n",
        "plt.title('Male Rate vs Age Distribution')\n",
        "plt.xticks(rotation=45)\n",
        "plt.show()"
      ]
    },
    {
      "cell_type": "code",
      "execution_count": 54,
      "id": "9d6263aa",
      "metadata": {
        "colab": {
          "base_uri": "https://localhost:8080/",
          "height": 611
        },
        "id": "9d6263aa",
        "outputId": "4496b71f-570c-4842-d778-409612f74c67"
      },
      "outputs": [
        {
          "output_type": "display_data",
          "data": {
            "text/plain": [
              "<Figure size 640x480 with 1 Axes>"
            ],
            "image/png": "[encoded data removed]"
          },
          "metadata": {}
        }
      ],
      "source": [
        "occupations = [\n",
        "    'Other',\n",
        "    'Academic/Educator',\n",
        "    'Artist',\n",
        "    'Clerical/Admin',\n",
        "    'College/Grad Student',\n",
        "    'Customer Service',\n",
        "    'Doctor/Health Care',\n",
        "    'Executive/Managerial',\n",
        "    'Farmer',\n",
        "    'HomeMaker',\n",
        "    'K-12 Student',\n",
        "    'Lawyer',\n",
        "    'Programmer',\n",
        "    'Retired',\n",
        "    'Sales/Marketing',\n",
        "    'Scientist',\n",
        "    'Self-Employed',\n",
        "    'Technician/Engineer',\n",
        "    'Tradesman/Craftsman',\n",
        "    'Unemployed',\n",
        "    'Writer'\n",
        "    ]\n",
        "\n",
        "mean_ratings = []\n",
        "\n",
        "# Loop through each age group, filter, group, and compute mean rating\n",
        "for occupation in occupations:\n",
        "    group = merged_full[(merged_full[occupation] == 1)]\n",
        "    mean_rating = group['Rating'].mean()\n",
        "    mean_ratings.append(mean_rating)\n",
        "\n",
        "# Plot the results\n",
        "plt.bar(occupations, mean_ratings)\n",
        "plt.xlabel('Occupation')\n",
        "plt.ylabel('Average Rating')\n",
        "plt.title('Rate vs Occupation Distribution')\n",
        "plt.xticks(rotation=90)\n",
        "plt.show()"
      ]
    },
    {
      "cell_type": "code",
      "execution_count": 55,
      "id": "d9d37c48",
      "metadata": {
        "colab": {
          "base_uri": "https://localhost:8080/",
          "height": 552
        },
        "id": "d9d37c48",
        "outputId": "acb0ac62-84c5-42fd-a687-574390ab8ef6"
      },
      "outputs": [
        {
          "output_type": "display_data",
          "data": {
            "text/plain": [
              "<Figure size 640x480 with 1 Axes>"
            ],
            "image/png": "[encoded data removed]"
          },
          "metadata": {}
        }
      ],
      "source": [
        "movieTypes = [\n",
        "    'Action',\n",
        "    'Adventure',\n",
        "    'Animation',\n",
        "    'Children\\'s',\n",
        "    'Comedy',\n",
        "    'Crime',\n",
        "    'Documentary',\n",
        "    'Drama',\n",
        "    'Fantasy',\n",
        "    'Film-Noir',\n",
        "    'Horror',\n",
        "    'Musical',\n",
        "    'Mystery',\n",
        "    'Romance',\n",
        "    'Sci-Fi',\n",
        "    'Thriller',\n",
        "    'War',\n",
        "    'Western'\n",
        "    ]\n",
        "\n",
        "mean_ratings = []\n",
        "\n",
        "# Loop through each age group, filter, group, and compute mean rating\n",
        "for movieType in movieTypes:\n",
        "    group = merged_full[(merged_full[movieType] == 1)]\n",
        "    mean_rating = group['Rating'].mean()\n",
        "    mean_ratings.append(mean_rating)\n",
        "\n",
        "# Plot the results\n",
        "plt.bar(movieTypes, mean_ratings)\n",
        "plt.xlabel('Movie Type')\n",
        "plt.ylabel('Average Rating')\n",
        "plt.title('Rate vs Movie Type Distribution')\n",
        "plt.xticks(rotation=90)\n",
        "plt.show()"
      ]
    },
    {
      "cell_type": "markdown",
      "id": "8954ce0e",
      "metadata": {
        "id": "8954ce0e"
      },
      "source": [
        "## Split train and test data"
      ]
    },
    {
      "cell_type": "markdown",
      "id": "5d83c8b5",
      "metadata": {
        "id": "5d83c8b5"
      },
      "source": [
        "### Whole Dataset"
      ]
    },
    {
      "cell_type": "code",
      "execution_count": 56,
      "id": "f21bdc20",
      "metadata": {
        "id": "f21bdc20"
      },
      "outputs": [],
      "source": [
        "columns_to_drop = ['ratedDate','ratedTime','Title','Year']\n",
        "merged_full.drop(columns=columns_to_drop, inplace=True)"
      ]
    },
    {
      "cell_type": "code",
      "execution_count": 57,
      "id": "4d04d963",
      "metadata": {
        "id": "4d04d963"
      },
      "outputs": [],
      "source": [
        "merged_full.head()\n",
        "sampled_df = merged_full.sample(n=200000, random_state=42)"
      ]
    },
    {
      "cell_type": "code",
      "execution_count": 58,
      "id": "1520c8b0",
      "metadata": {
        "id": "1520c8b0"
      },
      "outputs": [],
      "source": [
        "x = sampled_df.drop('Rating',axis=1)"
      ]
    },
    {
      "cell_type": "code",
      "execution_count": 59,
      "id": "c62f2f90",
      "metadata": {
        "id": "c62f2f90"
      },
      "outputs": [],
      "source": [
        "# Apply the lambda function to the 'Rating' column\n",
        "y = sampled_df['Rating']"
      ]
    },
    {
      "cell_type": "code",
      "execution_count": 60,
      "id": "5246e79c",
      "metadata": {
        "id": "5246e79c"
      },
      "outputs": [],
      "source": [
        "from sklearn.model_selection import train_test_split\n",
        "x_train,x_test,y_train,y_test = train_test_split(x,y,test_size = 0.2)"
      ]
    },
    {
      "cell_type": "markdown",
      "id": "6cae554f",
      "metadata": {
        "id": "6cae554f"
      },
      "source": [
        "### Main 3 Occupation"
      ]
    },
    {
      "cell_type": "code",
      "execution_count": 61,
      "id": "0f46ba49",
      "metadata": {
        "id": "0f46ba49"
      },
      "outputs": [],
      "source": [
        "subDataset = merged_full[(merged_full['Other'] == 1) | (merged_full['College/Grad Student'] == 1) | (merged_full['Executive/Managerial'] == 1)]\n",
        "#subDataset = merged_full[(merged_full['Other'] == 1)]"
      ]
    },
    {
      "cell_type": "code",
      "execution_count": 62,
      "id": "0130c9dd",
      "metadata": {
        "id": "0130c9dd"
      },
      "outputs": [],
      "source": [
        "x_sub = subDataset.drop('Rating',axis=1)\n",
        "y_sub = subDataset['Rating']\n",
        "\n",
        "from sklearn.model_selection import train_test_split\n",
        "x_train_sub,x_test_sub,y_train_sub,y_test_sub = train_test_split(x_sub,y_sub,test_size = 0.2)"
      ]
    },
    {
      "cell_type": "markdown",
      "id": "b4ee0fb6",
      "metadata": {
        "id": "b4ee0fb6"
      },
      "source": [
        "### Unemployed Dataset"
      ]
    },
    {
      "cell_type": "code",
      "execution_count": 63,
      "id": "e4f2adf6",
      "metadata": {
        "id": "e4f2adf6"
      },
      "outputs": [],
      "source": [
        "unemployedDataset = merged_full[(merged_full['Unemployed'] == 1)]\n",
        "#subDataset = merged_full[(merged_full['Other'] == 1)]"
      ]
    },
    {
      "cell_type": "code",
      "execution_count": 64,
      "id": "7e74a186",
      "metadata": {
        "id": "7e74a186"
      },
      "outputs": [],
      "source": [
        "x_sub_1 = subDataset.drop('Rating',axis=1)\n",
        "y_sub_1 = subDataset['Rating']\n",
        "\n",
        "from sklearn.model_selection import train_test_split\n",
        "x_train_sub_1,x_test_sub_1,y_train_sub_1,y_test_sub_1 = train_test_split(x_sub_1,y_sub_1,test_size = 0.2)"
      ]
    },
    {
      "cell_type": "markdown",
      "id": "MfndNiFd33Ps",
      "metadata": {
        "id": "MfndNiFd33Ps"
      },
      "source": [
        "## Model Implemetation"
      ]
    },
    {
      "cell_type": "markdown",
      "id": "4e6ec3d1",
      "metadata": {
        "id": "4e6ec3d1"
      },
      "source": [
        "### KNN Model Implement"
      ]
    },
    {
      "cell_type": "code",
      "execution_count": 65,
      "id": "11bf7055",
      "metadata": {
        "id": "11bf7055"
      },
      "outputs": [],
      "source": [
        "from sklearn.neighbors import KNeighborsClassifier\n",
        "\n",
        "def findBestK(x_train,y_train,x_test,y_test,start,end,step):\n",
        "    for k in range (start,end,step):\n",
        "        from sklearn.neighbors import KNeighborsClassifier\n",
        "        #model = KNeighborsClassifier(metric='manhattan', n_neighbors=160, weights='distance')\n",
        "        model = KNeighborsClassifier(n_neighbors=k)\n",
        "        model.fit(x_train,y_train)\n",
        "        pred = model.predict(np.array(x_test))\n",
        "        from sklearn.metrics import accuracy_score\n",
        "        accuracy = accuracy_score(y_test,pred)\n",
        "        bestAccuracy =0\n",
        "        bestKValue =1\n",
        "\n",
        "        if bestAccuracy<accuracy:\n",
        "            bestAccuracy = accuracy\n",
        "            bestKValue = k\n",
        "        print(k)\n",
        "        print(accuracy)\n",
        "    return bestKValue,bestAccuracy\n",
        "\n",
        "def findBestKCrossValidation(x,y):\n",
        "  model = KNeighborsClassifier(metric='manhattan', n_neighbors=160, weights='distance')\n",
        "  #model = KNeighborsClassifier(n_neighbors=160)\n",
        "  cv_scores = cross_val_score(model, x, y, cv=10)\n",
        "  mean_cv_score = np.mean(cv_scores)\n",
        "  print(mean_cv_score)\n",
        "  return mean_cv_score\n",
        "\n",
        "def KNNModelImplement(x_train,y_train):\n",
        "  model = KNeighborsClassifier(metric='manhattan', n_neighbors=160, weights='distance')\n",
        "  model.fit(x_train,y_train)\n",
        "  pred = model.predict(np.array(x_test))\n",
        "  from sklearn.metrics import accuracy_score\n",
        "  accuracy = accuracy_score(y_test,pred)\n",
        "  return accuracy"
      ]
    },
    {
      "cell_type": "markdown",
      "id": "8b30547b",
      "metadata": {
        "id": "8b30547b"
      },
      "source": [
        "### KNN Model Optimize"
      ]
    },
    {
      "cell_type": "code",
      "execution_count": 66,
      "id": "987bb52f",
      "metadata": {
        "id": "987bb52f"
      },
      "outputs": [],
      "source": [
        "def OptimizeKNN(x_train, y_train):\n",
        "    #Optimize Hyper Parameters\n",
        "    from sklearn.model_selection import GridSearchCV\n",
        "    from sklearn.neighbors import KNeighborsClassifier\n",
        "\n",
        "    # Define the parameter distribution\n",
        "    param_dist = {\n",
        "        'n_neighbors': [40],\n",
        "        'weights': ['uniform', 'distance'],\n",
        "        'metric': ['euclidean', 'manhattan', 'minkowski']\n",
        "    }\n",
        "\n",
        "    # Initialize the KNN classifier\n",
        "    knn = KNeighborsClassifier()\n",
        "\n",
        "    # Set up the random search with cross-validation\n",
        "    random_search = GridSearchCV(knn, param_dist, cv=5, scoring='accuracy')\n",
        "\n",
        "    # Fit the random search to the data\n",
        "    random_search.fit(x_train, y_train)\n",
        "\n",
        "    # Best parameters and score\n",
        "    print(f\"Best parameters: {random_search.best_params_}\")\n",
        "    print(f\"Best score: {random_search.best_score_}\")\n"
      ]
    },
    {
      "cell_type": "markdown",
      "id": "06cdad72",
      "metadata": {
        "id": "06cdad72"
      },
      "source": [
        "### K Means Model Implement"
      ]
    },
    {
      "cell_type": "code",
      "execution_count": 67,
      "id": "b54f3fbf",
      "metadata": {
        "id": "b54f3fbf"
      },
      "outputs": [],
      "source": [
        "def BestKForKMeanModel(dataset):\n",
        "\n",
        "    from sklearn.preprocessing import StandardScaler\n",
        "    user_item_matrix = dataset.pivot(index='UserID', columns='MovieId', values='Rating').fillna(0)\n",
        "\n",
        "    # Normalize the data\n",
        "    scaler = StandardScaler()\n",
        "    user_item_matrix_normalized = scaler.fit_transform(user_item_matrix)\n",
        "\n",
        "    import matplotlib.pyplot as plt\n",
        "    from sklearn.cluster import KMeans\n",
        "\n",
        "    sse = []\n",
        "    for k in range(1, 100,20):\n",
        "        kmeans = KMeans(n_clusters=k, random_state=42)\n",
        "        kmeans.fit(user_item_matrix_normalized)\n",
        "        sse.append(kmeans.inertia_)\n",
        "\n",
        "    plt.plot(range(1, 100,20), sse, marker='o')\n",
        "    plt.title('Elbow Method')\n",
        "    plt.xlabel('Number of clusters')\n",
        "    plt.ylabel('SSE')\n",
        "    plt.show()\n",
        "\n",
        "\n",
        "def AccuracyForKMeanModel(dataset):\n",
        "\n",
        "    import matplotlib.pyplot as plt\n",
        "    from sklearn.cluster import KMeans\n",
        "\n",
        "    # Determine the number of clusters (k)\n",
        "    k = 20  # You can choose an appropriate value or use the elbow method to find the optimal k\n",
        "\n",
        "    # Initialize and fit K-means\n",
        "    kmeans = KMeans(n_clusters=k, random_state=42)\n",
        "    kmeans.fit(dataset)\n",
        "\n",
        "    # Get cluster labels\n",
        "    labels = kmeans.labels_\n",
        "\n",
        "    # Add cluster labels to the original dataframe\n",
        "    dataset['Cluster'] = labels\n",
        "\n",
        "    df_clusters = dataset.reset_index()[['UserID', 'Cluster']]\n",
        "\n",
        "    # Display users in each cluster\n",
        "    clusters = df_clusters.groupby('Cluster')\n",
        "\n",
        "    from sklearn.metrics import silhouette_score\n",
        "    score = silhouette_score(dataset, labels)\n",
        "    print(f'Silhouette Score: {score}')"
      ]
    },
    {
      "cell_type": "markdown",
      "id": "f596a6ff",
      "metadata": {
        "id": "f596a6ff"
      },
      "source": [
        "### Hybrid Model"
      ]
    },
    {
      "cell_type": "code",
      "execution_count": 68,
      "id": "8d153919",
      "metadata": {
        "id": "8d153919"
      },
      "outputs": [],
      "source": [
        "import numpy as np\n",
        "import pandas as pd\n",
        "from sklearn.cluster import KMeans\n",
        "from sklearn.neighbors import KNeighborsClassifier\n",
        "from sklearn.model_selection import train_test_split\n",
        "from sklearn.metrics import accuracy_score\n",
        "\n",
        "import numpy as np\n",
        "import pandas as pd\n",
        "from sklearn.cluster import KMeans\n",
        "from sklearn.neighbors import KNeighborsClassifier\n",
        "from sklearn.model_selection import train_test_split\n",
        "from sklearn.metrics import accuracy_score\n",
        "\n",
        "def HybridModelImplement(dataset, n_clusters=3):\n",
        "    # Initialize KMeans with the desired number of clusters\n",
        "    kmeans = KMeans(n_clusters=n_clusters, random_state=42)\n",
        "\n",
        "    # Fit the KMeans model and get the cluster labels\n",
        "    cluster_labels = kmeans.fit_predict(dataset)\n",
        "\n",
        "    # Add the cluster labels as a new feature to the original dataset\n",
        "    X_clustered = dataset.copy()\n",
        "    X_clustered['cluster_labels'] = cluster_labels\n",
        "\n",
        "    accuracies = []\n",
        "\n",
        "    # Iterate through each cluster\n",
        "    for cluster_number in range(n_clusters):\n",
        "        # Filter the dataset to include only the specified cluster\n",
        "        X_cluster = X_clustered[X_clustered['cluster_labels'] == cluster_number]\n",
        "\n",
        "        # Define the feature matrix (X) and the target variable (y)\n",
        "        X = X_cluster.drop(['Rating', 'cluster_labels'], axis=1)\n",
        "        y = X_cluster['Rating']\n",
        "\n",
        "        # If there's not enough data to split, skip this cluster\n",
        "        if len(X) < 2:\n",
        "            continue\n",
        "\n",
        "        # Split the data into training and testing sets\n",
        "        X_train, X_test, y_train, y_test = train_test_split(X, y, test_size=0.2, random_state=42)\n",
        "\n",
        "        # Initialize the KNN classifier with desired parameters\n",
        "        knn_classifier = KNeighborsClassifier(metric='manhattan', n_neighbors=1, weights='distance')\n",
        "\n",
        "        # Fit the KNN model to the training data\n",
        "        knn_classifier.fit(X_train, y_train)\n",
        "\n",
        "        # Make predictions on the test data\n",
        "        y_pred = knn_classifier.predict(X_test)\n",
        "\n",
        "        # Evaluate the accuracy of the KNN model\n",
        "        accuracy = accuracy_score(y_test, y_pred)\n",
        "        accuracies.append(accuracy)\n",
        "        print(f'Accuracy for cluster {cluster_number}: {accuracy:.2f}')\n",
        "\n",
        "    # Compute the mean accuracy across all clusters\n",
        "    if accuracies:\n",
        "        mean_accuracy = np.mean(accuracies)\n",
        "        print(f'Mean accuracy across all clusters: {mean_accuracy:.2f}')\n",
        "    else:\n",
        "        print('No clusters with sufficient data to evaluate accuracy.')\n",
        "\n",
        "\n"
      ]
    },
    {
      "cell_type": "markdown",
      "id": "a4fd3ce1",
      "metadata": {
        "id": "a4fd3ce1"
      },
      "source": [
        "### MLP Implementation"
      ]
    },
    {
      "cell_type": "code",
      "execution_count": null,
      "id": "SVoA19dw6ioS",
      "metadata": {
        "id": "SVoA19dw6ioS"
      },
      "outputs": [],
      "source": [
        "import pandas as pd\n",
        "import numpy as np\n",
        "from sklearn.model_selection import train_test_split\n",
        "from sklearn.preprocessing import OneHotEncoder\n",
        "import tensorflow as tf\n",
        "from tensorflow.keras.layers import Input, Embedding, Flatten, Dense, Concatenate, Dropout\n",
        "from tensorflow.keras.models import Model\n",
        "from tensorflow.keras.callbacks import EarlyStopping\n",
        "from tensorflow.keras.regularizers import l2\n",
        "from sklearn.metrics import precision_score, recall_score, f1_score, accuracy_score, classification_report\n",
        "\n",
        "class NeuMFModel:\n",
        "    def __init__(self, latent_dim=8, hidden_units=[64, 32], dropout_rate=0.2, l2_reg=0.01, batch_size=256, epochs=5):\n",
        "        self.latent_dim = latent_dim\n",
        "        self.hidden_units = hidden_units\n",
        "        self.dropout_rate = dropout_rate\n",
        "        self.l2_reg = l2_reg\n",
        "        self.batch_size = batch_size\n",
        "        self.epochs = epochs\n",
        "        self.encoder = None\n",
        "        self.user_mapping = None\n",
        "        self.movie_mapping = None\n",
        "        self.rating_mapping = None\n",
        "        self.feature_columns = None\n",
        "        self.model = None\n",
        "\n",
        "    def preprocess_data(self, data, feature_columns):\n",
        "      self.feature_columns = feature_columns\n",
        "\n",
        "      # Map users, movies, and ratings to indices\n",
        "      user_ids = data['UserID'].unique()\n",
        "      movie_ids = data['MovieId'].unique()\n",
        "      ratings_values = data['Rating'].unique()\n",
        "\n",
        "      self.user_mapping = {user: i for i, user in enumerate(user_ids)}\n",
        "      self.movie_mapping = {movie: i for i, movie in enumerate(movie_ids)}\n",
        "      self.rating_mapping = {rating: i for i, rating in enumerate(ratings_values)}\n",
        "\n",
        "      data['user'] = data['UserID'].map(self.user_mapping)\n",
        "      data['movie'] = data['MovieId'].map(self.movie_mapping)\n",
        "      data['rating_encoded'] = data['Rating'].map(self.rating_mapping)\n",
        "\n",
        "      # Encode ratings as one-hot vectors\n",
        "      self.encoder = OneHotEncoder(handle_unknown='ignore', sparse_output=False)  # Ensure sparse_output=False\n",
        "      y_encoded = self.encoder.fit_transform(data[['rating_encoded']])\n",
        "\n",
        "      # Prepare demographic and genre data\n",
        "      X_features = data[feature_columns].values\n",
        "\n",
        "      # Split data into train and test\n",
        "      train_data, test_data = train_test_split(data, test_size=0.2, random_state=42)\n",
        "\n",
        "      # Prepare inputs for TensorFlow\n",
        "      X_train = [train_data['user'].values, train_data['movie'].values, X_features[train_data.index]]\n",
        "      y_train = self.encoder.transform(train_data[['rating_encoded']])  # Already non-sparse due to sparse_output=False\n",
        "      X_test = [test_data['user'].values, test_data['movie'].values, X_features[test_data.index]]\n",
        "      y_test = self.encoder.transform(test_data[['rating_encoded']])\n",
        "\n",
        "      return (X_train, y_train), (X_test, y_test)\n",
        "\n",
        "\n",
        "    def create_dataset(self, user_data, movie_data, features_data, labels, shuffle=True):\n",
        "        dataset = tf.data.Dataset.from_tensor_slices(((user_data, movie_data, features_data), labels))\n",
        "        if shuffle:\n",
        "            dataset = dataset.shuffle(buffer_size=len(user_data))\n",
        "        dataset = dataset.batch(self.batch_size)\n",
        "        dataset = dataset.prefetch(tf.data.AUTOTUNE)\n",
        "        return dataset\n",
        "\n",
        "    def build_model(self, num_users, num_movies, num_ratings, num_features):\n",
        "        # GMF model\n",
        "        user_input = Input(shape=[1], name='user')\n",
        "        movie_input = Input(shape=[1], name='movie')\n",
        "        features_input = Input(shape=[num_features], name='features')\n",
        "\n",
        "        user_embedding_gmf = Embedding(num_users, self.latent_dim, embeddings_regularizer=l2(self.l2_reg))(user_input)\n",
        "        movie_embedding_gmf = Embedding(num_movies, self.latent_dim, embeddings_regularizer=l2(self.l2_reg))(movie_input)\n",
        "        user_embedding_gmf = Flatten()(user_embedding_gmf)\n",
        "        movie_embedding_gmf = Flatten()(movie_embedding_gmf)\n",
        "\n",
        "        gmf_vector = tf.keras.layers.Multiply()([user_embedding_gmf, movie_embedding_gmf])\n",
        "\n",
        "        # MLP model with Dropout and L2 Regularization\n",
        "        user_embedding_mlp = Embedding(num_users, self.latent_dim, embeddings_regularizer=l2(self.l2_reg))(user_input)\n",
        "        movie_embedding_mlp = Embedding(num_movies, self.latent_dim, embeddings_regularizer=l2(self.l2_reg))(movie_input)\n",
        "        user_embedding_mlp = Flatten()(user_embedding_mlp)\n",
        "        movie_embedding_mlp = Flatten()(movie_embedding_mlp)\n",
        "\n",
        "        mlp_vector = Concatenate()([user_embedding_mlp, movie_embedding_mlp, features_input])\n",
        "        for units in self.hidden_units:\n",
        "            mlp_vector = Dense(units, activation='relu', kernel_regularizer=l2(self.l2_reg))(mlp_vector)\n",
        "            mlp_vector = Dropout(self.dropout_rate)(mlp_vector)\n",
        "\n",
        "        # NeuMF model\n",
        "        merged_vector = Concatenate()([gmf_vector, mlp_vector])\n",
        "        output = Dense(num_ratings, activation='softmax')(merged_vector)\n",
        "\n",
        "        self.model = Model(inputs=[user_input, movie_input, features_input], outputs=output)\n",
        "        self.model.compile(optimizer='adam', loss='categorical_crossentropy', metrics=['accuracy'])\n",
        "\n",
        "    def train(self, train_data, test_data):\n",
        "        X_train, y_train = train_data  # Unpack train data\n",
        "        X_test, y_test = test_data    # Unpack test data\n",
        "        train_dataset = self.create_dataset(*X_train, y_train, shuffle=True)  # Pass labels to create_dataset\n",
        "        test_dataset = self.create_dataset(*X_test, y_test, shuffle=False)   # Pass labels to create_dataset\n",
        "\n",
        "        early_stopping = EarlyStopping(monitor='val_loss', patience=3, restore_best_weights=True)\n",
        "\n",
        "        self.model.fit(\n",
        "            train_dataset,\n",
        "            epochs=self.epochs,\n",
        "            validation_data=test_dataset,\n",
        "            callbacks=[early_stopping]\n",
        "        )\n",
        "\n",
        "\n",
        "\n",
        "    def evaluate(self, X_test, y_test):\n",
        "      # Extract user_data, movie_data, features_data from X_test\n",
        "      user_data, movie_data, features_data = X_test\n",
        "\n",
        "      # Convert y_test from one-hot encoded format to labels\n",
        "      y_true = np.argmax(y_test, axis=1)\n",
        "\n",
        "      # Create dataset using the provided method\n",
        "      test_dataset = self.create_dataset(user_data, movie_data, features_data, y_test, shuffle=False)\n",
        "\n",
        "      # Predict probabilities for the test dataset\n",
        "      y_pred_proba = self.model.predict(test_dataset)\n",
        "\n",
        "      # Convert probabilities to predicted class labels\n",
        "      y_pred = np.argmax(y_pred_proba, axis=1)\n",
        "\n",
        "      # Calculate various evaluation metrics\n",
        "      precision = precision_score(y_true, y_pred, average='weighted')\n",
        "      recall = recall_score(y_true, y_pred, average='weighted')\n",
        "      f1 = f1_score(y_true, y_pred, average='weighted')\n",
        "      accuracy = accuracy_score(y_true, y_pred)\n",
        "\n",
        "      # Print the calculated metrics\n",
        "      print(f\"Precision: {precision:.4f}\")\n",
        "      print(f\"Recall: {recall:.4f}\")\n",
        "      print(f\"F1 Score: {f1:.4f}\")\n",
        "      print(f\"Accuracy: {accuracy:.4f}\")\n",
        "\n",
        "      # Print the classification report\n",
        "      print(\"Classification Report:\")\n",
        "      print(classification_report(y_true, y_pred, target_names=[str(i) for i in range(len(np.unique(y_true)))]))\n",
        "\n",
        "      def hit_ratio(y_true, y_pred, top_k=10):\n",
        "        hr_list = []\n",
        "        for true_label, pred_probs in zip(y_true, y_pred):\n",
        "            top_k_preds = np.argsort(pred_probs)[::-1][:top_k]\n",
        "            hr_list.append(1 if true_label in top_k_preds else 0)\n",
        "        return np.mean(hr_list)\n",
        "\n",
        "\n",
        "      def ndcg(y_true, y_pred, top_k=10):\n",
        "        def dcg_at_k(r, k):\n",
        "            return np.sum((2 ** np.array(r) - 1) / np.log2(np.arange(2, len(r) + 2)))\n",
        "\n",
        "        def ndcg_at_k(r, k):\n",
        "            ideal_dcg = dcg_at_k(sorted(r, reverse=True), k)\n",
        "            actual_dcg = dcg_at_k(r[:k], k)\n",
        "            return actual_dcg / ideal_dcg if ideal_dcg > 0 else 0\n",
        "\n",
        "        ndcg_list = []\n",
        "        for true_label, pred_probs in zip(y_true, y_pred):\n",
        "            top_k_preds = np.argsort(pred_probs)[::-1][:top_k]\n",
        "            relevance_scores = [1 if i == true_label else 0 for i in top_k_preds]\n",
        "            ndcg_list.append(ndcg_at_k(relevance_scores, top_k))\n",
        "        return np.mean(ndcg_list)\n",
        "\n",
        "      # Calculate Hit Ratio (HR) and NDCG\n",
        "      hr = hit_ratio(y_true, y_pred_proba)\n",
        "      ndcg_score = ndcg(y_true, y_pred_proba)\n",
        "\n",
        "      # Print the HR and NDCG metrics\n",
        "      print(f\"Hit Ratio (HR) at 10: {hr:.4f}\")\n",
        "      print(f\"NDCG at 10: {ndcg_score:.4f}\")\n",
        "\n",
        "      # Return all the calculated metrics\n",
        "      return precision, recall, f1, accuracy, hr, ndcg_score\n",
        "\n",
        "\n",
        "    from sklearn.metrics.pairwise import cosine_similarity\n",
        "\n",
        "\n",
        "    def find_similar_users(self,user_id, user_demographics, demographics_df, top_n=10):\n",
        "\n",
        "        # Convert user demographics to DataFrame\n",
        "        user_df = pd.DataFrame([user_demographics], index=[user_id])\n",
        "\n",
        "        # Combine with existing demographics\n",
        "        combined_df = pd.concat([demographics_df, user_df], axis=0)\n",
        "\n",
        "        # Compute similarity matrix\n",
        "        similarities = cosine_similarity(combined_df, combined_df)\n",
        "\n",
        "        # Get similarity scores for the given user\n",
        "        user_similarities = similarities[-1][:-1]  # Exclude the similarity with itself\n",
        "\n",
        "        # Get top_n most similar users\n",
        "        similar_user_indices = np.argsort(user_similarities)[::-1][:top_n]\n",
        "        similar_users = demographics_df.index[similar_user_indices].tolist()\n",
        "\n",
        "        return similar_users\n",
        "\n",
        "    def get_popular_movies(similar_users, merged_full, moviesDataset, top_n=10):\n",
        "\n",
        "        # Filter merged_full for similar users\n",
        "        similar_users_data = merged_full[merged_full['userid'].isin(similar_users)]\n",
        "\n",
        "        # Count occurrences of each movie\n",
        "        movie_counts = similar_users_data['movieid'].value_counts()\n",
        "\n",
        "        # Convert movie counts to DataFrame\n",
        "        movie_counts_df = pd.DataFrame(movie_counts).reset_index()\n",
        "        movie_counts_df.columns = ['movieid', 'count']\n",
        "\n",
        "        # Merge with movie details\n",
        "        popular_movies = movie_counts_df.merge(moviesDataset, on='movieid')\n",
        "\n",
        "        # Sort by count and get top N movies\n",
        "        popular_movies = popular_movies.sort_values(by='count', ascending=False).head(top_n)\n",
        "\n",
        "        return popular_movies[['Title', 'Year']]\n",
        "\n",
        "\n"
      ]
    },
    {
      "cell_type": "markdown",
      "id": "IsKhB4G_56Hp",
      "metadata": {
        "id": "IsKhB4G_56Hp"
      },
      "source": [
        "## Results"
      ]
    },
    {
      "cell_type": "markdown",
      "id": "4a523209",
      "metadata": {
        "id": "4a523209"
      },
      "source": [
        "### Apply KNN for main 3 occupations"
      ]
    },
    {
      "cell_type": "code",
      "execution_count": 69,
      "id": "659e48c8",
      "metadata": {
        "colab": {
          "base_uri": "https://localhost:8080/"
        },
        "id": "659e48c8",
        "outputId": "5f7688be-f58b-4ec7-caca-8462c0e1a8f7"
      },
      "outputs": [
        {
          "metadata": {
            "tags": null
          },
          "name": "stderr",
          "output_type": "stream",
          "text": [
            "/usr/local/lib/python3.10/dist-packages/sklearn/base.py:493: UserWarning: X does not have valid feature names, but KNeighborsClassifier was fitted with feature names\n",
            "  warnings.warn(\n"
          ]
        },
        {
          "metadata": {
            "tags": null
          },
          "name": "stdout",
          "output_type": "stream",
          "text": [
            "1\n",
            "0.30646658838307983\n"
          ]
        },
        {
          "metadata": {
            "tags": null
          },
          "name": "stderr",
          "output_type": "stream",
          "text": [
            "/usr/local/lib/python3.10/dist-packages/sklearn/base.py:493: UserWarning: X does not have valid feature names, but KNeighborsClassifier was fitted with feature names\n",
            "  warnings.warn(\n"
          ]
        },
        {
          "metadata": {
            "tags": null
          },
          "name": "stdout",
          "output_type": "stream",
          "text": [
            "41\n",
            "0.3460771730522406\n"
          ]
        },
        {
          "metadata": {
            "tags": null
          },
          "name": "stderr",
          "output_type": "stream",
          "text": [
            "/usr/local/lib/python3.10/dist-packages/sklearn/base.py:493: UserWarning: X does not have valid feature names, but KNeighborsClassifier was fitted with feature names\n",
            "  warnings.warn(\n"
          ]
        },
        {
          "output_type": "stream",
          "name": "stdout",
          "text": [
            "81\n",
            "0.34774297495835493\n"
          ]
        },
        {
          "output_type": "stream",
          "name": "stderr",
          "text": [
            "/usr/local/lib/python3.10/dist-packages/sklearn/base.py:493: UserWarning: X does not have valid feature names, but KNeighborsClassifier was fitted with feature names\n",
            "  warnings.warn(\n"
          ]
        },
        {
          "output_type": "stream",
          "name": "stdout",
          "text": [
            "121\n",
            "0.34742893033671046\n"
          ]
        },
        {
          "output_type": "stream",
          "name": "stderr",
          "text": [
            "/usr/local/lib/python3.10/dist-packages/sklearn/base.py:493: UserWarning: X does not have valid feature names, but KNeighborsClassifier was fitted with feature names\n",
            "  warnings.warn(\n"
          ]
        },
        {
          "output_type": "stream",
          "name": "stdout",
          "text": [
            "161\n",
            "0.34733335153881867\n"
          ]
        }
      ],
      "source": [
        "kVal,bestAccu = findBestK(x_train_sub,y_train_sub,x_test_sub,y_test_sub,1,200,40)"
      ]
    },
    {
      "cell_type": "markdown",
      "id": "14bab616",
      "metadata": {
        "id": "14bab616"
      },
      "source": [
        "### Optimize KNN Values for main 3 occupations"
      ]
    },
    {
      "cell_type": "code",
      "execution_count": null,
      "id": "b1afa24a",
      "metadata": {
        "id": "b1afa24a"
      },
      "outputs": [],
      "source": [
        "x_train_sub = np.ascontiguousarray(x_train_sub)\n",
        "y_train_sub = np.ascontiguousarray(y_train_sub)\n",
        "OptimizeKNN(x_train_sub,y_train_sub)"
      ]
    },
    {
      "cell_type": "markdown",
      "id": "54f3d72e",
      "metadata": {
        "id": "54f3d72e"
      },
      "source": [
        "### Apply KNN for whole Dataset"
      ]
    },
    {
      "cell_type": "code",
      "execution_count": null,
      "id": "27a48e99",
      "metadata": {
        "id": "27a48e99"
      },
      "outputs": [],
      "source": [
        "accuracy = KNNModelImplement(x_train,y_train)\n",
        "print(accuracy)"
      ]
    },
    {
      "cell_type": "code",
      "execution_count": null,
      "id": "0c9e2f3b",
      "metadata": {
        "id": "0c9e2f3b"
      },
      "outputs": [],
      "source": [
        "mean_cv_score = findBestKCrossValidation(x,y)"
      ]
    },
    {
      "cell_type": "markdown",
      "id": "w_XdjVQi0qJX",
      "metadata": {
        "id": "w_XdjVQi0qJX"
      },
      "source": []
    },
    {
      "cell_type": "markdown",
      "id": "xwI5v89V0qNO",
      "metadata": {
        "id": "xwI5v89V0qNO"
      },
      "source": [
        "### Final MLP"
      ]
    },
    {
      "cell_type": "code",
      "execution_count": null,
      "id": "eLtrFTrWoE_v",
      "metadata": {
        "colab": {
          "base_uri": "https://localhost:8080/"
        },
        "id": "eLtrFTrWoE_v",
        "outputId": "c9e36a37-e9e5-4f04-a47f-e6f89d0e814f"
      },
      "outputs": [
        {
          "name": "stdout",
          "output_type": "stream",
          "text": [
            "Epoch 1/5\n",
            "\u001b[1m3119/3119\u001b[0m \u001b[32m━━━━━━━━━━━━━━━━━━━━\u001b[0m\u001b[37m\u001b[0m \u001b[1m31s\u001b[0m 7ms/step - accuracy: 0.3439 - loss: 1.6168 - val_accuracy: 0.3482 - val_loss: 1.4566\n",
            "Epoch 2/5\n",
            "\u001b[1m3119/3119\u001b[0m \u001b[32m━━━━━━━━━━━━━━━━━━━━\u001b[0m\u001b[37m\u001b[0m \u001b[1m48s\u001b[0m 9ms/step - accuracy: 0.3484 - loss: 1.4575 - val_accuracy: 0.3482 - val_loss: 1.4566\n",
            "Epoch 3/5\n",
            "\u001b[1m3119/3119\u001b[0m \u001b[32m━━━━━━━━━━━━━━━━━━━━\u001b[0m\u001b[37m\u001b[0m \u001b[1m48s\u001b[0m 14ms/step - accuracy: 0.3492 - loss: 1.4574 - val_accuracy: 0.3482 - val_loss: 1.4566\n",
            "Epoch 4/5\n",
            "\u001b[1m3119/3119\u001b[0m \u001b[32m━━━━━━━━━━━━━━━━━━━━\u001b[0m\u001b[37m\u001b[0m \u001b[1m84s\u001b[0m 15ms/step - accuracy: 0.3477 - loss: 1.4567 - val_accuracy: 0.3482 - val_loss: 1.4566\n",
            "Epoch 5/5\n",
            "\u001b[1m3119/3119\u001b[0m \u001b[32m━━━━━━━━━━━━━━━━━━━━\u001b[0m\u001b[37m\u001b[0m \u001b[1m73s\u001b[0m 10ms/step - accuracy: 0.3501 - loss: 1.4553 - val_accuracy: 0.3482 - val_loss: 1.4566\n",
            "\u001b[1m780/780\u001b[0m \u001b[32m━━━━━━━━━━━━━━━━━━━━\u001b[0m\u001b[37m\u001b[0m \u001b[1m2s\u001b[0m 3ms/step\n"
          ]
        },
        {
          "name": "stderr",
          "output_type": "stream",
          "text": [
            "/usr/local/lib/python3.10/dist-packages/sklearn/metrics/_classification.py:1531: UndefinedMetricWarning: Precision is ill-defined and being set to 0.0 in labels with no predicted samples. Use `zero_division` parameter to control this behavior.\n",
            "  _warn_prf(average, modifier, f\"{metric.capitalize()} is\", len(result))\n"
          ]
        },
        {
          "name": "stdout",
          "output_type": "stream",
          "text": [
            "Precision: 0.1213\n",
            "Recall: 0.3482\n",
            "F1 Score: 0.1799\n",
            "Accuracy: 0.3482\n",
            "Classification Report:\n"
          ]
        },
        {
          "name": "stderr",
          "output_type": "stream",
          "text": [
            "/usr/local/lib/python3.10/dist-packages/sklearn/metrics/_classification.py:1531: UndefinedMetricWarning: Precision is ill-defined and being set to 0.0 in labels with no predicted samples. Use `zero_division` parameter to control this behavior.\n",
            "  _warn_prf(average, modifier, f\"{metric.capitalize()} is\", len(result))\n",
            "/usr/local/lib/python3.10/dist-packages/sklearn/metrics/_classification.py:1531: UndefinedMetricWarning: Precision is ill-defined and being set to 0.0 in labels with no predicted samples. Use `zero_division` parameter to control this behavior.\n",
            "  _warn_prf(average, modifier, f\"{metric.capitalize()} is\", len(result))\n",
            "/usr/local/lib/python3.10/dist-packages/sklearn/metrics/_classification.py:1531: UndefinedMetricWarning: Precision is ill-defined and being set to 0.0 in labels with no predicted samples. Use `zero_division` parameter to control this behavior.\n",
            "  _warn_prf(average, modifier, f\"{metric.capitalize()} is\", len(result))\n"
          ]
        },
        {
          "name": "stdout",
          "output_type": "stream",
          "text": [
            "              precision    recall  f1-score   support\n",
            "\n",
            "           0       0.00      0.00      0.00     45199\n",
            "           1       0.35      1.00      0.52     69511\n",
            "           2       0.00      0.00      0.00     52118\n",
            "           3       0.00      0.00      0.00     21567\n",
            "           4       0.00      0.00      0.00     11221\n",
            "\n",
            "    accuracy                           0.35    199616\n",
            "   macro avg       0.07      0.20      0.10    199616\n",
            "weighted avg       0.12      0.35      0.18    199616\n",
            "\n",
            "Hit Ratio (HR) at 10: 1.0000\n",
            "NDCG at 10: 0.6944\n"
          ]
        }
      ],
      "source": [
        "feature_columns = ['Male', 'Female', 'Other', 'Academic/Educator', 'Artist', 'Clerical/Admin',\n",
        "                   'College/Grad Student', 'Customer Service', 'Doctor/Health Care', 'Executive/Managerial',\n",
        "                   'Farmer', 'HomeMaker', 'K-12 Student', 'Lawyer', 'Programmer', 'Retired', 'Sales/Marketing',\n",
        "                   'Scientist', 'Self-Employed', 'Technician/Engineer', 'Tradesman/Craftsman', 'Unemployed', 'Writer',\n",
        "                   'Under 18', '18-24', '25-34', '35-44', '45-49', '50-55', '56+']\n",
        "# Initialize NeuMFModel with desired hyperparameters\n",
        "model = NeuMFModel(latent_dim=8, hidden_units=[64, 32], dropout_rate=0.2, l2_reg=0.01, batch_size=256, epochs=5)\n",
        "\n",
        "# Preprocess the data\n",
        "train_data, test_data = model.preprocess_data(merged_full, feature_columns)\n",
        "\n",
        "# Extract necessary information for model building\n",
        "num_users = len(model.user_mapping)\n",
        "num_movies = len(model.movie_mapping)\n",
        "num_ratings = len(model.rating_mapping)\n",
        "num_features = len(feature_columns)\n",
        "\n",
        "# Build the model\n",
        "model.build_model(num_users=num_users, num_movies=num_movies, num_ratings=num_ratings, num_features=num_features)\n",
        "\n",
        "# Train the model\n",
        "model.train(train_data, test_data)\n",
        "\n",
        "# Evaluate the model\n",
        "X_test, y_test = test_data\n",
        "precision, recall, f1, accuracy, hr, ndcg_score = model.evaluate(X_test, y_test)\n",
        "\n",
        "\n"
      ]
    },
    {
      "cell_type": "code",
      "execution_count": null,
      "id": "-cFVi0SbBZ3H",
      "metadata": {
        "colab": {
          "base_uri": "https://localhost:8080/"
        },
        "id": "-cFVi0SbBZ3H",
        "outputId": "b374b2ea-e109-4acd-b3aa-a8847cb1c7b0"
      },
      "outputs": [
        {
          "name": "stdout",
          "output_type": "stream",
          "text": [
            "Epoch 1/5\n",
            "\u001b[1m3119/3119\u001b[0m \u001b[32m━━━━━━━━━━━━━━━━━━━━\u001b[0m\u001b[37m\u001b[0m \u001b[1m29s\u001b[0m 6ms/step - accuracy: 0.3464 - loss: 1.5096 - val_accuracy: 0.4024 - val_loss: 1.4083\n",
            "Epoch 2/5\n",
            "\u001b[1m3119/3119\u001b[0m \u001b[32m━━━━━━━━━━━━━━━━━━━━\u001b[0m\u001b[37m\u001b[0m \u001b[1m20s\u001b[0m 6ms/step - accuracy: 0.4065 - loss: 1.3988 - val_accuracy: 0.4129 - val_loss: 1.3823\n",
            "Epoch 3/5\n",
            "\u001b[1m3119/3119\u001b[0m \u001b[32m━━━━━━━━━━━━━━━━━━━━\u001b[0m\u001b[37m\u001b[0m \u001b[1m24s\u001b[0m 7ms/step - accuracy: 0.4172 - loss: 1.3785 - val_accuracy: 0.4215 - val_loss: 1.3705\n",
            "Epoch 4/5\n",
            "\u001b[1m3119/3119\u001b[0m \u001b[32m━━━━━━━━━━━━━━━━━━━━\u001b[0m\u001b[37m\u001b[0m \u001b[1m23s\u001b[0m 6ms/step - accuracy: 0.4229 - loss: 1.3674 - val_accuracy: 0.4237 - val_loss: 1.3670\n",
            "Epoch 5/5\n",
            "\u001b[1m3119/3119\u001b[0m \u001b[32m━━━━━━━━━━━━━━━━━━━━\u001b[0m\u001b[37m\u001b[0m \u001b[1m27s\u001b[0m 7ms/step - accuracy: 0.4248 - loss: 1.3629 - val_accuracy: 0.4263 - val_loss: 1.3619\n",
            "\u001b[1m780/780\u001b[0m \u001b[32m━━━━━━━━━━━━━━━━━━━━\u001b[0m\u001b[37m\u001b[0m \u001b[1m2s\u001b[0m 2ms/step\n",
            "Precision: 0.4232\n",
            "Recall: 0.4263\n",
            "F1 Score: 0.3971\n",
            "Accuracy: 0.4263\n",
            "Classification Report:\n",
            "              precision    recall  f1-score   support\n",
            "\n",
            "           0       0.51      0.39      0.44     45199\n",
            "           1       0.42      0.66      0.52     69511\n",
            "           2       0.38      0.36      0.37     52118\n",
            "           3       0.33      0.04      0.07     21567\n",
            "           4       0.45      0.15      0.23     11221\n",
            "\n",
            "    accuracy                           0.43    199616\n",
            "   macro avg       0.42      0.32      0.33    199616\n",
            "weighted avg       0.42      0.43      0.40    199616\n",
            "\n",
            "Hit Ratio (HR) at 10: 1.0000\n",
            "NDCG at 10: 0.7438\n"
          ]
        }
      ],
      "source": [
        "feature_columns = ['Male', 'Female', 'Other', 'Academic/Educator', 'Artist', 'Clerical/Admin',\n",
        "                   'College/Grad Student', 'Customer Service', 'Doctor/Health Care', 'Executive/Managerial',\n",
        "                   'Farmer', 'HomeMaker', 'K-12 Student', 'Lawyer', 'Programmer', 'Retired', 'Sales/Marketing',\n",
        "                   'Scientist', 'Self-Employed', 'Technician/Engineer', 'Tradesman/Craftsman', 'Unemployed', 'Writer',\n",
        "                   'Under 18', '18-24', '25-34', '35-44', '45-49', '50-55', '56+']\n",
        "# Initialize NeuMFModel with desired hyperparameters\n",
        "model = NeuMFModel(latent_dim=8, hidden_units=[], dropout_rate=0.2, l2_reg=0.01, batch_size=256, epochs=5)\n",
        "\n",
        "# Preprocess the data\n",
        "train_data, test_data = model.preprocess_data(merged_full, feature_columns)\n",
        "\n",
        "# Extract necessary information for model building\n",
        "num_users = len(model.user_mapping)\n",
        "num_movies = len(model.movie_mapping)\n",
        "num_ratings = len(model.rating_mapping)\n",
        "num_features = len(feature_columns)\n",
        "\n",
        "# Build the model\n",
        "model.build_model(num_users=num_users, num_movies=num_movies, num_ratings=num_ratings, num_features=num_features)\n",
        "\n",
        "# Train the model\n",
        "model.train(train_data, test_data)\n",
        "\n",
        "# Evaluate the model\n",
        "X_test, y_test = test_data\n",
        "precision, recall, f1, accuracy, hr, ndcg_score = model.evaluate(X_test, y_test)\n",
        "\n",
        "\n"
      ]
    },
    {
      "cell_type": "code",
      "execution_count": null,
      "id": "lby0dbIYBbsI",
      "metadata": {
        "colab": {
          "base_uri": "https://localhost:8080/"
        },
        "id": "lby0dbIYBbsI",
        "outputId": "0bd38cc8-d7e5-4789-cafa-d64a1c4bfc9a"
      },
      "outputs": [
        {
          "name": "stdout",
          "output_type": "stream",
          "text": [
            "Epoch 1/5\n",
            "\u001b[1m3119/3119\u001b[0m \u001b[32m━━━━━━━━━━━━━━━━━━━━\u001b[0m\u001b[37m\u001b[0m \u001b[1m30s\u001b[0m 8ms/step - accuracy: 0.3454 - loss: 1.5580 - val_accuracy: 0.3482 - val_loss: 1.4550\n",
            "Epoch 2/5\n",
            "\u001b[1m3119/3119\u001b[0m \u001b[32m━━━━━━━━━━━━━━━━━━━━\u001b[0m\u001b[37m\u001b[0m \u001b[1m28s\u001b[0m 8ms/step - accuracy: 0.3494 - loss: 1.4541 - val_accuracy: 0.3482 - val_loss: 1.4548\n",
            "Epoch 3/5\n",
            "\u001b[1m3119/3119\u001b[0m \u001b[32m━━━━━━━━━━━━━━━━━━━━\u001b[0m\u001b[37m\u001b[0m \u001b[1m30s\u001b[0m 8ms/step - accuracy: 0.3483 - loss: 1.4550 - val_accuracy: 0.3482 - val_loss: 1.4545\n",
            "Epoch 4/5\n",
            "\u001b[1m3119/3119\u001b[0m \u001b[32m━━━━━━━━━━━━━━━━━━━━\u001b[0m\u001b[37m\u001b[0m \u001b[1m25s\u001b[0m 7ms/step - accuracy: 0.3485 - loss: 1.4543 - val_accuracy: 0.3482 - val_loss: 1.4539\n",
            "Epoch 5/5\n",
            "\u001b[1m3119/3119\u001b[0m \u001b[32m━━━━━━━━━━━━━━━━━━━━\u001b[0m\u001b[37m\u001b[0m \u001b[1m41s\u001b[0m 7ms/step - accuracy: 0.3484 - loss: 1.4533 - val_accuracy: 0.3482 - val_loss: 1.4537\n",
            "\u001b[1m780/780\u001b[0m \u001b[32m━━━━━━━━━━━━━━━━━━━━\u001b[0m\u001b[37m\u001b[0m \u001b[1m3s\u001b[0m 4ms/step\n"
          ]
        },
        {
          "name": "stderr",
          "output_type": "stream",
          "text": [
            "/usr/local/lib/python3.10/dist-packages/sklearn/metrics/_classification.py:1531: UndefinedMetricWarning: Precision is ill-defined and being set to 0.0 in labels with no predicted samples. Use `zero_division` parameter to control this behavior.\n",
            "  _warn_prf(average, modifier, f\"{metric.capitalize()} is\", len(result))\n"
          ]
        },
        {
          "name": "stdout",
          "output_type": "stream",
          "text": [
            "Precision: 0.1213\n",
            "Recall: 0.3482\n",
            "F1 Score: 0.1799\n",
            "Accuracy: 0.3482\n",
            "Classification Report:\n"
          ]
        },
        {
          "name": "stderr",
          "output_type": "stream",
          "text": [
            "/usr/local/lib/python3.10/dist-packages/sklearn/metrics/_classification.py:1531: UndefinedMetricWarning: Precision is ill-defined and being set to 0.0 in labels with no predicted samples. Use `zero_division` parameter to control this behavior.\n",
            "  _warn_prf(average, modifier, f\"{metric.capitalize()} is\", len(result))\n",
            "/usr/local/lib/python3.10/dist-packages/sklearn/metrics/_classification.py:1531: UndefinedMetricWarning: Precision is ill-defined and being set to 0.0 in labels with no predicted samples. Use `zero_division` parameter to control this behavior.\n",
            "  _warn_prf(average, modifier, f\"{metric.capitalize()} is\", len(result))\n",
            "/usr/local/lib/python3.10/dist-packages/sklearn/metrics/_classification.py:1531: UndefinedMetricWarning: Precision is ill-defined and being set to 0.0 in labels with no predicted samples. Use `zero_division` parameter to control this behavior.\n",
            "  _warn_prf(average, modifier, f\"{metric.capitalize()} is\", len(result))\n"
          ]
        },
        {
          "name": "stdout",
          "output_type": "stream",
          "text": [
            "              precision    recall  f1-score   support\n",
            "\n",
            "           0       0.00      0.00      0.00     45199\n",
            "           1       0.35      1.00      0.52     69511\n",
            "           2       0.00      0.00      0.00     52118\n",
            "           3       0.00      0.00      0.00     21567\n",
            "           4       0.00      0.00      0.00     11221\n",
            "\n",
            "    accuracy                           0.35    199616\n",
            "   macro avg       0.07      0.20      0.10    199616\n",
            "weighted avg       0.12      0.35      0.18    199616\n",
            "\n",
            "Hit Ratio (HR) at 10: 1.0000\n",
            "NDCG at 10: 0.6949\n"
          ]
        }
      ],
      "source": [
        "feature_columns = ['Male', 'Female', 'Other', 'Academic/Educator', 'Artist', 'Clerical/Admin',\n",
        "                   'College/Grad Student', 'Customer Service', 'Doctor/Health Care', 'Executive/Managerial',\n",
        "                   'Farmer', 'HomeMaker', 'K-12 Student', 'Lawyer', 'Programmer', 'Retired', 'Sales/Marketing',\n",
        "                   'Scientist', 'Self-Employed', 'Technician/Engineer', 'Tradesman/Craftsman', 'Unemployed', 'Writer',\n",
        "                   'Under 18', '18-24', '25-34', '35-44', '45-49', '50-55', '56+']\n",
        "# Initialize NeuMFModel with desired hyperparameters\n",
        "model = NeuMFModel(latent_dim=8, hidden_units=[64], dropout_rate=0.2, l2_reg=0.01, batch_size=256, epochs=5)\n",
        "\n",
        "# Preprocess the data\n",
        "train_data, test_data = model.preprocess_data(merged_full, feature_columns)\n",
        "\n",
        "# Extract necessary information for model building\n",
        "num_users = len(model.user_mapping)\n",
        "num_movies = len(model.movie_mapping)\n",
        "num_ratings = len(model.rating_mapping)\n",
        "num_features = len(feature_columns)\n",
        "\n",
        "# Build the model\n",
        "model.build_model(num_users=num_users, num_movies=num_movies, num_ratings=num_ratings, num_features=num_features)\n",
        "\n",
        "# Train the model\n",
        "model.train(train_data, test_data)\n",
        "\n",
        "# Evaluate the model\n",
        "X_test, y_test = test_data\n",
        "precision, recall, f1, accuracy, hr, ndcg_score = model.evaluate(X_test, y_test)\n",
        "\n",
        "\n"
      ]
    },
    {
      "cell_type": "code",
      "execution_count": null,
      "id": "ASlyfHJPBb7m",
      "metadata": {
        "colab": {
          "base_uri": "https://localhost:8080/"
        },
        "id": "ASlyfHJPBb7m",
        "outputId": "67a9ad0b-1fed-42db-f14d-c73e2990ef44"
      },
      "outputs": [
        {
          "name": "stdout",
          "output_type": "stream",
          "text": [
            "Epoch 1/5\n",
            "\u001b[1m3119/3119\u001b[0m \u001b[32m━━━━━━━━━━━━━━━━━━━━\u001b[0m\u001b[37m\u001b[0m \u001b[1m38s\u001b[0m 11ms/step - accuracy: 0.3491 - loss: 1.5395 - val_accuracy: 0.4072 - val_loss: 1.4153\n",
            "Epoch 2/5\n",
            "\u001b[1m3119/3119\u001b[0m \u001b[32m━━━━━━━━━━━━━━━━━━━━\u001b[0m\u001b[37m\u001b[0m \u001b[1m40s\u001b[0m 11ms/step - accuracy: 0.4071 - loss: 1.4100 - val_accuracy: 0.4143 - val_loss: 1.3983\n",
            "Epoch 3/5\n",
            "\u001b[1m3119/3119\u001b[0m \u001b[32m━━━━━━━━━━━━━━━━━━━━\u001b[0m\u001b[37m\u001b[0m \u001b[1m37s\u001b[0m 11ms/step - accuracy: 0.4159 - loss: 1.3970 - val_accuracy: 0.4174 - val_loss: 1.3929\n",
            "Epoch 4/5\n",
            "\u001b[1m3119/3119\u001b[0m \u001b[32m━━━━━━━━━━━━━━━━━━━━\u001b[0m\u001b[37m\u001b[0m \u001b[1m41s\u001b[0m 10ms/step - accuracy: 0.4191 - loss: 1.3906 - val_accuracy: 0.4184 - val_loss: 1.3914\n",
            "Epoch 5/5\n",
            "\u001b[1m3119/3119\u001b[0m \u001b[32m━━━━━━━━━━━━━━━━━━━━\u001b[0m\u001b[37m\u001b[0m \u001b[1m38s\u001b[0m 11ms/step - accuracy: 0.4211 - loss: 1.3879 - val_accuracy: 0.4213 - val_loss: 1.3887\n",
            "\u001b[1m780/780\u001b[0m \u001b[32m━━━━━━━━━━━━━━━━━━━━\u001b[0m\u001b[37m\u001b[0m \u001b[1m4s\u001b[0m 5ms/step\n",
            "Precision: 0.4188\n",
            "Recall: 0.4213\n",
            "F1 Score: 0.3934\n",
            "Accuracy: 0.4213\n",
            "Classification Report:\n",
            "              precision    recall  f1-score   support\n",
            "\n",
            "           0       0.51      0.36      0.42     45199\n",
            "           1       0.42      0.67      0.51     69511\n",
            "           2       0.38      0.34      0.36     52118\n",
            "           3       0.33      0.05      0.09     21567\n",
            "           4       0.39      0.20      0.27     11221\n",
            "\n",
            "    accuracy                           0.42    199616\n",
            "   macro avg       0.41      0.33      0.33    199616\n",
            "weighted avg       0.42      0.42      0.39    199616\n",
            "\n",
            "Hit Ratio (HR) at 10: 1.0000\n",
            "NDCG at 10: 0.7408\n"
          ]
        }
      ],
      "source": [
        "feature_columns = ['Male', 'Female', 'Other', 'Academic/Educator', 'Artist', 'Clerical/Admin',\n",
        "                   'College/Grad Student', 'Customer Service', 'Doctor/Health Care', 'Executive/Managerial',\n",
        "                   'Farmer', 'HomeMaker', 'K-12 Student', 'Lawyer', 'Programmer', 'Retired', 'Sales/Marketing',\n",
        "                   'Scientist', 'Self-Employed', 'Technician/Engineer', 'Tradesman/Craftsman', 'Unemployed', 'Writer',\n",
        "                   'Under 18', '18-24', '25-34', '35-44', '45-49', '50-55', '56+']\n",
        "# Initialize NeuMFModel with desired hyperparameters\n",
        "model = NeuMFModel(latent_dim=16, hidden_units=[], dropout_rate=0.2, l2_reg=0.01, batch_size=256, epochs=5)\n",
        "\n",
        "# Preprocess the data\n",
        "train_data, test_data = model.preprocess_data(merged_full, feature_columns)\n",
        "\n",
        "# Extract necessary information for model building\n",
        "num_users = len(model.user_mapping)\n",
        "num_movies = len(model.movie_mapping)\n",
        "num_ratings = len(model.rating_mapping)\n",
        "num_features = len(feature_columns)\n",
        "\n",
        "# Build the model\n",
        "model.build_model(num_users=num_users, num_movies=num_movies, num_ratings=num_ratings, num_features=num_features)\n",
        "\n",
        "# Train the model\n",
        "model.train(train_data, test_data)\n",
        "\n",
        "# Evaluate the model\n",
        "X_test, y_test = test_data\n",
        "precision, recall, f1, accuracy, hr, ndcg_score = model.evaluate(X_test, y_test)\n",
        "\n",
        "\n"
      ]
    },
    {
      "cell_type": "code",
      "execution_count": null,
      "id": "lnyk1FqSBcFB",
      "metadata": {
        "colab": {
          "base_uri": "https://localhost:8080/"
        },
        "id": "lnyk1FqSBcFB",
        "outputId": "645b62d2-1a80-469c-bbef-f8943373a839"
      },
      "outputs": [
        {
          "name": "stdout",
          "output_type": "stream",
          "text": [
            "Epoch 1/5\n",
            "\u001b[1m3119/3119\u001b[0m \u001b[32m━━━━━━━━━━━━━━━━━━━━\u001b[0m\u001b[37m\u001b[0m \u001b[1m46s\u001b[0m 12ms/step - accuracy: 0.3432 - loss: 1.6044 - val_accuracy: 0.3482 - val_loss: 1.4546\n",
            "Epoch 2/5\n",
            "\u001b[1m3119/3119\u001b[0m \u001b[32m━━━━━━━━━━━━━━━━━━━━\u001b[0m\u001b[37m\u001b[0m \u001b[1m40s\u001b[0m 11ms/step - accuracy: 0.3484 - loss: 1.4551 - val_accuracy: 0.3482 - val_loss: 1.4551\n",
            "Epoch 3/5\n",
            "\u001b[1m3119/3119\u001b[0m \u001b[32m━━━━━━━━━━━━━━━━━━━━\u001b[0m\u001b[37m\u001b[0m \u001b[1m45s\u001b[0m 13ms/step - accuracy: 0.3491 - loss: 1.4544 - val_accuracy: 0.3482 - val_loss: 1.4541\n",
            "Epoch 4/5\n",
            "\u001b[1m3119/3119\u001b[0m \u001b[32m━━━━━━━━━━━━━━━━━━━━\u001b[0m\u001b[37m\u001b[0m \u001b[1m39s\u001b[0m 12ms/step - accuracy: 0.3484 - loss: 1.4544 - val_accuracy: 0.3482 - val_loss: 1.4540\n",
            "Epoch 5/5\n",
            "\u001b[1m3119/3119\u001b[0m \u001b[32m━━━━━━━━━━━━━━━━━━━━\u001b[0m\u001b[37m\u001b[0m \u001b[1m44s\u001b[0m 13ms/step - accuracy: 0.3493 - loss: 1.4539 - val_accuracy: 0.3482 - val_loss: 1.4540\n",
            "\u001b[1m780/780\u001b[0m \u001b[32m━━━━━━━━━━━━━━━━━━━━\u001b[0m\u001b[37m\u001b[0m \u001b[1m4s\u001b[0m 5ms/step\n"
          ]
        },
        {
          "name": "stderr",
          "output_type": "stream",
          "text": [
            "/usr/local/lib/python3.10/dist-packages/sklearn/metrics/_classification.py:1531: UndefinedMetricWarning: Precision is ill-defined and being set to 0.0 in labels with no predicted samples. Use `zero_division` parameter to control this behavior.\n",
            "  _warn_prf(average, modifier, f\"{metric.capitalize()} is\", len(result))\n"
          ]
        },
        {
          "name": "stdout",
          "output_type": "stream",
          "text": [
            "Precision: 0.1213\n",
            "Recall: 0.3482\n",
            "F1 Score: 0.1799\n",
            "Accuracy: 0.3482\n",
            "Classification Report:\n"
          ]
        },
        {
          "name": "stderr",
          "output_type": "stream",
          "text": [
            "/usr/local/lib/python3.10/dist-packages/sklearn/metrics/_classification.py:1531: UndefinedMetricWarning: Precision is ill-defined and being set to 0.0 in labels with no predicted samples. Use `zero_division` parameter to control this behavior.\n",
            "  _warn_prf(average, modifier, f\"{metric.capitalize()} is\", len(result))\n",
            "/usr/local/lib/python3.10/dist-packages/sklearn/metrics/_classification.py:1531: UndefinedMetricWarning: Precision is ill-defined and being set to 0.0 in labels with no predicted samples. Use `zero_division` parameter to control this behavior.\n",
            "  _warn_prf(average, modifier, f\"{metric.capitalize()} is\", len(result))\n",
            "/usr/local/lib/python3.10/dist-packages/sklearn/metrics/_classification.py:1531: UndefinedMetricWarning: Precision is ill-defined and being set to 0.0 in labels with no predicted samples. Use `zero_division` parameter to control this behavior.\n",
            "  _warn_prf(average, modifier, f\"{metric.capitalize()} is\", len(result))\n"
          ]
        },
        {
          "name": "stdout",
          "output_type": "stream",
          "text": [
            "              precision    recall  f1-score   support\n",
            "\n",
            "           0       0.00      0.00      0.00     45199\n",
            "           1       0.35      1.00      0.52     69511\n",
            "           2       0.00      0.00      0.00     52118\n",
            "           3       0.00      0.00      0.00     21567\n",
            "           4       0.00      0.00      0.00     11221\n",
            "\n",
            "    accuracy                           0.35    199616\n",
            "   macro avg       0.07      0.20      0.10    199616\n",
            "weighted avg       0.12      0.35      0.18    199616\n",
            "\n",
            "Hit Ratio (HR) at 10: 1.0000\n",
            "NDCG at 10: 0.6949\n"
          ]
        }
      ],
      "source": [
        "feature_columns = ['Male', 'Female', 'Other', 'Academic/Educator', 'Artist', 'Clerical/Admin',\n",
        "                   'College/Grad Student', 'Customer Service', 'Doctor/Health Care', 'Executive/Managerial',\n",
        "                   'Farmer', 'HomeMaker', 'K-12 Student', 'Lawyer', 'Programmer', 'Retired', 'Sales/Marketing',\n",
        "                   'Scientist', 'Self-Employed', 'Technician/Engineer', 'Tradesman/Craftsman', 'Unemployed', 'Writer',\n",
        "                   'Under 18', '18-24', '25-34', '35-44', '45-49', '50-55', '56+']\n",
        "# Initialize NeuMFModel with desired hyperparameters\n",
        "model = NeuMFModel(latent_dim=16, hidden_units=[64], dropout_rate=0.2, l2_reg=0.01, batch_size=256, epochs=5)\n",
        "\n",
        "# Preprocess the data\n",
        "train_data, test_data = model.preprocess_data(merged_full, feature_columns)\n",
        "\n",
        "# Extract necessary information for model building\n",
        "num_users = len(model.user_mapping)\n",
        "num_movies = len(model.movie_mapping)\n",
        "num_ratings = len(model.rating_mapping)\n",
        "num_features = len(feature_columns)\n",
        "\n",
        "# Build the model\n",
        "model.build_model(num_users=num_users, num_movies=num_movies, num_ratings=num_ratings, num_features=num_features)\n",
        "\n",
        "# Train the model\n",
        "model.train(train_data, test_data)\n",
        "\n",
        "# Evaluate the model\n",
        "X_test, y_test = test_data\n",
        "precision, recall, f1, accuracy, hr, ndcg_score = model.evaluate(X_test, y_test)\n",
        "\n",
        "\n"
      ]
    },
    {
      "cell_type": "code",
      "execution_count": null,
      "id": "CNUSjKFoBcqh",
      "metadata": {
        "colab": {
          "base_uri": "https://localhost:8080/"
        },
        "id": "CNUSjKFoBcqh",
        "outputId": "b51ca2c9-f9a3-4653-9404-d18d29b8a775"
      },
      "outputs": [
        {
          "name": "stdout",
          "output_type": "stream",
          "text": [
            "Epoch 1/5\n",
            "\u001b[1m3119/3119\u001b[0m \u001b[32m━━━━━━━━━━━━━━━━━━━━\u001b[0m\u001b[37m\u001b[0m \u001b[1m47s\u001b[0m 13ms/step - accuracy: 0.3446 - loss: 1.6592 - val_accuracy: 0.3482 - val_loss: 1.4566\n",
            "Epoch 2/5\n",
            "\u001b[1m3119/3119\u001b[0m \u001b[32m━━━━━━━━━━━━━━━━━━━━\u001b[0m\u001b[37m\u001b[0m \u001b[1m81s\u001b[0m 12ms/step - accuracy: 0.3493 - loss: 1.4560 - val_accuracy: 0.3482 - val_loss: 1.4566\n",
            "Epoch 3/5\n",
            "\u001b[1m3119/3119\u001b[0m \u001b[32m━━━━━━━━━━━━━━━━━━━━\u001b[0m\u001b[37m\u001b[0m \u001b[1m52s\u001b[0m 15ms/step - accuracy: 0.3493 - loss: 1.4565 - val_accuracy: 0.3482 - val_loss: 1.4565\n",
            "Epoch 4/5\n",
            "\u001b[1m3119/3119\u001b[0m \u001b[32m━━━━━━━━━━━━━━━━━━━━\u001b[0m\u001b[37m\u001b[0m \u001b[1m44s\u001b[0m 13ms/step - accuracy: 0.3492 - loss: 1.4566 - val_accuracy: 0.3482 - val_loss: 1.4565\n",
            "Epoch 5/5\n",
            "\u001b[1m3119/3119\u001b[0m \u001b[32m━━━━━━━━━━━━━━━━━━━━\u001b[0m\u001b[37m\u001b[0m \u001b[1m44s\u001b[0m 13ms/step - accuracy: 0.3485 - loss: 1.4568 - val_accuracy: 0.3482 - val_loss: 1.4566\n",
            "\u001b[1m780/780\u001b[0m \u001b[32m━━━━━━━━━━━━━━━━━━━━\u001b[0m\u001b[37m\u001b[0m \u001b[1m4s\u001b[0m 5ms/step\n"
          ]
        },
        {
          "name": "stderr",
          "output_type": "stream",
          "text": [
            "/usr/local/lib/python3.10/dist-packages/sklearn/metrics/_classification.py:1531: UndefinedMetricWarning: Precision is ill-defined and being set to 0.0 in labels with no predicted samples. Use `zero_division` parameter to control this behavior.\n",
            "  _warn_prf(average, modifier, f\"{metric.capitalize()} is\", len(result))\n"
          ]
        },
        {
          "name": "stdout",
          "output_type": "stream",
          "text": [
            "Precision: 0.1213\n",
            "Recall: 0.3482\n",
            "F1 Score: 0.1799\n",
            "Accuracy: 0.3482\n",
            "Classification Report:\n"
          ]
        },
        {
          "name": "stderr",
          "output_type": "stream",
          "text": [
            "/usr/local/lib/python3.10/dist-packages/sklearn/metrics/_classification.py:1531: UndefinedMetricWarning: Precision is ill-defined and being set to 0.0 in labels with no predicted samples. Use `zero_division` parameter to control this behavior.\n",
            "  _warn_prf(average, modifier, f\"{metric.capitalize()} is\", len(result))\n",
            "/usr/local/lib/python3.10/dist-packages/sklearn/metrics/_classification.py:1531: UndefinedMetricWarning: Precision is ill-defined and being set to 0.0 in labels with no predicted samples. Use `zero_division` parameter to control this behavior.\n",
            "  _warn_prf(average, modifier, f\"{metric.capitalize()} is\", len(result))\n",
            "/usr/local/lib/python3.10/dist-packages/sklearn/metrics/_classification.py:1531: UndefinedMetricWarning: Precision is ill-defined and being set to 0.0 in labels with no predicted samples. Use `zero_division` parameter to control this behavior.\n",
            "  _warn_prf(average, modifier, f\"{metric.capitalize()} is\", len(result))\n"
          ]
        },
        {
          "name": "stdout",
          "output_type": "stream",
          "text": [
            "              precision    recall  f1-score   support\n",
            "\n",
            "           0       0.00      0.00      0.00     45199\n",
            "           1       0.35      1.00      0.52     69511\n",
            "           2       0.00      0.00      0.00     52118\n",
            "           3       0.00      0.00      0.00     21567\n",
            "           4       0.00      0.00      0.00     11221\n",
            "\n",
            "    accuracy                           0.35    199616\n",
            "   macro avg       0.07      0.20      0.10    199616\n",
            "weighted avg       0.12      0.35      0.18    199616\n",
            "\n",
            "Hit Ratio (HR) at 10: 1.0000\n",
            "NDCG at 10: 0.6944\n"
          ]
        }
      ],
      "source": [
        "feature_columns = ['Male', 'Female', 'Other', 'Academic/Educator', 'Artist', 'Clerical/Admin',\n",
        "                   'College/Grad Student', 'Customer Service', 'Doctor/Health Care', 'Executive/Managerial',\n",
        "                   'Farmer', 'HomeMaker', 'K-12 Student', 'Lawyer', 'Programmer', 'Retired', 'Sales/Marketing',\n",
        "                   'Scientist', 'Self-Employed', 'Technician/Engineer', 'Tradesman/Craftsman', 'Unemployed', 'Writer',\n",
        "                   'Under 18', '18-24', '25-34', '35-44', '45-49', '50-55', '56+']\n",
        "# Initialize NeuMFModel with desired hyperparameters\n",
        "model = NeuMFModel(latent_dim=16, hidden_units=[64, 32], dropout_rate=0.2, l2_reg=0.01, batch_size=256, epochs=5)\n",
        "\n",
        "# Preprocess the data\n",
        "train_data, test_data = model.preprocess_data(merged_full, feature_columns)\n",
        "\n",
        "# Extract necessary information for model building\n",
        "num_users = len(model.user_mapping)\n",
        "num_movies = len(model.movie_mapping)\n",
        "num_ratings = len(model.rating_mapping)\n",
        "num_features = len(feature_columns)\n",
        "\n",
        "# Build the model\n",
        "model.build_model(num_users=num_users, num_movies=num_movies, num_ratings=num_ratings, num_features=num_features)\n",
        "\n",
        "# Train the model\n",
        "model.train(train_data, test_data)\n",
        "\n",
        "# Evaluate the model\n",
        "X_test, y_test = test_data\n",
        "precision, recall, f1, accuracy, hr, ndcg_score = model.evaluate(X_test, y_test)\n",
        "\n",
        "\n"
      ]
    },
    {
      "cell_type": "code",
      "execution_count": null,
      "id": "GxiNJBMiBczI",
      "metadata": {
        "colab": {
          "base_uri": "https://localhost:8080/"
        },
        "id": "GxiNJBMiBczI",
        "outputId": "dfd0b65c-2418-4bb2-e6c5-f19bbb893677"
      },
      "outputs": [
        {
          "name": "stdout",
          "output_type": "stream",
          "text": [
            "Epoch 1/5\n",
            "\u001b[1m3119/3119\u001b[0m \u001b[32m━━━━━━━━━━━━━━━━━━━━\u001b[0m\u001b[37m\u001b[0m \u001b[1m52s\u001b[0m 15ms/step - accuracy: 0.3519 - loss: 1.6200 - val_accuracy: 0.4037 - val_loss: 1.4381\n",
            "Epoch 2/5\n",
            "\u001b[1m3119/3119\u001b[0m \u001b[32m━━━━━━━━━━━━━━━━━━━━\u001b[0m\u001b[37m\u001b[0m \u001b[1m50s\u001b[0m 15ms/step - accuracy: 0.4069 - loss: 1.4320 - val_accuracy: 0.4107 - val_loss: 1.4263\n",
            "Epoch 3/5\n",
            "\u001b[1m3119/3119\u001b[0m \u001b[32m━━━━━━━━━━━━━━━━━━━━\u001b[0m\u001b[37m\u001b[0m \u001b[1m51s\u001b[0m 15ms/step - accuracy: 0.4124 - loss: 1.4237 - val_accuracy: 0.4110 - val_loss: 1.4232\n",
            "Epoch 4/5\n",
            "\u001b[1m3119/3119\u001b[0m \u001b[32m━━━━━━━━━━━━━━━━━━━━\u001b[0m\u001b[37m\u001b[0m \u001b[1m82s\u001b[0m 15ms/step - accuracy: 0.4139 - loss: 1.4207 - val_accuracy: 0.4146 - val_loss: 1.4178\n",
            "Epoch 5/5\n",
            "\u001b[1m3119/3119\u001b[0m \u001b[32m━━━━━━━━━━━━━━━━━━━━\u001b[0m\u001b[37m\u001b[0m \u001b[1m76s\u001b[0m 13ms/step - accuracy: 0.4151 - loss: 1.4166 - val_accuracy: 0.4156 - val_loss: 1.4136\n",
            "\u001b[1m780/780\u001b[0m \u001b[32m━━━━━━━━━━━━━━━━━━━━\u001b[0m\u001b[37m\u001b[0m \u001b[1m2s\u001b[0m 2ms/step\n",
            "Precision: 0.4132\n",
            "Recall: 0.4156\n",
            "F1 Score: 0.3880\n",
            "Accuracy: 0.4156\n",
            "Classification Report:\n",
            "              precision    recall  f1-score   support\n",
            "\n",
            "           0       0.50      0.36      0.41     45199\n",
            "           1       0.41      0.65      0.50     69511\n",
            "           2       0.37      0.37      0.37     52118\n",
            "           3       0.34      0.04      0.08     21567\n",
            "           4       0.39      0.17      0.23     11221\n",
            "\n",
            "    accuracy                           0.42    199616\n",
            "   macro avg       0.40      0.32      0.32    199616\n",
            "weighted avg       0.41      0.42      0.39    199616\n",
            "\n",
            "Hit Ratio (HR) at 10: 1.0000\n",
            "NDCG at 10: 0.7378\n"
          ]
        }
      ],
      "source": [
        "feature_columns = ['Male', 'Female', 'Other', 'Academic/Educator', 'Artist', 'Clerical/Admin',\n",
        "                   'College/Grad Student', 'Customer Service', 'Doctor/Health Care', 'Executive/Managerial',\n",
        "                   'Farmer', 'HomeMaker', 'K-12 Student', 'Lawyer', 'Programmer', 'Retired', 'Sales/Marketing',\n",
        "                   'Scientist', 'Self-Employed', 'Technician/Engineer', 'Tradesman/Craftsman', 'Unemployed', 'Writer',\n",
        "                   'Under 18', '18-24', '25-34', '35-44', '45-49', '50-55', '56+']\n",
        "# Initialize NeuMFModel with desired hyperparameters\n",
        "model = NeuMFModel(latent_dim=32, hidden_units=[], dropout_rate=0.2, l2_reg=0.01, batch_size=256, epochs=5)\n",
        "\n",
        "# Preprocess the data\n",
        "train_data, test_data = model.preprocess_data(merged_full, feature_columns)\n",
        "\n",
        "# Extract necessary information for model building\n",
        "num_users = len(model.user_mapping)\n",
        "num_movies = len(model.movie_mapping)\n",
        "num_ratings = len(model.rating_mapping)\n",
        "num_features = len(feature_columns)\n",
        "\n",
        "# Build the model\n",
        "model.build_model(num_users=num_users, num_movies=num_movies, num_ratings=num_ratings, num_features=num_features)\n",
        "\n",
        "# Train the model\n",
        "model.train(train_data, test_data)\n",
        "\n",
        "# Evaluate the model\n",
        "X_test, y_test = test_data\n",
        "precision, recall, f1, accuracy, hr, ndcg_score = model.evaluate(X_test, y_test)\n",
        "\n",
        "\n"
      ]
    },
    {
      "cell_type": "code",
      "execution_count": null,
      "id": "j0sBTw2CBc7c",
      "metadata": {
        "colab": {
          "base_uri": "https://localhost:8080/"
        },
        "id": "j0sBTw2CBc7c",
        "outputId": "3e37dabf-66ef-4c05-afe6-3376d9d27d8b"
      },
      "outputs": [
        {
          "name": "stdout",
          "output_type": "stream",
          "text": [
            "Epoch 1/5\n",
            "\u001b[1m3119/3119\u001b[0m \u001b[32m━━━━━━━━━━━━━━━━━━━━\u001b[0m\u001b[37m\u001b[0m \u001b[1m48s\u001b[0m 14ms/step - accuracy: 0.3436 - loss: 1.6749 - val_accuracy: 0.3482 - val_loss: 1.4550\n",
            "Epoch 2/5\n",
            "\u001b[1m3119/3119\u001b[0m \u001b[32m━━━━━━━━━━━━━━━━━━━━\u001b[0m\u001b[37m\u001b[0m \u001b[1m46s\u001b[0m 14ms/step - accuracy: 0.3492 - loss: 1.4548 - val_accuracy: 0.3482 - val_loss: 1.4548\n",
            "Epoch 3/5\n",
            "\u001b[1m3119/3119\u001b[0m \u001b[32m━━━━━━━━━━━━━━━━━━━━\u001b[0m\u001b[37m\u001b[0m \u001b[1m46s\u001b[0m 14ms/step - accuracy: 0.3489 - loss: 1.4537 - val_accuracy: 0.3482 - val_loss: 1.4543\n",
            "Epoch 4/5\n",
            "\u001b[1m3119/3119\u001b[0m \u001b[32m━━━━━━━━━━━━━━━━━━━━\u001b[0m\u001b[37m\u001b[0m \u001b[1m47s\u001b[0m 14ms/step - accuracy: 0.3488 - loss: 1.4542 - val_accuracy: 0.3482 - val_loss: 1.4549\n",
            "Epoch 5/5\n",
            "\u001b[1m3119/3119\u001b[0m \u001b[32m━━━━━━━━━━━━━━━━━━━━\u001b[0m\u001b[37m\u001b[0m \u001b[1m48s\u001b[0m 15ms/step - accuracy: 0.3479 - loss: 1.4545 - val_accuracy: 0.3482 - val_loss: 1.4542\n",
            "\u001b[1m780/780\u001b[0m \u001b[32m━━━━━━━━━━━━━━━━━━━━\u001b[0m\u001b[37m\u001b[0m \u001b[1m2s\u001b[0m 3ms/step\n"
          ]
        },
        {
          "name": "stderr",
          "output_type": "stream",
          "text": [
            "/usr/local/lib/python3.10/dist-packages/sklearn/metrics/_classification.py:1531: UndefinedMetricWarning: Precision is ill-defined and being set to 0.0 in labels with no predicted samples. Use `zero_division` parameter to control this behavior.\n",
            "  _warn_prf(average, modifier, f\"{metric.capitalize()} is\", len(result))\n"
          ]
        },
        {
          "name": "stdout",
          "output_type": "stream",
          "text": [
            "Precision: 0.1213\n",
            "Recall: 0.3482\n",
            "F1 Score: 0.1799\n",
            "Accuracy: 0.3482\n",
            "Classification Report:\n"
          ]
        },
        {
          "name": "stderr",
          "output_type": "stream",
          "text": [
            "/usr/local/lib/python3.10/dist-packages/sklearn/metrics/_classification.py:1531: UndefinedMetricWarning: Precision is ill-defined and being set to 0.0 in labels with no predicted samples. Use `zero_division` parameter to control this behavior.\n",
            "  _warn_prf(average, modifier, f\"{metric.capitalize()} is\", len(result))\n",
            "/usr/local/lib/python3.10/dist-packages/sklearn/metrics/_classification.py:1531: UndefinedMetricWarning: Precision is ill-defined and being set to 0.0 in labels with no predicted samples. Use `zero_division` parameter to control this behavior.\n",
            "  _warn_prf(average, modifier, f\"{metric.capitalize()} is\", len(result))\n",
            "/usr/local/lib/python3.10/dist-packages/sklearn/metrics/_classification.py:1531: UndefinedMetricWarning: Precision is ill-defined and being set to 0.0 in labels with no predicted samples. Use `zero_division` parameter to control this behavior.\n",
            "  _warn_prf(average, modifier, f\"{metric.capitalize()} is\", len(result))\n"
          ]
        },
        {
          "name": "stdout",
          "output_type": "stream",
          "text": [
            "              precision    recall  f1-score   support\n",
            "\n",
            "           0       0.00      0.00      0.00     45199\n",
            "           1       0.35      1.00      0.52     69511\n",
            "           2       0.00      0.00      0.00     52118\n",
            "           3       0.00      0.00      0.00     21567\n",
            "           4       0.00      0.00      0.00     11221\n",
            "\n",
            "    accuracy                           0.35    199616\n",
            "   macro avg       0.07      0.20      0.10    199616\n",
            "weighted avg       0.12      0.35      0.18    199616\n",
            "\n",
            "Hit Ratio (HR) at 10: 1.0000\n",
            "NDCG at 10: 0.6947\n"
          ]
        }
      ],
      "source": [
        "feature_columns = ['Male', 'Female', 'Other', 'Academic/Educator', 'Artist', 'Clerical/Admin',\n",
        "                   'College/Grad Student', 'Customer Service', 'Doctor/Health Care', 'Executive/Managerial',\n",
        "                   'Farmer', 'HomeMaker', 'K-12 Student', 'Lawyer', 'Programmer', 'Retired', 'Sales/Marketing',\n",
        "                   'Scientist', 'Self-Employed', 'Technician/Engineer', 'Tradesman/Craftsman', 'Unemployed', 'Writer',\n",
        "                   'Under 18', '18-24', '25-34', '35-44', '45-49', '50-55', '56+']\n",
        "# Initialize NeuMFModel with desired hyperparameters\n",
        "model = NeuMFModel(latent_dim=32, hidden_units=[64], dropout_rate=0.2, l2_reg=0.01, batch_size=256, epochs=5)\n",
        "\n",
        "# Preprocess the data\n",
        "train_data, test_data = model.preprocess_data(merged_full, feature_columns)\n",
        "\n",
        "# Extract necessary information for model building\n",
        "num_users = len(model.user_mapping)\n",
        "num_movies = len(model.movie_mapping)\n",
        "num_ratings = len(model.rating_mapping)\n",
        "num_features = len(feature_columns)\n",
        "\n",
        "# Build the model\n",
        "model.build_model(num_users=num_users, num_movies=num_movies, num_ratings=num_ratings, num_features=num_features)\n",
        "\n",
        "# Train the model\n",
        "model.train(train_data, test_data)\n",
        "\n",
        "# Evaluate the model\n",
        "X_test, y_test = test_data\n",
        "precision, recall, f1, accuracy, hr, ndcg_score = model.evaluate(X_test, y_test)\n",
        "\n",
        "\n"
      ]
    },
    {
      "cell_type": "code",
      "execution_count": null,
      "id": "G2NL4hkFBdCq",
      "metadata": {
        "colab": {
          "base_uri": "https://localhost:8080/"
        },
        "id": "G2NL4hkFBdCq",
        "outputId": "921839eb-49cf-4651-f2be-2abaef45db26"
      },
      "outputs": [
        {
          "name": "stdout",
          "output_type": "stream",
          "text": [
            "Epoch 1/5\n",
            "\u001b[1m3119/3119\u001b[0m \u001b[32m━━━━━━━━━━━━━━━━━━━━\u001b[0m\u001b[37m\u001b[0m \u001b[1m52s\u001b[0m 15ms/step - accuracy: 0.3472 - loss: 1.7231 - val_accuracy: 0.3482 - val_loss: 1.4566\n",
            "Epoch 2/5\n",
            "\u001b[1m3119/3119\u001b[0m \u001b[32m━━━━━━━━━━━━━━━━━━━━\u001b[0m\u001b[37m\u001b[0m \u001b[1m55s\u001b[0m 16ms/step - accuracy: 0.3491 - loss: 1.4560 - val_accuracy: 0.3482 - val_loss: 1.4566\n",
            "Epoch 3/5\n",
            "\u001b[1m3119/3119\u001b[0m \u001b[32m━━━━━━━━━━━━━━━━━━━━\u001b[0m\u001b[37m\u001b[0m \u001b[1m51s\u001b[0m 15ms/step - accuracy: 0.3489 - loss: 1.4561 - val_accuracy: 0.3482 - val_loss: 1.4566\n",
            "Epoch 4/5\n",
            "\u001b[1m3119/3119\u001b[0m \u001b[32m━━━━━━━━━━━━━━━━━━━━\u001b[0m\u001b[37m\u001b[0m \u001b[1m81s\u001b[0m 15ms/step - accuracy: 0.3487 - loss: 1.4567 - val_accuracy: 0.3482 - val_loss: 1.4567\n",
            "Epoch 5/5\n",
            "\u001b[1m3119/3119\u001b[0m \u001b[32m━━━━━━━━━━━━━━━━━━━━\u001b[0m\u001b[37m\u001b[0m \u001b[1m51s\u001b[0m 15ms/step - accuracy: 0.3492 - loss: 1.4554 - val_accuracy: 0.3482 - val_loss: 1.4566\n",
            "\u001b[1m780/780\u001b[0m \u001b[32m━━━━━━━━━━━━━━━━━━━━\u001b[0m\u001b[37m\u001b[0m \u001b[1m4s\u001b[0m 5ms/step\n"
          ]
        },
        {
          "name": "stderr",
          "output_type": "stream",
          "text": [
            "/usr/local/lib/python3.10/dist-packages/sklearn/metrics/_classification.py:1531: UndefinedMetricWarning: Precision is ill-defined and being set to 0.0 in labels with no predicted samples. Use `zero_division` parameter to control this behavior.\n",
            "  _warn_prf(average, modifier, f\"{metric.capitalize()} is\", len(result))\n"
          ]
        },
        {
          "name": "stdout",
          "output_type": "stream",
          "text": [
            "Precision: 0.1213\n",
            "Recall: 0.3482\n",
            "F1 Score: 0.1799\n",
            "Accuracy: 0.3482\n",
            "Classification Report:\n"
          ]
        },
        {
          "name": "stderr",
          "output_type": "stream",
          "text": [
            "/usr/local/lib/python3.10/dist-packages/sklearn/metrics/_classification.py:1531: UndefinedMetricWarning: Precision is ill-defined and being set to 0.0 in labels with no predicted samples. Use `zero_division` parameter to control this behavior.\n",
            "  _warn_prf(average, modifier, f\"{metric.capitalize()} is\", len(result))\n",
            "/usr/local/lib/python3.10/dist-packages/sklearn/metrics/_classification.py:1531: UndefinedMetricWarning: Precision is ill-defined and being set to 0.0 in labels with no predicted samples. Use `zero_division` parameter to control this behavior.\n",
            "  _warn_prf(average, modifier, f\"{metric.capitalize()} is\", len(result))\n",
            "/usr/local/lib/python3.10/dist-packages/sklearn/metrics/_classification.py:1531: UndefinedMetricWarning: Precision is ill-defined and being set to 0.0 in labels with no predicted samples. Use `zero_division` parameter to control this behavior.\n",
            "  _warn_prf(average, modifier, f\"{metric.capitalize()} is\", len(result))\n"
          ]
        },
        {
          "name": "stdout",
          "output_type": "stream",
          "text": [
            "              precision    recall  f1-score   support\n",
            "\n",
            "           0       0.00      0.00      0.00     45199\n",
            "           1       0.35      1.00      0.52     69511\n",
            "           2       0.00      0.00      0.00     52118\n",
            "           3       0.00      0.00      0.00     21567\n",
            "           4       0.00      0.00      0.00     11221\n",
            "\n",
            "    accuracy                           0.35    199616\n",
            "   macro avg       0.07      0.20      0.10    199616\n",
            "weighted avg       0.12      0.35      0.18    199616\n",
            "\n",
            "Hit Ratio (HR) at 10: 1.0000\n",
            "NDCG at 10: 0.6944\n"
          ]
        }
      ],
      "source": [
        "feature_columns = ['Male', 'Female', 'Other', 'Academic/Educator', 'Artist', 'Clerical/Admin',\n",
        "                   'College/Grad Student', 'Customer Service', 'Doctor/Health Care', 'Executive/Managerial',\n",
        "                   'Farmer', 'HomeMaker', 'K-12 Student', 'Lawyer', 'Programmer', 'Retired', 'Sales/Marketing',\n",
        "                   'Scientist', 'Self-Employed', 'Technician/Engineer', 'Tradesman/Craftsman', 'Unemployed', 'Writer',\n",
        "                   'Under 18', '18-24', '25-34', '35-44', '45-49', '50-55', '56+']\n",
        "# Initialize NeuMFModel with desired hyperparameters\n",
        "model = NeuMFModel(latent_dim=32, hidden_units=[64,32], dropout_rate=0.2, l2_reg=0.01, batch_size=256, epochs=5)\n",
        "\n",
        "# Preprocess the data\n",
        "train_data, test_data = model.preprocess_data(merged_full, feature_columns)\n",
        "\n",
        "# Extract necessary information for model building\n",
        "num_users = len(model.user_mapping)\n",
        "num_movies = len(model.movie_mapping)\n",
        "num_ratings = len(model.rating_mapping)\n",
        "num_features = len(feature_columns)\n",
        "\n",
        "# Build the model\n",
        "model.build_model(num_users=num_users, num_movies=num_movies, num_ratings=num_ratings, num_features=num_features)\n",
        "\n",
        "# Train the model\n",
        "model.train(train_data, test_data)\n",
        "\n",
        "# Evaluate the model\n",
        "X_test, y_test = test_data\n",
        "precision, recall, f1, accuracy, hr, ndcg_score = model.evaluate(X_test, y_test)\n",
        "\n",
        "\n"
      ]
    },
    {
      "cell_type": "code",
      "execution_count": null,
      "id": "F9mX8jOHBdJG",
      "metadata": {
        "colab": {
          "base_uri": "https://localhost:8080/"
        },
        "id": "F9mX8jOHBdJG",
        "outputId": "6f7fbbc6-4817-49db-e7d6-c35767b57945"
      },
      "outputs": [
        {
          "name": "stdout",
          "output_type": "stream",
          "text": [
            "Epoch 1/5\n",
            "\u001b[1m3119/3119\u001b[0m \u001b[32m━━━━━━━━━━━━━━━━━━━━\u001b[0m\u001b[37m\u001b[0m \u001b[1m94s\u001b[0m 25ms/step - accuracy: 0.3530 - loss: 1.7704 - val_accuracy: 0.3982 - val_loss: 1.4665\n",
            "Epoch 2/5\n",
            "\u001b[1m3119/3119\u001b[0m \u001b[32m━━━━━━━━━━━━━━━━━━━━\u001b[0m\u001b[37m\u001b[0m \u001b[1m119s\u001b[0m 20ms/step - accuracy: 0.4027 - loss: 1.4604 - val_accuracy: 0.4042 - val_loss: 1.4533\n",
            "Epoch 3/5\n",
            "\u001b[1m3119/3119\u001b[0m \u001b[32m━━━━━━━━━━━━━━━━━━━━\u001b[0m\u001b[37m\u001b[0m \u001b[1m73s\u001b[0m 22ms/step - accuracy: 0.4069 - loss: 1.4491 - val_accuracy: 0.4104 - val_loss: 1.4397\n",
            "Epoch 4/5\n",
            "\u001b[1m3119/3119\u001b[0m \u001b[32m━━━━━━━━━━━━━━━━━━━━\u001b[0m\u001b[37m\u001b[0m \u001b[1m78s\u001b[0m 21ms/step - accuracy: 0.4099 - loss: 1.4390 - val_accuracy: 0.4136 - val_loss: 1.4283\n",
            "Epoch 5/5\n",
            "\u001b[1m3119/3119\u001b[0m \u001b[32m━━━━━━━━━━━━━━━━━━━━\u001b[0m\u001b[37m\u001b[0m \u001b[1m66s\u001b[0m 20ms/step - accuracy: 0.4149 - loss: 1.4253 - val_accuracy: 0.4159 - val_loss: 1.4187\n",
            "\u001b[1m780/780\u001b[0m \u001b[32m━━━━━━━━━━━━━━━━━━━━\u001b[0m\u001b[37m\u001b[0m \u001b[1m2s\u001b[0m 3ms/step\n",
            "Precision: 0.4118\n",
            "Recall: 0.4159\n",
            "F1 Score: 0.3867\n",
            "Accuracy: 0.4159\n",
            "Classification Report:\n",
            "              precision    recall  f1-score   support\n",
            "\n",
            "           0       0.50      0.35      0.41     45199\n",
            "           1       0.42      0.64      0.51     69511\n",
            "           2       0.37      0.39      0.38     52118\n",
            "           3       0.32      0.03      0.06     21567\n",
            "           4       0.39      0.13      0.20     11221\n",
            "\n",
            "    accuracy                           0.42    199616\n",
            "   macro avg       0.40      0.31      0.31    199616\n",
            "weighted avg       0.41      0.42      0.39    199616\n",
            "\n",
            "Hit Ratio (HR) at 10: 1.0000\n",
            "NDCG at 10: 0.7379\n"
          ]
        }
      ],
      "source": [
        "feature_columns = ['Male', 'Female', 'Other', 'Academic/Educator', 'Artist', 'Clerical/Admin',\n",
        "                   'College/Grad Student', 'Customer Service', 'Doctor/Health Care', 'Executive/Managerial',\n",
        "                   'Farmer', 'HomeMaker', 'K-12 Student', 'Lawyer', 'Programmer', 'Retired', 'Sales/Marketing',\n",
        "                   'Scientist', 'Self-Employed', 'Technician/Engineer', 'Tradesman/Craftsman', 'Unemployed', 'Writer',\n",
        "                   'Under 18', '18-24', '25-34', '35-44', '45-49', '50-55', '56+']\n",
        "# Initialize NeuMFModel with desired hyperparameters\n",
        "model = NeuMFModel(latent_dim=64, hidden_units=[], dropout_rate=0.2, l2_reg=0.01, batch_size=256, epochs=5)\n",
        "\n",
        "# Preprocess the data\n",
        "train_data, test_data = model.preprocess_data(merged_full, feature_columns)\n",
        "\n",
        "# Extract necessary information for model building\n",
        "num_users = len(model.user_mapping)\n",
        "num_movies = len(model.movie_mapping)\n",
        "num_ratings = len(model.rating_mapping)\n",
        "num_features = len(feature_columns)\n",
        "\n",
        "# Build the model\n",
        "model.build_model(num_users=num_users, num_movies=num_movies, num_ratings=num_ratings, num_features=num_features)\n",
        "\n",
        "# Train the model\n",
        "model.train(train_data, test_data)\n",
        "\n",
        "# Evaluate the model\n",
        "X_test, y_test = test_data\n",
        "precision, recall, f1, accuracy, hr, ndcg_score = model.evaluate(X_test, y_test)\n",
        "\n",
        "\n"
      ]
    },
    {
      "cell_type": "code",
      "execution_count": null,
      "id": "u8hmN93dBdP4",
      "metadata": {
        "colab": {
          "background_save": true,
          "base_uri": "https://localhost:8080/"
        },
        "id": "u8hmN93dBdP4",
        "outputId": "9dc7ac21-dbdd-4cf2-8386-ad7c28e19111"
      },
      "outputs": [
        {
          "name": "stdout",
          "output_type": "stream",
          "text": [
            "Epoch 1/5\n",
            "\u001b[1m3119/3119\u001b[0m \u001b[32m━━━━━━━━━━━━━━━━━━━━\u001b[0m\u001b[37m\u001b[0m \u001b[1m75s\u001b[0m 22ms/step - accuracy: 0.3461 - loss: 1.8186 - val_accuracy: 0.3482 - val_loss: 1.4544\n",
            "Epoch 2/5\n",
            "\u001b[1m3119/3119\u001b[0m \u001b[32m━━━━━━━━━━━━━━━━━━━━\u001b[0m\u001b[37m\u001b[0m \u001b[1m73s\u001b[0m 22ms/step - accuracy: 0.3487 - loss: 1.4550 - val_accuracy: 0.3482 - val_loss: 1.4542\n",
            "Epoch 3/5\n",
            "\u001b[1m3119/3119\u001b[0m \u001b[32m━━━━━━━━━━━━━━━━━━━━\u001b[0m\u001b[37m\u001b[0m \u001b[1m91s\u001b[0m 25ms/step - accuracy: 0.3495 - loss: 1.4535 - val_accuracy: 0.3482 - val_loss: 1.4549\n",
            "Epoch 4/5\n",
            "\u001b[1m3119/3119\u001b[0m \u001b[32m━━━━━━━━━━━━━━━━━━━━\u001b[0m\u001b[37m\u001b[0m \u001b[1m135s\u001b[0m 23ms/step - accuracy: 0.3493 - loss: 1.4535 - val_accuracy: 0.3482 - val_loss: 1.4541\n",
            "Epoch 5/5\n",
            "\u001b[1m3119/3119\u001b[0m \u001b[32m━━━━━━━━━━━━━━━━━━━━\u001b[0m\u001b[37m\u001b[0m \u001b[1m72s\u001b[0m 22ms/step - accuracy: 0.3485 - loss: 1.4541 - val_accuracy: 0.3482 - val_loss: 1.4541\n",
            "\u001b[1m780/780\u001b[0m \u001b[32m━━━━━━━━━━━━━━━━━━━━\u001b[0m\u001b[37m\u001b[0m \u001b[1m5s\u001b[0m 6ms/step\n"
          ]
        },
        {
          "name": "stderr",
          "output_type": "stream",
          "text": [
            "/usr/local/lib/python3.10/dist-packages/sklearn/metrics/_classification.py:1531: UndefinedMetricWarning: Precision is ill-defined and being set to 0.0 in labels with no predicted samples. Use `zero_division` parameter to control this behavior.\n",
            "  _warn_prf(average, modifier, f\"{metric.capitalize()} is\", len(result))\n"
          ]
        },
        {
          "name": "stdout",
          "output_type": "stream",
          "text": [
            "Precision: 0.1213\n",
            "Recall: 0.3482\n",
            "F1 Score: 0.1799\n",
            "Accuracy: 0.3482\n",
            "Classification Report:\n"
          ]
        },
        {
          "name": "stderr",
          "output_type": "stream",
          "text": [
            "/usr/local/lib/python3.10/dist-packages/sklearn/metrics/_classification.py:1531: UndefinedMetricWarning: Precision is ill-defined and being set to 0.0 in labels with no predicted samples. Use `zero_division` parameter to control this behavior.\n",
            "  _warn_prf(average, modifier, f\"{metric.capitalize()} is\", len(result))\n",
            "/usr/local/lib/python3.10/dist-packages/sklearn/metrics/_classification.py:1531: UndefinedMetricWarning: Precision is ill-defined and being set to 0.0 in labels with no predicted samples. Use `zero_division` parameter to control this behavior.\n",
            "  _warn_prf(average, modifier, f\"{metric.capitalize()} is\", len(result))\n",
            "/usr/local/lib/python3.10/dist-packages/sklearn/metrics/_classification.py:1531: UndefinedMetricWarning: Precision is ill-defined and being set to 0.0 in labels with no predicted samples. Use `zero_division` parameter to control this behavior.\n",
            "  _warn_prf(average, modifier, f\"{metric.capitalize()} is\", len(result))\n"
          ]
        },
        {
          "name": "stdout",
          "output_type": "stream",
          "text": [
            "              precision    recall  f1-score   support\n",
            "\n",
            "           0       0.00      0.00      0.00     45199\n",
            "           1       0.35      1.00      0.52     69511\n",
            "           2       0.00      0.00      0.00     52118\n",
            "           3       0.00      0.00      0.00     21567\n",
            "           4       0.00      0.00      0.00     11221\n",
            "\n",
            "    accuracy                           0.35    199616\n",
            "   macro avg       0.07      0.20      0.10    199616\n",
            "weighted avg       0.12      0.35      0.18    199616\n",
            "\n",
            "Hit Ratio (HR) at 10: 1.0000\n",
            "NDCG at 10: 0.6949\n"
          ]
        }
      ],
      "source": [
        "feature_columns = ['Male', 'Female', 'Other', 'Academic/Educator', 'Artist', 'Clerical/Admin',\n",
        "                   'College/Grad Student', 'Customer Service', 'Doctor/Health Care', 'Executive/Managerial',\n",
        "                   'Farmer', 'HomeMaker', 'K-12 Student', 'Lawyer', 'Programmer', 'Retired', 'Sales/Marketing',\n",
        "                   'Scientist', 'Self-Employed', 'Technician/Engineer', 'Tradesman/Craftsman', 'Unemployed', 'Writer',\n",
        "                   'Under 18', '18-24', '25-34', '35-44', '45-49', '50-55', '56+']\n",
        "# Initialize NeuMFModel with desired hyperparameters\n",
        "model = NeuMFModel(latent_dim=64, hidden_units=[64], dropout_rate=0.2, l2_reg=0.01, batch_size=256, epochs=5)\n",
        "\n",
        "# Preprocess the data\n",
        "train_data, test_data = model.preprocess_data(merged_full, feature_columns)\n",
        "\n",
        "# Extract necessary information for model building\n",
        "num_users = len(model.user_mapping)\n",
        "num_movies = len(model.movie_mapping)\n",
        "num_ratings = len(model.rating_mapping)\n",
        "num_features = len(feature_columns)\n",
        "\n",
        "# Build the model\n",
        "model.build_model(num_users=num_users, num_movies=num_movies, num_ratings=num_ratings, num_features=num_features)\n",
        "\n",
        "# Train the model\n",
        "model.train(train_data, test_data)\n",
        "\n",
        "# Evaluate the model\n",
        "X_test, y_test = test_data\n",
        "precision, recall, f1, accuracy, hr, ndcg_score = model.evaluate(X_test, y_test)\n",
        "\n",
        "\n"
      ]
    },
    {
      "cell_type": "code",
      "execution_count": null,
      "id": "UwKqurfDBdVx",
      "metadata": {
        "colab": {
          "background_save": true
        },
        "id": "UwKqurfDBdVx",
        "outputId": "5292bf25-7fcd-4516-f7e2-d7b0a4f3f960"
      },
      "outputs": [
        {
          "name": "stdout",
          "output_type": "stream",
          "text": [
            "Epoch 1/5\n",
            "\u001b[1m3119/3119\u001b[0m \u001b[32m━━━━━━━━━━━━━━━━━━━━\u001b[0m\u001b[37m\u001b[0m \u001b[1m84s\u001b[0m 25ms/step - accuracy: 0.3461 - loss: 1.8673 - val_accuracy: 0.3482 - val_loss: 1.4566\n",
            "Epoch 2/5\n",
            "\u001b[1m3119/3119\u001b[0m \u001b[32m━━━━━━━━━━━━━━━━━━━━\u001b[0m\u001b[37m\u001b[0m \u001b[1m79s\u001b[0m 24ms/step - accuracy: 0.3486 - loss: 1.4570 - val_accuracy: 0.3482 - val_loss: 1.4567\n",
            "Epoch 3/5\n",
            "\u001b[1m3119/3119\u001b[0m \u001b[32m━━━━━━━━━━━━━━━━━━━━\u001b[0m\u001b[37m\u001b[0m \u001b[1m77s\u001b[0m 23ms/step - accuracy: 0.3492 - loss: 1.4562 - val_accuracy: 0.3482 - val_loss: 1.4568\n",
            "Epoch 4/5\n",
            "\u001b[1m3119/3119\u001b[0m \u001b[32m━━━━━━━━━━━━━━━━━━━━\u001b[0m\u001b[37m\u001b[0m \u001b[1m84s\u001b[0m 24ms/step - accuracy: 0.3492 - loss: 1.4551 - val_accuracy: 0.3482 - val_loss: 1.4566\n",
            "Epoch 5/5\n",
            "\u001b[1m3119/3119\u001b[0m \u001b[32m━━━━━━━━━━━━━━━━━━━━\u001b[0m\u001b[37m\u001b[0m \u001b[1m74s\u001b[0m 23ms/step - accuracy: 0.3484 - loss: 1.4568 - val_accuracy: 0.3482 - val_loss: 1.4568\n",
            "\u001b[1m780/780\u001b[0m \u001b[32m━━━━━━━━━━━━━━━━━━━━\u001b[0m\u001b[37m\u001b[0m \u001b[1m3s\u001b[0m 4ms/step\n"
          ]
        },
        {
          "name": "stderr",
          "output_type": "stream",
          "text": [
            "/usr/local/lib/python3.10/dist-packages/sklearn/metrics/_classification.py:1531: UndefinedMetricWarning: Precision is ill-defined and being set to 0.0 in labels with no predicted samples. Use `zero_division` parameter to control this behavior.\n",
            "  _warn_prf(average, modifier, f\"{metric.capitalize()} is\", len(result))\n"
          ]
        },
        {
          "name": "stdout",
          "output_type": "stream",
          "text": [
            "Precision: 0.1213\n",
            "Recall: 0.3482\n",
            "F1 Score: 0.1799\n",
            "Accuracy: 0.3482\n",
            "Classification Report:\n"
          ]
        },
        {
          "name": "stderr",
          "output_type": "stream",
          "text": [
            "/usr/local/lib/python3.10/dist-packages/sklearn/metrics/_classification.py:1531: UndefinedMetricWarning: Precision is ill-defined and being set to 0.0 in labels with no predicted samples. Use `zero_division` parameter to control this behavior.\n",
            "  _warn_prf(average, modifier, f\"{metric.capitalize()} is\", len(result))\n",
            "/usr/local/lib/python3.10/dist-packages/sklearn/metrics/_classification.py:1531: UndefinedMetricWarning: Precision is ill-defined and being set to 0.0 in labels with no predicted samples. Use `zero_division` parameter to control this behavior.\n",
            "  _warn_prf(average, modifier, f\"{metric.capitalize()} is\", len(result))\n",
            "/usr/local/lib/python3.10/dist-packages/sklearn/metrics/_classification.py:1531: UndefinedMetricWarning: Precision is ill-defined and being set to 0.0 in labels with no predicted samples. Use `zero_division` parameter to control this behavior.\n",
            "  _warn_prf(average, modifier, f\"{metric.capitalize()} is\", len(result))\n"
          ]
        },
        {
          "name": "stdout",
          "output_type": "stream",
          "text": [
            "              precision    recall  f1-score   support\n",
            "\n",
            "           0       0.00      0.00      0.00     45199\n",
            "           1       0.35      1.00      0.52     69511\n",
            "           2       0.00      0.00      0.00     52118\n",
            "           3       0.00      0.00      0.00     21567\n",
            "           4       0.00      0.00      0.00     11221\n",
            "\n",
            "    accuracy                           0.35    199616\n",
            "   macro avg       0.07      0.20      0.10    199616\n",
            "weighted avg       0.12      0.35      0.18    199616\n",
            "\n",
            "Hit Ratio (HR) at 10: 1.0000\n",
            "NDCG at 10: 0.6944\n"
          ]
        }
      ],
      "source": [
        "feature_columns = ['Male', 'Female', 'Other', 'Academic/Educator', 'Artist', 'Clerical/Admin',\n",
        "                   'College/Grad Student', 'Customer Service', 'Doctor/Health Care', 'Executive/Managerial',\n",
        "                   'Farmer', 'HomeMaker', 'K-12 Student', 'Lawyer', 'Programmer', 'Retired', 'Sales/Marketing',\n",
        "                   'Scientist', 'Self-Employed', 'Technician/Engineer', 'Tradesman/Craftsman', 'Unemployed', 'Writer',\n",
        "                   'Under 18', '18-24', '25-34', '35-44', '45-49', '50-55', '56+']\n",
        "# Initialize NeuMFModel with desired hyperparameters\n",
        "model = NeuMFModel(latent_dim=64, hidden_units=[64,32], dropout_rate=0.2, l2_reg=0.01, batch_size=256, epochs=5)\n",
        "\n",
        "# Preprocess the data\n",
        "train_data, test_data = model.preprocess_data(merged_full, feature_columns)\n",
        "\n",
        "# Extract necessary information for model building\n",
        "num_users = len(model.user_mapping)\n",
        "num_movies = len(model.movie_mapping)\n",
        "num_ratings = len(model.rating_mapping)\n",
        "num_features = len(feature_columns)\n",
        "\n",
        "# Build the model\n",
        "model.build_model(num_users=num_users, num_movies=num_movies, num_ratings=num_ratings, num_features=num_features)\n",
        "\n",
        "# Train the model\n",
        "model.train(train_data, test_data)\n",
        "\n",
        "# Evaluate the model\n",
        "X_test, y_test = test_data\n",
        "precision, recall, f1, accuracy, hr, ndcg_score = model.evaluate(X_test, y_test)\n",
        "\n",
        "\n"
      ]
    },
    {
      "cell_type": "code",
      "execution_count": null,
      "id": "rs2iyk8PBdcu",
      "metadata": {
        "id": "rs2iyk8PBdcu"
      },
      "outputs": [],
      "source": []
    }
  ],
  "metadata": {
    "colab": {
      "provenance": [],
      "toc_visible": true
    },
    "kernelspec": {
      "display_name": "Python 3",
      "name": "python3"
    },
    "language_info": {
      "codemirror_mode": {
        "name": "ipython",
        "version": 3
      },
      "file_extension": ".py",
      "mimetype": "text/x-python",
      "name": "python",
      "nbconvert_exporter": "python",
      "pygments_lexer": "ipython3",
      "version": "3.11.5"
    }
  },
  "nbformat": 4,
  "nbformat_minor": 5
}